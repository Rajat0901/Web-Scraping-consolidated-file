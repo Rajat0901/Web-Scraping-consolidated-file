{
 "cells": [
  {
   "cell_type": "code",
   "execution_count": 1,
   "metadata": {},
   "outputs": [
    {
     "name": "stdout",
     "output_type": "stream",
     "text": [
      "Requirement already satisfied: selenium in c:\\users\\rajat jibhkate\\anaconda3\\lib\\site-packages (3.141.0)\n",
      "Requirement already satisfied: urllib3 in c:\\users\\rajat jibhkate\\anaconda3\\lib\\site-packages (from selenium) (1.25.11)\n"
     ]
    }
   ],
   "source": [
    "#Intalling selenium\n",
    "\n",
    "!pip install selenium"
   ]
  },
  {
   "cell_type": "code",
   "execution_count": 2,
   "metadata": {},
   "outputs": [],
   "source": [
    "#Importing requried lib.\n",
    "\n",
    "import selenium\n",
    "import pandas as pd\n",
    "from selenium import webdriver\n",
    "import time\n",
    "from selenium.common.exceptions import NoSuchElementException"
   ]
  },
  {
   "cell_type": "markdown",
   "metadata": {},
   "source": [
    "# Q1: Write a python program to scrape data for “Data Analyst” Job position in \n",
    "“Bangalore” location. You have to scrape the job-title, job-location, company_name,\n",
    "experience_required. You have to scrape first 10 jobs data.\n",
    "This task will be done in following steps:\n",
    "1. first get the webpage https://www.naukri.com/\n",
    "2. Enter “Data Analyst” in “Skill,Designations,Companies” field and enter “Bangalore” \n",
    "in “enter the location” field.\n",
    "3. Then click the search button.\n",
    "4. Then scrape the data for the first 10 jobs results you get.\n",
    "5. Finally create a dataframe of the scraped data.\n",
    "Note- All of the above steps have to be done in code. No step is to be done manually.\n"
   ]
  },
  {
   "cell_type": "code",
   "execution_count": 3,
   "metadata": {},
   "outputs": [],
   "source": [
    "driver = webdriver.Chrome(r\"C:\\Users\\Rajat Jibhkate\\Downloads\\chromedriver_win32\\chromedriver.exe\")"
   ]
  },
  {
   "cell_type": "code",
   "execution_count": 4,
   "metadata": {},
   "outputs": [],
   "source": [
    "url = \"https://www.naukri.com/\"\n",
    "driver.get(url)"
   ]
  },
  {
   "cell_type": "code",
   "execution_count": 5,
   "metadata": {},
   "outputs": [
    {
     "data": {
      "text/plain": [
       "<selenium.webdriver.remote.webelement.WebElement (session=\"fa7815ca1dc6373d0148b18ef4ce5877\", element=\"b810bb39-cb9e-45c9-b66c-dfe51e3992aa\")>"
      ]
     },
     "execution_count": 5,
     "metadata": {},
     "output_type": "execute_result"
    }
   ],
   "source": [
    "search_job = driver.find_element_by_id(\"qsb-keyword-sugg\")\n",
    "search_job"
   ]
  },
  {
   "cell_type": "code",
   "execution_count": 6,
   "metadata": {},
   "outputs": [],
   "source": [
    "search_job.send_keys(\"Data Scientist\")"
   ]
  },
  {
   "cell_type": "code",
   "execution_count": 7,
   "metadata": {},
   "outputs": [
    {
     "data": {
      "text/plain": [
       "<selenium.webdriver.remote.webelement.WebElement (session=\"fa7815ca1dc6373d0148b18ef4ce5877\", element=\"ab923ad2-f591-4e2d-9d7b-f94067dfa1f1\")>"
      ]
     },
     "execution_count": 7,
     "metadata": {},
     "output_type": "execute_result"
    }
   ],
   "source": [
    "search_loc = driver.find_element_by_id(\"qsb-location-sugg\")\n",
    "search_loc"
   ]
  },
  {
   "cell_type": "code",
   "execution_count": 8,
   "metadata": {},
   "outputs": [],
   "source": [
    "search_loc.send_keys(\"Bangalore\")"
   ]
  },
  {
   "cell_type": "code",
   "execution_count": 9,
   "metadata": {},
   "outputs": [],
   "source": [
    "search_btn = driver.find_element_by_xpath(\"//button[@class='btn']\")\n",
    "search_btn.click()"
   ]
  },
  {
   "cell_type": "code",
   "execution_count": 10,
   "metadata": {},
   "outputs": [
    {
     "data": {
      "text/plain": [
       "[<selenium.webdriver.remote.webelement.WebElement (session=\"fa7815ca1dc6373d0148b18ef4ce5877\", element=\"48a90ad1-3c91-4189-9044-4ced42f6dd82\")>,\n",
       " <selenium.webdriver.remote.webelement.WebElement (session=\"fa7815ca1dc6373d0148b18ef4ce5877\", element=\"8d7ff732-a835-4df7-9548-1a8c1067e5fb\")>,\n",
       " <selenium.webdriver.remote.webelement.WebElement (session=\"fa7815ca1dc6373d0148b18ef4ce5877\", element=\"60982bf7-d9eb-4334-b182-d1df388ff209\")>,\n",
       " <selenium.webdriver.remote.webelement.WebElement (session=\"fa7815ca1dc6373d0148b18ef4ce5877\", element=\"8fec7b0a-9545-42c5-86e5-bad6863e6b89\")>,\n",
       " <selenium.webdriver.remote.webelement.WebElement (session=\"fa7815ca1dc6373d0148b18ef4ce5877\", element=\"6e6f8c5a-eedd-49d0-82ed-bad954427230\")>,\n",
       " <selenium.webdriver.remote.webelement.WebElement (session=\"fa7815ca1dc6373d0148b18ef4ce5877\", element=\"9e73b64a-445f-4344-a096-949f35cceeb5\")>,\n",
       " <selenium.webdriver.remote.webelement.WebElement (session=\"fa7815ca1dc6373d0148b18ef4ce5877\", element=\"b68added-f770-404a-a5f8-d6ed2cef01ff\")>,\n",
       " <selenium.webdriver.remote.webelement.WebElement (session=\"fa7815ca1dc6373d0148b18ef4ce5877\", element=\"202bea44-76ed-49cf-971d-c47973432047\")>,\n",
       " <selenium.webdriver.remote.webelement.WebElement (session=\"fa7815ca1dc6373d0148b18ef4ce5877\", element=\"c034c507-05bb-48ac-9890-4a77a0a75c6e\")>,\n",
       " <selenium.webdriver.remote.webelement.WebElement (session=\"fa7815ca1dc6373d0148b18ef4ce5877\", element=\"75f94fbe-2adc-4068-a61c-49a262f7c0b4\")>,\n",
       " <selenium.webdriver.remote.webelement.WebElement (session=\"fa7815ca1dc6373d0148b18ef4ce5877\", element=\"794046e2-2424-42af-a4fd-92490c651079\")>,\n",
       " <selenium.webdriver.remote.webelement.WebElement (session=\"fa7815ca1dc6373d0148b18ef4ce5877\", element=\"6486f290-4fe6-420e-bdc7-74a79c74a3f6\")>,\n",
       " <selenium.webdriver.remote.webelement.WebElement (session=\"fa7815ca1dc6373d0148b18ef4ce5877\", element=\"0c6f5f65-4ca0-44cb-8117-5b695def95c9\")>,\n",
       " <selenium.webdriver.remote.webelement.WebElement (session=\"fa7815ca1dc6373d0148b18ef4ce5877\", element=\"c04fb4ef-7236-4647-86fd-a62c67754112\")>,\n",
       " <selenium.webdriver.remote.webelement.WebElement (session=\"fa7815ca1dc6373d0148b18ef4ce5877\", element=\"18b7a3f3-c0c5-489f-b7f7-e453ce80f976\")>,\n",
       " <selenium.webdriver.remote.webelement.WebElement (session=\"fa7815ca1dc6373d0148b18ef4ce5877\", element=\"26f05880-77d3-43ac-af0a-835895a0b37d\")>,\n",
       " <selenium.webdriver.remote.webelement.WebElement (session=\"fa7815ca1dc6373d0148b18ef4ce5877\", element=\"e4196b5e-0194-4ba9-ab48-5678f7e05bdc\")>,\n",
       " <selenium.webdriver.remote.webelement.WebElement (session=\"fa7815ca1dc6373d0148b18ef4ce5877\", element=\"21faa40b-95d0-4f8c-b82f-913b44806b32\")>,\n",
       " <selenium.webdriver.remote.webelement.WebElement (session=\"fa7815ca1dc6373d0148b18ef4ce5877\", element=\"67617e40-e62a-4625-94b3-cabc5b537cdc\")>,\n",
       " <selenium.webdriver.remote.webelement.WebElement (session=\"fa7815ca1dc6373d0148b18ef4ce5877\", element=\"676324ef-81ef-4abb-bd57-ae5bd28cd15f\")>]"
      ]
     },
     "execution_count": 10,
     "metadata": {},
     "output_type": "execute_result"
    }
   ],
   "source": [
    "titles_tags = driver.find_elements_by_xpath(\"//a[@class='title fw500 ellipsis']\")\n",
    "titles_tags"
   ]
  },
  {
   "cell_type": "code",
   "execution_count": 11,
   "metadata": {},
   "outputs": [
    {
     "data": {
      "text/plain": [
       "['Data Scientist',\n",
       " 'Lead Data Scientist',\n",
       " 'Data Scientist / Data Analyst -Business Analyst',\n",
       " 'Data Scientist: Advanced Analytics',\n",
       " 'Data Scientist',\n",
       " 'Senior Data Scientist',\n",
       " 'EXL - Senior Data Scientist, 5+ yrs, Mumbai / PUNE / BLR / Chennai',\n",
       " 'Data Scientist',\n",
       " 'Senior Data Scientist/ Tech Lead - SQL/ Python/ Big Data',\n",
       " 'Data Scientist',\n",
       " 'Data Scientist',\n",
       " 'Data Scientist',\n",
       " 'Data Scientist',\n",
       " 'Data Scientist 2',\n",
       " 'Data Scientist 2',\n",
       " 'Data Scientist',\n",
       " 'Hiring Data Scientist',\n",
       " 'DHS _ Hiring For Data Scientist - India',\n",
       " 'Data Scientist: Artificial Intelligence',\n",
       " 'Data Scientist']"
      ]
     },
     "execution_count": 11,
     "metadata": {},
     "output_type": "execute_result"
    }
   ],
   "source": [
    "job_titles=[]\n",
    "for i in titles_tags:\n",
    "    job_titles.append(i.text)\n",
    "job_titles    "
   ]
  },
  {
   "cell_type": "code",
   "execution_count": 12,
   "metadata": {},
   "outputs": [
    {
     "data": {
      "text/plain": [
       "[<selenium.webdriver.remote.webelement.WebElement (session=\"fa7815ca1dc6373d0148b18ef4ce5877\", element=\"95430956-8270-4678-86b6-c48bc7e22e2e\")>,\n",
       " <selenium.webdriver.remote.webelement.WebElement (session=\"fa7815ca1dc6373d0148b18ef4ce5877\", element=\"597f3b78-6bd6-42d0-91e7-67818bfd55de\")>,\n",
       " <selenium.webdriver.remote.webelement.WebElement (session=\"fa7815ca1dc6373d0148b18ef4ce5877\", element=\"7a9e02d3-492e-4aa9-a123-851a7a6ba682\")>,\n",
       " <selenium.webdriver.remote.webelement.WebElement (session=\"fa7815ca1dc6373d0148b18ef4ce5877\", element=\"966aed00-e4a2-4f7b-bdef-f5098ee283b6\")>,\n",
       " <selenium.webdriver.remote.webelement.WebElement (session=\"fa7815ca1dc6373d0148b18ef4ce5877\", element=\"930d20c8-55b4-4b53-b18a-bf849fb45286\")>,\n",
       " <selenium.webdriver.remote.webelement.WebElement (session=\"fa7815ca1dc6373d0148b18ef4ce5877\", element=\"41423efc-56f9-4811-b4f7-23cea4cc2a8a\")>,\n",
       " <selenium.webdriver.remote.webelement.WebElement (session=\"fa7815ca1dc6373d0148b18ef4ce5877\", element=\"decf6f02-6b28-435a-9f61-7144cd4a42be\")>,\n",
       " <selenium.webdriver.remote.webelement.WebElement (session=\"fa7815ca1dc6373d0148b18ef4ce5877\", element=\"e838e7a7-27d5-4f54-a0b2-38e807f49985\")>,\n",
       " <selenium.webdriver.remote.webelement.WebElement (session=\"fa7815ca1dc6373d0148b18ef4ce5877\", element=\"7a0d7b06-d495-4860-8e24-f1d573b1dab7\")>,\n",
       " <selenium.webdriver.remote.webelement.WebElement (session=\"fa7815ca1dc6373d0148b18ef4ce5877\", element=\"c3181868-c564-4f38-9cbb-41363af9a398\")>,\n",
       " <selenium.webdriver.remote.webelement.WebElement (session=\"fa7815ca1dc6373d0148b18ef4ce5877\", element=\"ae200a5e-5ebe-4961-b2c1-7a78eed26328\")>,\n",
       " <selenium.webdriver.remote.webelement.WebElement (session=\"fa7815ca1dc6373d0148b18ef4ce5877\", element=\"fd6d1353-24b6-4f59-ba55-b597f6eda57c\")>,\n",
       " <selenium.webdriver.remote.webelement.WebElement (session=\"fa7815ca1dc6373d0148b18ef4ce5877\", element=\"3bf42637-ebc8-4a09-9c63-19bf3674a33b\")>,\n",
       " <selenium.webdriver.remote.webelement.WebElement (session=\"fa7815ca1dc6373d0148b18ef4ce5877\", element=\"ea0ad6e2-d57c-48f9-be50-8816e617065a\")>,\n",
       " <selenium.webdriver.remote.webelement.WebElement (session=\"fa7815ca1dc6373d0148b18ef4ce5877\", element=\"6988f0e8-e73c-4c97-b46c-e9aad4ed984b\")>,\n",
       " <selenium.webdriver.remote.webelement.WebElement (session=\"fa7815ca1dc6373d0148b18ef4ce5877\", element=\"79045a7c-be29-4406-90c8-bc98758296c5\")>,\n",
       " <selenium.webdriver.remote.webelement.WebElement (session=\"fa7815ca1dc6373d0148b18ef4ce5877\", element=\"1867f5f5-9fd3-45d7-a356-d67bc4c97eda\")>,\n",
       " <selenium.webdriver.remote.webelement.WebElement (session=\"fa7815ca1dc6373d0148b18ef4ce5877\", element=\"46dba992-1e80-4a58-a2b2-15bb1e9c0488\")>,\n",
       " <selenium.webdriver.remote.webelement.WebElement (session=\"fa7815ca1dc6373d0148b18ef4ce5877\", element=\"2e9ff376-7bd2-47a9-bb8a-13ddefdb7dbe\")>,\n",
       " <selenium.webdriver.remote.webelement.WebElement (session=\"fa7815ca1dc6373d0148b18ef4ce5877\", element=\"c70ccf9e-679f-4388-af2a-d854819ed9e8\")>]"
      ]
     },
     "execution_count": 12,
     "metadata": {},
     "output_type": "execute_result"
    }
   ],
   "source": [
    "companies_titles = driver.find_elements_by_xpath(\"//a[@class='subTitle ellipsis fleft']\")\n",
    "companies_titles"
   ]
  },
  {
   "cell_type": "code",
   "execution_count": 15,
   "metadata": {},
   "outputs": [
    {
     "data": {
      "text/plain": [
       "['Flipkart Internet Private Limited',\n",
       " 'bd',\n",
       " 'Inflexion Analytix Private Limited',\n",
       " 'IBM India Pvt. Limited',\n",
       " 'IBM India Pvt. Limited',\n",
       " 'inVentiv International Pharma Services Pvt. Ltd.',\n",
       " 'EXL Service',\n",
       " 'Applied Materials',\n",
       " 'Exploro Solutions',\n",
       " 'Center for Study of Science, Technology and Policy',\n",
       " 'Oracle India Pvt. Ltd.',\n",
       " 'NatWest Markets',\n",
       " 'Vision Beyond Resources India Private Limited',\n",
       " 'Gojek Tech',\n",
       " 'GO-JEK India',\n",
       " 'Blue Ocean Catalyst Private Limited',\n",
       " 'IHX private limited',\n",
       " 'DeliverHealth Solutions',\n",
       " 'IBM India Pvt. Limited',\n",
       " 'IBM India Pvt. Limited']"
      ]
     },
     "execution_count": 15,
     "metadata": {},
     "output_type": "execute_result"
    }
   ],
   "source": [
    "companies_names=[]\n",
    "for i in companies_titles:\n",
    "    companies_names.append(i.text)\n",
    "companies_names   "
   ]
  },
  {
   "cell_type": "code",
   "execution_count": 16,
   "metadata": {},
   "outputs": [],
   "source": [
    "experience_tags = driver.find_elements_by_xpath(\"//li[@class='fleft grey-text br2 placeHolderLi experience']//span\")"
   ]
  },
  {
   "cell_type": "code",
   "execution_count": 17,
   "metadata": {},
   "outputs": [
    {
     "data": {
      "text/plain": [
       "[<selenium.webdriver.remote.webelement.WebElement (session=\"fa7815ca1dc6373d0148b18ef4ce5877\", element=\"cf604b69-4730-4ba5-8b59-b3554f2d03ff\")>,\n",
       " <selenium.webdriver.remote.webelement.WebElement (session=\"fa7815ca1dc6373d0148b18ef4ce5877\", element=\"3a10d634-6f6c-4957-867a-e97d72225d77\")>,\n",
       " <selenium.webdriver.remote.webelement.WebElement (session=\"fa7815ca1dc6373d0148b18ef4ce5877\", element=\"1b72bbb4-9d97-4bc5-8495-ee47cf1c8090\")>,\n",
       " <selenium.webdriver.remote.webelement.WebElement (session=\"fa7815ca1dc6373d0148b18ef4ce5877\", element=\"9884761e-7a43-4c03-a570-82d9b568b95d\")>,\n",
       " <selenium.webdriver.remote.webelement.WebElement (session=\"fa7815ca1dc6373d0148b18ef4ce5877\", element=\"c5fdf337-6a68-409d-a8c3-2aeece0bb3b4\")>,\n",
       " <selenium.webdriver.remote.webelement.WebElement (session=\"fa7815ca1dc6373d0148b18ef4ce5877\", element=\"8cf8cf7f-2f86-4ae5-851d-91917c61061d\")>,\n",
       " <selenium.webdriver.remote.webelement.WebElement (session=\"fa7815ca1dc6373d0148b18ef4ce5877\", element=\"04ba64c3-f466-4148-8188-e248c6fac408\")>,\n",
       " <selenium.webdriver.remote.webelement.WebElement (session=\"fa7815ca1dc6373d0148b18ef4ce5877\", element=\"2fab2a5b-a481-41c8-bea9-027a83d661cc\")>,\n",
       " <selenium.webdriver.remote.webelement.WebElement (session=\"fa7815ca1dc6373d0148b18ef4ce5877\", element=\"4f700938-388f-4101-961f-da42599ffee7\")>,\n",
       " <selenium.webdriver.remote.webelement.WebElement (session=\"fa7815ca1dc6373d0148b18ef4ce5877\", element=\"7d03ad87-c4fe-4faa-930f-66e1b3ce7df3\")>,\n",
       " <selenium.webdriver.remote.webelement.WebElement (session=\"fa7815ca1dc6373d0148b18ef4ce5877\", element=\"159a7271-46a0-4cdb-8cf4-a27017aec557\")>,\n",
       " <selenium.webdriver.remote.webelement.WebElement (session=\"fa7815ca1dc6373d0148b18ef4ce5877\", element=\"1d8917b8-dac2-4eb4-b857-6e1ae0854ec9\")>,\n",
       " <selenium.webdriver.remote.webelement.WebElement (session=\"fa7815ca1dc6373d0148b18ef4ce5877\", element=\"e1b9961d-6509-45c9-929c-0d4221b406e7\")>,\n",
       " <selenium.webdriver.remote.webelement.WebElement (session=\"fa7815ca1dc6373d0148b18ef4ce5877\", element=\"d63b1245-fad2-4094-a47c-bb5cab1d832c\")>,\n",
       " <selenium.webdriver.remote.webelement.WebElement (session=\"fa7815ca1dc6373d0148b18ef4ce5877\", element=\"292aaab4-ec2c-4d9d-a4ba-b8e16f7f5c23\")>,\n",
       " <selenium.webdriver.remote.webelement.WebElement (session=\"fa7815ca1dc6373d0148b18ef4ce5877\", element=\"5275641e-755a-41be-89f1-d950ad8e5343\")>,\n",
       " <selenium.webdriver.remote.webelement.WebElement (session=\"fa7815ca1dc6373d0148b18ef4ce5877\", element=\"4cbb16b1-adf4-4eb3-b0da-67e8756d39cd\")>,\n",
       " <selenium.webdriver.remote.webelement.WebElement (session=\"fa7815ca1dc6373d0148b18ef4ce5877\", element=\"071e5ad7-c376-40ed-9edf-b69a1b0dd7bc\")>,\n",
       " <selenium.webdriver.remote.webelement.WebElement (session=\"fa7815ca1dc6373d0148b18ef4ce5877\", element=\"a9a8766d-1ce8-4fb6-bf3a-ad679d900675\")>,\n",
       " <selenium.webdriver.remote.webelement.WebElement (session=\"fa7815ca1dc6373d0148b18ef4ce5877\", element=\"993c6c0a-c3b2-45d0-8c63-50d951b99641\")>]"
      ]
     },
     "execution_count": 17,
     "metadata": {},
     "output_type": "execute_result"
    }
   ],
   "source": [
    "experience_tags"
   ]
  },
  {
   "cell_type": "code",
   "execution_count": 18,
   "metadata": {},
   "outputs": [
    {
     "data": {
      "text/plain": [
       "['0-5 Yrs',\n",
       " '2-7 Yrs',\n",
       " '0-3 Yrs',\n",
       " '5-10 Yrs',\n",
       " '3-6 Yrs',\n",
       " '3-6 Yrs',\n",
       " '5-10 Yrs',\n",
       " '5-10 Yrs',\n",
       " '5-10 Yrs',\n",
       " '2-4 Yrs',\n",
       " '5-9 Yrs',\n",
       " '3-6 Yrs',\n",
       " '10-19 Yrs',\n",
       " '4-8 Yrs',\n",
       " '6-11 Yrs',\n",
       " '2-6 Yrs',\n",
       " '4-6 Yrs',\n",
       " '1-6 Yrs',\n",
       " '4-8 Yrs',\n",
       " '6-10 Yrs']"
      ]
     },
     "execution_count": 18,
     "metadata": {},
     "output_type": "execute_result"
    }
   ],
   "source": [
    "experience_required=[]\n",
    "for i in experience_tags:\n",
    "    experience_required.append(i.text)\n",
    "experience_required"
   ]
  },
  {
   "cell_type": "code",
   "execution_count": 19,
   "metadata": {},
   "outputs": [],
   "source": [
    "location_tags = driver.find_elements_by_xpath(\"//li[@class='fleft grey-text br2 placeHolderLi location']//span\")"
   ]
  },
  {
   "cell_type": "code",
   "execution_count": 20,
   "metadata": {},
   "outputs": [
    {
     "data": {
      "text/plain": [
       "[<selenium.webdriver.remote.webelement.WebElement (session=\"fa7815ca1dc6373d0148b18ef4ce5877\", element=\"7e92b8bb-ad74-4822-9d9f-c220206f1224\")>,\n",
       " <selenium.webdriver.remote.webelement.WebElement (session=\"fa7815ca1dc6373d0148b18ef4ce5877\", element=\"0781e2bd-1a70-40b7-ac89-13055e322399\")>,\n",
       " <selenium.webdriver.remote.webelement.WebElement (session=\"fa7815ca1dc6373d0148b18ef4ce5877\", element=\"076268af-ba08-438c-b87e-e29e07c3c0e0\")>,\n",
       " <selenium.webdriver.remote.webelement.WebElement (session=\"fa7815ca1dc6373d0148b18ef4ce5877\", element=\"b532c2e9-b645-4fee-b336-b69bd12df961\")>,\n",
       " <selenium.webdriver.remote.webelement.WebElement (session=\"fa7815ca1dc6373d0148b18ef4ce5877\", element=\"5e3717a5-0c49-47af-941f-9177c1fd40b5\")>,\n",
       " <selenium.webdriver.remote.webelement.WebElement (session=\"fa7815ca1dc6373d0148b18ef4ce5877\", element=\"cb94cd75-bd42-45dd-9b2f-6bd7240bdc0d\")>,\n",
       " <selenium.webdriver.remote.webelement.WebElement (session=\"fa7815ca1dc6373d0148b18ef4ce5877\", element=\"c9e056c1-3def-459f-85b5-a2216fcc136f\")>,\n",
       " <selenium.webdriver.remote.webelement.WebElement (session=\"fa7815ca1dc6373d0148b18ef4ce5877\", element=\"31b2d491-2675-4654-9da7-9d27c684f44b\")>,\n",
       " <selenium.webdriver.remote.webelement.WebElement (session=\"fa7815ca1dc6373d0148b18ef4ce5877\", element=\"60947a02-b719-4ff8-92f1-ca6e6973a7e1\")>,\n",
       " <selenium.webdriver.remote.webelement.WebElement (session=\"fa7815ca1dc6373d0148b18ef4ce5877\", element=\"e5eb4b86-7ee9-4863-9e3e-b71acbf95ef1\")>,\n",
       " <selenium.webdriver.remote.webelement.WebElement (session=\"fa7815ca1dc6373d0148b18ef4ce5877\", element=\"63bbec99-5618-481d-961e-9f394cc3f342\")>,\n",
       " <selenium.webdriver.remote.webelement.WebElement (session=\"fa7815ca1dc6373d0148b18ef4ce5877\", element=\"d8fdde77-d842-4bcd-a158-4b80c60fb82d\")>,\n",
       " <selenium.webdriver.remote.webelement.WebElement (session=\"fa7815ca1dc6373d0148b18ef4ce5877\", element=\"8c4fe0b3-5f51-47b9-b813-a98a1f859ed0\")>,\n",
       " <selenium.webdriver.remote.webelement.WebElement (session=\"fa7815ca1dc6373d0148b18ef4ce5877\", element=\"531336e4-0ba7-4506-93b2-760ade9266e7\")>,\n",
       " <selenium.webdriver.remote.webelement.WebElement (session=\"fa7815ca1dc6373d0148b18ef4ce5877\", element=\"2ab62e66-5334-4c45-bf4a-8f74571f9154\")>,\n",
       " <selenium.webdriver.remote.webelement.WebElement (session=\"fa7815ca1dc6373d0148b18ef4ce5877\", element=\"f77efab6-6591-4ce8-973b-528929048532\")>,\n",
       " <selenium.webdriver.remote.webelement.WebElement (session=\"fa7815ca1dc6373d0148b18ef4ce5877\", element=\"cdf13e68-b136-4c08-8269-a404c7ff36f0\")>,\n",
       " <selenium.webdriver.remote.webelement.WebElement (session=\"fa7815ca1dc6373d0148b18ef4ce5877\", element=\"5ca8f4cb-7018-4871-8d78-e524341f4355\")>,\n",
       " <selenium.webdriver.remote.webelement.WebElement (session=\"fa7815ca1dc6373d0148b18ef4ce5877\", element=\"27c5f0aa-ab28-4552-b359-8a5df04f8edb\")>,\n",
       " <selenium.webdriver.remote.webelement.WebElement (session=\"fa7815ca1dc6373d0148b18ef4ce5877\", element=\"5b67493a-b74f-4aaa-8246-1962b508d090\")>]"
      ]
     },
     "execution_count": 20,
     "metadata": {},
     "output_type": "execute_result"
    }
   ],
   "source": [
    "location_tags"
   ]
  },
  {
   "cell_type": "code",
   "execution_count": 21,
   "metadata": {},
   "outputs": [
    {
     "data": {
      "text/plain": [
       "['Bangalore/Bengaluru',\n",
       " 'Bangalore/Bengaluru',\n",
       " 'Hyderabad/Secunderabad, Chennai, Bangalore/Bengaluru',\n",
       " 'Bangalore/Bengaluru',\n",
       " 'Bangalore/Bengaluru',\n",
       " 'Hyderabad/Secunderabad, Gurgaon/Gurugram, Bangalore/Bengaluru',\n",
       " 'Pune, Chennai, Bangalore/Bengaluru, Delhi / NCR',\n",
       " 'Bangalore/Bengaluru',\n",
       " 'Pune, Chennai, Bangalore/Bengaluru',\n",
       " 'Bangalore/Bengaluru',\n",
       " 'Noida, Bangalore/Bengaluru',\n",
       " 'Bangalore/Bengaluru',\n",
       " 'Bangalore/Bengaluru, Mumbai (All Areas)',\n",
       " 'Bangalore/Bengaluru',\n",
       " 'Bangalore/Bengaluru',\n",
       " 'Bangalore/Bengaluru',\n",
       " 'Bangalore/Bengaluru(5th block Koramangala)',\n",
       " 'Bangalore/Bengaluru',\n",
       " 'Bangalore/Bengaluru',\n",
       " 'Bangalore/Bengaluru']"
      ]
     },
     "execution_count": 21,
     "metadata": {},
     "output_type": "execute_result"
    }
   ],
   "source": [
    "job_location = []\n",
    "for i in location_tags:\n",
    "    job_location.append(i.text)\n",
    "job_location    "
   ]
  },
  {
   "cell_type": "code",
   "execution_count": 22,
   "metadata": {},
   "outputs": [
    {
     "name": "stdout",
     "output_type": "stream",
     "text": [
      "20 20 20 20\n"
     ]
    }
   ],
   "source": [
    "print(len(job_titles),len(companies_names),len(experience_required),len(job_location))"
   ]
  },
  {
   "cell_type": "code",
   "execution_count": 23,
   "metadata": {},
   "outputs": [],
   "source": [
    "jobs = pd.DataFrame({})\n",
    "jobs['Job Title']=job_titles\n",
    "jobs['Company Names']=companies_names\n",
    "jobs['Experience Required']=experience_required\n",
    "jobs['Job Location']=job_location"
   ]
  },
  {
   "cell_type": "code",
   "execution_count": 24,
   "metadata": {},
   "outputs": [
    {
     "data": {
      "text/html": [
       "<div>\n",
       "<style scoped>\n",
       "    .dataframe tbody tr th:only-of-type {\n",
       "        vertical-align: middle;\n",
       "    }\n",
       "\n",
       "    .dataframe tbody tr th {\n",
       "        vertical-align: top;\n",
       "    }\n",
       "\n",
       "    .dataframe thead th {\n",
       "        text-align: right;\n",
       "    }\n",
       "</style>\n",
       "<table border=\"1\" class=\"dataframe\">\n",
       "  <thead>\n",
       "    <tr style=\"text-align: right;\">\n",
       "      <th></th>\n",
       "      <th>Job Title</th>\n",
       "      <th>Company Names</th>\n",
       "      <th>Experience Required</th>\n",
       "      <th>Job Location</th>\n",
       "    </tr>\n",
       "  </thead>\n",
       "  <tbody>\n",
       "    <tr>\n",
       "      <th>0</th>\n",
       "      <td>Data Scientist</td>\n",
       "      <td>Flipkart Internet Private Limited</td>\n",
       "      <td>0-5 Yrs</td>\n",
       "      <td>Bangalore/Bengaluru</td>\n",
       "    </tr>\n",
       "    <tr>\n",
       "      <th>1</th>\n",
       "      <td>Lead Data Scientist</td>\n",
       "      <td>bd</td>\n",
       "      <td>2-7 Yrs</td>\n",
       "      <td>Bangalore/Bengaluru</td>\n",
       "    </tr>\n",
       "    <tr>\n",
       "      <th>2</th>\n",
       "      <td>Data Scientist / Data Analyst -Business Analyst</td>\n",
       "      <td>Inflexion Analytix Private Limited</td>\n",
       "      <td>0-3 Yrs</td>\n",
       "      <td>Hyderabad/Secunderabad, Chennai, Bangalore/Ben...</td>\n",
       "    </tr>\n",
       "    <tr>\n",
       "      <th>3</th>\n",
       "      <td>Data Scientist: Advanced Analytics</td>\n",
       "      <td>IBM India Pvt. Limited</td>\n",
       "      <td>5-10 Yrs</td>\n",
       "      <td>Bangalore/Bengaluru</td>\n",
       "    </tr>\n",
       "    <tr>\n",
       "      <th>4</th>\n",
       "      <td>Data Scientist</td>\n",
       "      <td>IBM India Pvt. Limited</td>\n",
       "      <td>3-6 Yrs</td>\n",
       "      <td>Bangalore/Bengaluru</td>\n",
       "    </tr>\n",
       "    <tr>\n",
       "      <th>5</th>\n",
       "      <td>Senior Data Scientist</td>\n",
       "      <td>inVentiv International Pharma Services Pvt. Ltd.</td>\n",
       "      <td>3-6 Yrs</td>\n",
       "      <td>Hyderabad/Secunderabad, Gurgaon/Gurugram, Bang...</td>\n",
       "    </tr>\n",
       "    <tr>\n",
       "      <th>6</th>\n",
       "      <td>EXL - Senior Data Scientist, 5+ yrs, Mumbai / ...</td>\n",
       "      <td>EXL Service</td>\n",
       "      <td>5-10 Yrs</td>\n",
       "      <td>Pune, Chennai, Bangalore/Bengaluru, Delhi / NCR</td>\n",
       "    </tr>\n",
       "    <tr>\n",
       "      <th>7</th>\n",
       "      <td>Data Scientist</td>\n",
       "      <td>Applied Materials</td>\n",
       "      <td>5-10 Yrs</td>\n",
       "      <td>Bangalore/Bengaluru</td>\n",
       "    </tr>\n",
       "    <tr>\n",
       "      <th>8</th>\n",
       "      <td>Senior Data Scientist/ Tech Lead - SQL/ Python...</td>\n",
       "      <td>Exploro Solutions</td>\n",
       "      <td>5-10 Yrs</td>\n",
       "      <td>Pune, Chennai, Bangalore/Bengaluru</td>\n",
       "    </tr>\n",
       "    <tr>\n",
       "      <th>9</th>\n",
       "      <td>Data Scientist</td>\n",
       "      <td>Center for Study of Science, Technology and Po...</td>\n",
       "      <td>2-4 Yrs</td>\n",
       "      <td>Bangalore/Bengaluru</td>\n",
       "    </tr>\n",
       "    <tr>\n",
       "      <th>10</th>\n",
       "      <td>Data Scientist</td>\n",
       "      <td>Oracle India Pvt. Ltd.</td>\n",
       "      <td>5-9 Yrs</td>\n",
       "      <td>Noida, Bangalore/Bengaluru</td>\n",
       "    </tr>\n",
       "    <tr>\n",
       "      <th>11</th>\n",
       "      <td>Data Scientist</td>\n",
       "      <td>NatWest Markets</td>\n",
       "      <td>3-6 Yrs</td>\n",
       "      <td>Bangalore/Bengaluru</td>\n",
       "    </tr>\n",
       "    <tr>\n",
       "      <th>12</th>\n",
       "      <td>Data Scientist</td>\n",
       "      <td>Vision Beyond Resources India Private Limited</td>\n",
       "      <td>10-19 Yrs</td>\n",
       "      <td>Bangalore/Bengaluru, Mumbai (All Areas)</td>\n",
       "    </tr>\n",
       "    <tr>\n",
       "      <th>13</th>\n",
       "      <td>Data Scientist 2</td>\n",
       "      <td>Gojek Tech</td>\n",
       "      <td>4-8 Yrs</td>\n",
       "      <td>Bangalore/Bengaluru</td>\n",
       "    </tr>\n",
       "    <tr>\n",
       "      <th>14</th>\n",
       "      <td>Data Scientist 2</td>\n",
       "      <td>GO-JEK India</td>\n",
       "      <td>6-11 Yrs</td>\n",
       "      <td>Bangalore/Bengaluru</td>\n",
       "    </tr>\n",
       "    <tr>\n",
       "      <th>15</th>\n",
       "      <td>Data Scientist</td>\n",
       "      <td>Blue Ocean Catalyst Private Limited</td>\n",
       "      <td>2-6 Yrs</td>\n",
       "      <td>Bangalore/Bengaluru</td>\n",
       "    </tr>\n",
       "    <tr>\n",
       "      <th>16</th>\n",
       "      <td>Hiring Data Scientist</td>\n",
       "      <td>IHX private limited</td>\n",
       "      <td>4-6 Yrs</td>\n",
       "      <td>Bangalore/Bengaluru(5th block Koramangala)</td>\n",
       "    </tr>\n",
       "    <tr>\n",
       "      <th>17</th>\n",
       "      <td>DHS _ Hiring For Data Scientist - India</td>\n",
       "      <td>DeliverHealth Solutions</td>\n",
       "      <td>1-6 Yrs</td>\n",
       "      <td>Bangalore/Bengaluru</td>\n",
       "    </tr>\n",
       "    <tr>\n",
       "      <th>18</th>\n",
       "      <td>Data Scientist: Artificial Intelligence</td>\n",
       "      <td>IBM India Pvt. Limited</td>\n",
       "      <td>4-8 Yrs</td>\n",
       "      <td>Bangalore/Bengaluru</td>\n",
       "    </tr>\n",
       "    <tr>\n",
       "      <th>19</th>\n",
       "      <td>Data Scientist</td>\n",
       "      <td>IBM India Pvt. Limited</td>\n",
       "      <td>6-10 Yrs</td>\n",
       "      <td>Bangalore/Bengaluru</td>\n",
       "    </tr>\n",
       "  </tbody>\n",
       "</table>\n",
       "</div>"
      ],
      "text/plain": [
       "                                            Job Title  \\\n",
       "0                                      Data Scientist   \n",
       "1                                 Lead Data Scientist   \n",
       "2     Data Scientist / Data Analyst -Business Analyst   \n",
       "3                  Data Scientist: Advanced Analytics   \n",
       "4                                      Data Scientist   \n",
       "5                               Senior Data Scientist   \n",
       "6   EXL - Senior Data Scientist, 5+ yrs, Mumbai / ...   \n",
       "7                                      Data Scientist   \n",
       "8   Senior Data Scientist/ Tech Lead - SQL/ Python...   \n",
       "9                                      Data Scientist   \n",
       "10                                     Data Scientist   \n",
       "11                                     Data Scientist   \n",
       "12                                     Data Scientist   \n",
       "13                                   Data Scientist 2   \n",
       "14                                   Data Scientist 2   \n",
       "15                                     Data Scientist   \n",
       "16                              Hiring Data Scientist   \n",
       "17            DHS _ Hiring For Data Scientist - India   \n",
       "18            Data Scientist: Artificial Intelligence   \n",
       "19                                     Data Scientist   \n",
       "\n",
       "                                        Company Names Experience Required  \\\n",
       "0                   Flipkart Internet Private Limited             0-5 Yrs   \n",
       "1                                                  bd             2-7 Yrs   \n",
       "2                  Inflexion Analytix Private Limited             0-3 Yrs   \n",
       "3                              IBM India Pvt. Limited            5-10 Yrs   \n",
       "4                              IBM India Pvt. Limited             3-6 Yrs   \n",
       "5    inVentiv International Pharma Services Pvt. Ltd.             3-6 Yrs   \n",
       "6                                         EXL Service            5-10 Yrs   \n",
       "7                                   Applied Materials            5-10 Yrs   \n",
       "8                                   Exploro Solutions            5-10 Yrs   \n",
       "9   Center for Study of Science, Technology and Po...             2-4 Yrs   \n",
       "10                             Oracle India Pvt. Ltd.             5-9 Yrs   \n",
       "11                                    NatWest Markets             3-6 Yrs   \n",
       "12      Vision Beyond Resources India Private Limited           10-19 Yrs   \n",
       "13                                         Gojek Tech             4-8 Yrs   \n",
       "14                                       GO-JEK India            6-11 Yrs   \n",
       "15                Blue Ocean Catalyst Private Limited             2-6 Yrs   \n",
       "16                                IHX private limited             4-6 Yrs   \n",
       "17                            DeliverHealth Solutions             1-6 Yrs   \n",
       "18                             IBM India Pvt. Limited             4-8 Yrs   \n",
       "19                             IBM India Pvt. Limited            6-10 Yrs   \n",
       "\n",
       "                                         Job Location  \n",
       "0                                 Bangalore/Bengaluru  \n",
       "1                                 Bangalore/Bengaluru  \n",
       "2   Hyderabad/Secunderabad, Chennai, Bangalore/Ben...  \n",
       "3                                 Bangalore/Bengaluru  \n",
       "4                                 Bangalore/Bengaluru  \n",
       "5   Hyderabad/Secunderabad, Gurgaon/Gurugram, Bang...  \n",
       "6     Pune, Chennai, Bangalore/Bengaluru, Delhi / NCR  \n",
       "7                                 Bangalore/Bengaluru  \n",
       "8                  Pune, Chennai, Bangalore/Bengaluru  \n",
       "9                                 Bangalore/Bengaluru  \n",
       "10                         Noida, Bangalore/Bengaluru  \n",
       "11                                Bangalore/Bengaluru  \n",
       "12            Bangalore/Bengaluru, Mumbai (All Areas)  \n",
       "13                                Bangalore/Bengaluru  \n",
       "14                                Bangalore/Bengaluru  \n",
       "15                                Bangalore/Bengaluru  \n",
       "16         Bangalore/Bengaluru(5th block Koramangala)  \n",
       "17                                Bangalore/Bengaluru  \n",
       "18                                Bangalore/Bengaluru  \n",
       "19                                Bangalore/Bengaluru  "
      ]
     },
     "execution_count": 24,
     "metadata": {},
     "output_type": "execute_result"
    }
   ],
   "source": [
    "jobs"
   ]
  },
  {
   "cell_type": "code",
   "execution_count": 25,
   "metadata": {},
   "outputs": [
    {
     "data": {
      "text/html": [
       "<div>\n",
       "<style scoped>\n",
       "    .dataframe tbody tr th:only-of-type {\n",
       "        vertical-align: middle;\n",
       "    }\n",
       "\n",
       "    .dataframe tbody tr th {\n",
       "        vertical-align: top;\n",
       "    }\n",
       "\n",
       "    .dataframe thead th {\n",
       "        text-align: right;\n",
       "    }\n",
       "</style>\n",
       "<table border=\"1\" class=\"dataframe\">\n",
       "  <thead>\n",
       "    <tr style=\"text-align: right;\">\n",
       "      <th></th>\n",
       "      <th>Job Title</th>\n",
       "      <th>Company Names</th>\n",
       "      <th>Experience Required</th>\n",
       "      <th>Job Location</th>\n",
       "    </tr>\n",
       "  </thead>\n",
       "  <tbody>\n",
       "    <tr>\n",
       "      <th>0</th>\n",
       "      <td>Data Scientist</td>\n",
       "      <td>Flipkart Internet Private Limited</td>\n",
       "      <td>0-5 Yrs</td>\n",
       "      <td>Bangalore/Bengaluru</td>\n",
       "    </tr>\n",
       "    <tr>\n",
       "      <th>1</th>\n",
       "      <td>Lead Data Scientist</td>\n",
       "      <td>bd</td>\n",
       "      <td>2-7 Yrs</td>\n",
       "      <td>Bangalore/Bengaluru</td>\n",
       "    </tr>\n",
       "    <tr>\n",
       "      <th>2</th>\n",
       "      <td>Data Scientist / Data Analyst -Business Analyst</td>\n",
       "      <td>Inflexion Analytix Private Limited</td>\n",
       "      <td>0-3 Yrs</td>\n",
       "      <td>Hyderabad/Secunderabad, Chennai, Bangalore/Ben...</td>\n",
       "    </tr>\n",
       "    <tr>\n",
       "      <th>3</th>\n",
       "      <td>Data Scientist: Advanced Analytics</td>\n",
       "      <td>IBM India Pvt. Limited</td>\n",
       "      <td>5-10 Yrs</td>\n",
       "      <td>Bangalore/Bengaluru</td>\n",
       "    </tr>\n",
       "    <tr>\n",
       "      <th>4</th>\n",
       "      <td>Data Scientist</td>\n",
       "      <td>IBM India Pvt. Limited</td>\n",
       "      <td>3-6 Yrs</td>\n",
       "      <td>Bangalore/Bengaluru</td>\n",
       "    </tr>\n",
       "    <tr>\n",
       "      <th>5</th>\n",
       "      <td>Senior Data Scientist</td>\n",
       "      <td>inVentiv International Pharma Services Pvt. Ltd.</td>\n",
       "      <td>3-6 Yrs</td>\n",
       "      <td>Hyderabad/Secunderabad, Gurgaon/Gurugram, Bang...</td>\n",
       "    </tr>\n",
       "    <tr>\n",
       "      <th>6</th>\n",
       "      <td>EXL - Senior Data Scientist, 5+ yrs, Mumbai / ...</td>\n",
       "      <td>EXL Service</td>\n",
       "      <td>5-10 Yrs</td>\n",
       "      <td>Pune, Chennai, Bangalore/Bengaluru, Delhi / NCR</td>\n",
       "    </tr>\n",
       "    <tr>\n",
       "      <th>7</th>\n",
       "      <td>Data Scientist</td>\n",
       "      <td>Applied Materials</td>\n",
       "      <td>5-10 Yrs</td>\n",
       "      <td>Bangalore/Bengaluru</td>\n",
       "    </tr>\n",
       "    <tr>\n",
       "      <th>8</th>\n",
       "      <td>Senior Data Scientist/ Tech Lead - SQL/ Python...</td>\n",
       "      <td>Exploro Solutions</td>\n",
       "      <td>5-10 Yrs</td>\n",
       "      <td>Pune, Chennai, Bangalore/Bengaluru</td>\n",
       "    </tr>\n",
       "    <tr>\n",
       "      <th>9</th>\n",
       "      <td>Data Scientist</td>\n",
       "      <td>Center for Study of Science, Technology and Po...</td>\n",
       "      <td>2-4 Yrs</td>\n",
       "      <td>Bangalore/Bengaluru</td>\n",
       "    </tr>\n",
       "  </tbody>\n",
       "</table>\n",
       "</div>"
      ],
      "text/plain": [
       "                                           Job Title  \\\n",
       "0                                     Data Scientist   \n",
       "1                                Lead Data Scientist   \n",
       "2    Data Scientist / Data Analyst -Business Analyst   \n",
       "3                 Data Scientist: Advanced Analytics   \n",
       "4                                     Data Scientist   \n",
       "5                              Senior Data Scientist   \n",
       "6  EXL - Senior Data Scientist, 5+ yrs, Mumbai / ...   \n",
       "7                                     Data Scientist   \n",
       "8  Senior Data Scientist/ Tech Lead - SQL/ Python...   \n",
       "9                                     Data Scientist   \n",
       "\n",
       "                                       Company Names Experience Required  \\\n",
       "0                  Flipkart Internet Private Limited             0-5 Yrs   \n",
       "1                                                 bd             2-7 Yrs   \n",
       "2                 Inflexion Analytix Private Limited             0-3 Yrs   \n",
       "3                             IBM India Pvt. Limited            5-10 Yrs   \n",
       "4                             IBM India Pvt. Limited             3-6 Yrs   \n",
       "5   inVentiv International Pharma Services Pvt. Ltd.             3-6 Yrs   \n",
       "6                                        EXL Service            5-10 Yrs   \n",
       "7                                  Applied Materials            5-10 Yrs   \n",
       "8                                  Exploro Solutions            5-10 Yrs   \n",
       "9  Center for Study of Science, Technology and Po...             2-4 Yrs   \n",
       "\n",
       "                                        Job Location  \n",
       "0                                Bangalore/Bengaluru  \n",
       "1                                Bangalore/Bengaluru  \n",
       "2  Hyderabad/Secunderabad, Chennai, Bangalore/Ben...  \n",
       "3                                Bangalore/Bengaluru  \n",
       "4                                Bangalore/Bengaluru  \n",
       "5  Hyderabad/Secunderabad, Gurgaon/Gurugram, Bang...  \n",
       "6    Pune, Chennai, Bangalore/Bengaluru, Delhi / NCR  \n",
       "7                                Bangalore/Bengaluru  \n",
       "8                 Pune, Chennai, Bangalore/Bengaluru  \n",
       "9                                Bangalore/Bengaluru  "
      ]
     },
     "execution_count": 25,
     "metadata": {},
     "output_type": "execute_result"
    }
   ],
   "source": [
    "jobs.head(10)"
   ]
  },
  {
   "cell_type": "code",
   "execution_count": null,
   "metadata": {},
   "outputs": [],
   "source": []
  },
  {
   "cell_type": "code",
   "execution_count": null,
   "metadata": {},
   "outputs": [],
   "source": []
  },
  {
   "cell_type": "markdown",
   "metadata": {},
   "source": [
    "# Q2: Write a python program to scrape data for “Data Scientist” Job position in \n",
    "“Bangalore” location. You have to scrape the job-title, job-location,\n",
    "company_name, full job-description. You have to scrape first 10 jobs data.\n",
    "This task will be done in following steps:\n",
    "1. first get the webpage https://www.naukri.com/\n",
    "2. Enter “Data Scientist” in “Skill,Designations,Companies” field and enter \n",
    "“Bangalore” in “enter the location” field.\n",
    "3. Then click the search button.\n",
    "4. Then scrape the data for the first 10 jobs results you get.\n",
    "5. Finally create a dataframe of the scraped data.\n",
    "Note- 1. All of the above steps have to be done in code. No step is to be done \n",
    "manually.\n",
    "2.Please note that you have to scrape full job description. For that you may have to \n",
    "open each job separately as shown below\n",
    "You will get the search result as shown in the below webpage:\n",
    "You have to click on each job title. Here in this case if you will click on “ Data \n",
    "Scientist, Machine Learning” , you will land up on the below page:\n",
    "Now you have to scrape data from this page.\n",
    "Do this for first 10 job search results"
   ]
  },
  {
   "cell_type": "code",
   "execution_count": 292,
   "metadata": {},
   "outputs": [],
   "source": [
    "driver = webdriver.Chrome(r\"C:\\Users\\Rajat Jibhkate\\Downloads\\chromedriver_win32\\chromedriver.exe\")"
   ]
  },
  {
   "cell_type": "code",
   "execution_count": 293,
   "metadata": {},
   "outputs": [],
   "source": [
    "url = \"https://www.naukri.com/\"\n",
    "driver.get(url)"
   ]
  },
  {
   "cell_type": "code",
   "execution_count": 294,
   "metadata": {},
   "outputs": [
    {
     "data": {
      "text/plain": [
       "<selenium.webdriver.remote.webelement.WebElement (session=\"18dc864d26a2f6fb68a8382c49946e26\", element=\"631cea8d-48fc-42bd-b16b-302f9ce8ffb0\")>"
      ]
     },
     "execution_count": 294,
     "metadata": {},
     "output_type": "execute_result"
    }
   ],
   "source": [
    "search_job = driver.find_element_by_id(\"qsb-keyword-sugg\")\n",
    "search_job"
   ]
  },
  {
   "cell_type": "code",
   "execution_count": 295,
   "metadata": {},
   "outputs": [],
   "source": [
    "search_job.send_keys(\"Data Scientist,Machine Learning\")"
   ]
  },
  {
   "cell_type": "code",
   "execution_count": 296,
   "metadata": {},
   "outputs": [
    {
     "data": {
      "text/plain": [
       "<selenium.webdriver.remote.webelement.WebElement (session=\"18dc864d26a2f6fb68a8382c49946e26\", element=\"4fa8fca3-7c7e-4ab0-a0dc-f3c474a0c8d5\")>"
      ]
     },
     "execution_count": 296,
     "metadata": {},
     "output_type": "execute_result"
    }
   ],
   "source": [
    "search_loc = driver.find_element_by_id(\"qsb-location-sugg\")\n",
    "search_loc"
   ]
  },
  {
   "cell_type": "code",
   "execution_count": 297,
   "metadata": {},
   "outputs": [],
   "source": [
    "search_loc.send_keys(\"Bangalore\")"
   ]
  },
  {
   "cell_type": "code",
   "execution_count": 298,
   "metadata": {},
   "outputs": [],
   "source": [
    "search_btn = driver.find_element_by_xpath(\"//button[@class='btn']\")\n",
    "search_btn.click()"
   ]
  },
  {
   "cell_type": "code",
   "execution_count": 299,
   "metadata": {},
   "outputs": [
    {
     "data": {
      "text/plain": [
       "[<selenium.webdriver.remote.webelement.WebElement (session=\"18dc864d26a2f6fb68a8382c49946e26\", element=\"ceb4a02d-fc8c-4d9d-aa5b-d7fc0306a88d\")>,\n",
       " <selenium.webdriver.remote.webelement.WebElement (session=\"18dc864d26a2f6fb68a8382c49946e26\", element=\"dca58c58-c0f4-4da3-85cd-ce3d29ce3a3d\")>,\n",
       " <selenium.webdriver.remote.webelement.WebElement (session=\"18dc864d26a2f6fb68a8382c49946e26\", element=\"08cc60e7-0c64-407b-913d-be3654371854\")>,\n",
       " <selenium.webdriver.remote.webelement.WebElement (session=\"18dc864d26a2f6fb68a8382c49946e26\", element=\"f874cd24-f391-4e57-931c-b16c2801f94c\")>,\n",
       " <selenium.webdriver.remote.webelement.WebElement (session=\"18dc864d26a2f6fb68a8382c49946e26\", element=\"d0c5e536-5392-4828-ba8c-8ed3cfbff005\")>,\n",
       " <selenium.webdriver.remote.webelement.WebElement (session=\"18dc864d26a2f6fb68a8382c49946e26\", element=\"85e1e9c3-7904-4651-81fc-eaf9986adeee\")>,\n",
       " <selenium.webdriver.remote.webelement.WebElement (session=\"18dc864d26a2f6fb68a8382c49946e26\", element=\"32608fa0-ece1-4a70-9e1d-a41c7b61142b\")>,\n",
       " <selenium.webdriver.remote.webelement.WebElement (session=\"18dc864d26a2f6fb68a8382c49946e26\", element=\"950830a0-45a9-44c1-b66a-65e1426932af\")>,\n",
       " <selenium.webdriver.remote.webelement.WebElement (session=\"18dc864d26a2f6fb68a8382c49946e26\", element=\"7d33ec8c-7cce-4cdd-b319-5cf50ab23ae3\")>,\n",
       " <selenium.webdriver.remote.webelement.WebElement (session=\"18dc864d26a2f6fb68a8382c49946e26\", element=\"e5632472-a16f-486d-be03-5f313390eb18\")>,\n",
       " <selenium.webdriver.remote.webelement.WebElement (session=\"18dc864d26a2f6fb68a8382c49946e26\", element=\"c6140b15-5afc-43f8-9b2e-c5a1900acaa9\")>,\n",
       " <selenium.webdriver.remote.webelement.WebElement (session=\"18dc864d26a2f6fb68a8382c49946e26\", element=\"aabb246f-7123-4dec-a5d0-ec5ef8c75bf3\")>,\n",
       " <selenium.webdriver.remote.webelement.WebElement (session=\"18dc864d26a2f6fb68a8382c49946e26\", element=\"291bb893-afe8-40fe-b3b3-555218977f38\")>,\n",
       " <selenium.webdriver.remote.webelement.WebElement (session=\"18dc864d26a2f6fb68a8382c49946e26\", element=\"a575b721-6922-4745-8ca3-857afa04cd23\")>,\n",
       " <selenium.webdriver.remote.webelement.WebElement (session=\"18dc864d26a2f6fb68a8382c49946e26\", element=\"81ab0586-28d1-4414-a19d-33b088b33190\")>,\n",
       " <selenium.webdriver.remote.webelement.WebElement (session=\"18dc864d26a2f6fb68a8382c49946e26\", element=\"d727383a-d70c-4026-a679-5b0dd306db21\")>,\n",
       " <selenium.webdriver.remote.webelement.WebElement (session=\"18dc864d26a2f6fb68a8382c49946e26\", element=\"330764f4-c0d0-48ad-a7d8-35b1905858b6\")>,\n",
       " <selenium.webdriver.remote.webelement.WebElement (session=\"18dc864d26a2f6fb68a8382c49946e26\", element=\"08fa1c5d-97ce-41fc-837e-01aef6db6b33\")>,\n",
       " <selenium.webdriver.remote.webelement.WebElement (session=\"18dc864d26a2f6fb68a8382c49946e26\", element=\"82354369-18a0-4322-9108-32d92d2f04b9\")>,\n",
       " <selenium.webdriver.remote.webelement.WebElement (session=\"18dc864d26a2f6fb68a8382c49946e26\", element=\"c66e4efb-bbe7-4c89-a057-9d829fd899e6\")>]"
      ]
     },
     "execution_count": 299,
     "metadata": {},
     "output_type": "execute_result"
    }
   ],
   "source": [
    "companies_titles = driver.find_elements_by_xpath(\"//a[@class='subTitle ellipsis fleft']\")\n",
    "companies_titles"
   ]
  },
  {
   "cell_type": "code",
   "execution_count": 300,
   "metadata": {},
   "outputs": [
    {
     "data": {
      "text/plain": [
       "['Squareroot Consulting Pvt Ltd.',\n",
       " 'Exploro Solutions',\n",
       " 'Wrackle Technologies Pvt Ltd',\n",
       " 'Serving Skill',\n",
       " 'Fidius advisory',\n",
       " 'Wrackle Technologies Pvt Ltd',\n",
       " 'Fractal Analytics',\n",
       " 'Adecco India Private Limited',\n",
       " 'Huquo Consulting Pvt. Ltd',\n",
       " 'Juniper Networks India Pvt Ltd',\n",
       " 'Fractal Analytics',\n",
       " 'Spectrus',\n",
       " 'Blue Yonder',\n",
       " 'Catalyst',\n",
       " 'Bion',\n",
       " 'Bion',\n",
       " 'Catalyst',\n",
       " 'Catalyst',\n",
       " 'Catalyst',\n",
       " 'Xamplay']"
      ]
     },
     "execution_count": 300,
     "metadata": {},
     "output_type": "execute_result"
    }
   ],
   "source": [
    "company_name=[]\n",
    "for i in companies_titles:\n",
    "    company_name.append(i.text)\n",
    "company_name"
   ]
  },
  {
   "cell_type": "code",
   "execution_count": 301,
   "metadata": {},
   "outputs": [
    {
     "data": {
      "text/plain": [
       "[<selenium.webdriver.remote.webelement.WebElement (session=\"18dc864d26a2f6fb68a8382c49946e26\", element=\"2944b06a-a347-4145-91f3-425ee50d4b1f\")>,\n",
       " <selenium.webdriver.remote.webelement.WebElement (session=\"18dc864d26a2f6fb68a8382c49946e26\", element=\"9304de32-9af5-4f79-8c46-8b17aa10a670\")>,\n",
       " <selenium.webdriver.remote.webelement.WebElement (session=\"18dc864d26a2f6fb68a8382c49946e26\", element=\"116d9191-3687-4250-b20a-8103cf9d71c1\")>,\n",
       " <selenium.webdriver.remote.webelement.WebElement (session=\"18dc864d26a2f6fb68a8382c49946e26\", element=\"4b594db9-47b7-4608-b411-06beafd22c05\")>,\n",
       " <selenium.webdriver.remote.webelement.WebElement (session=\"18dc864d26a2f6fb68a8382c49946e26\", element=\"d2cdd68c-820c-4084-80e4-4f1e38cb897f\")>,\n",
       " <selenium.webdriver.remote.webelement.WebElement (session=\"18dc864d26a2f6fb68a8382c49946e26\", element=\"2cdfad78-9aca-44dc-a3c2-11c26d123158\")>,\n",
       " <selenium.webdriver.remote.webelement.WebElement (session=\"18dc864d26a2f6fb68a8382c49946e26\", element=\"8a09efa5-6e3e-4853-b10d-cfd021032f0f\")>,\n",
       " <selenium.webdriver.remote.webelement.WebElement (session=\"18dc864d26a2f6fb68a8382c49946e26\", element=\"bd31ac80-e6f0-4a77-a55b-315c9225db5e\")>,\n",
       " <selenium.webdriver.remote.webelement.WebElement (session=\"18dc864d26a2f6fb68a8382c49946e26\", element=\"dd3d7197-7f43-413c-b4c8-564e27d6c2a1\")>,\n",
       " <selenium.webdriver.remote.webelement.WebElement (session=\"18dc864d26a2f6fb68a8382c49946e26\", element=\"fda318f2-7a22-47d9-bf2b-50761a62ee08\")>,\n",
       " <selenium.webdriver.remote.webelement.WebElement (session=\"18dc864d26a2f6fb68a8382c49946e26\", element=\"93a5e1be-7b71-4f5f-9b2b-1d445b34aa0d\")>,\n",
       " <selenium.webdriver.remote.webelement.WebElement (session=\"18dc864d26a2f6fb68a8382c49946e26\", element=\"c406b4ee-25de-415e-b15c-23a31e32a03d\")>,\n",
       " <selenium.webdriver.remote.webelement.WebElement (session=\"18dc864d26a2f6fb68a8382c49946e26\", element=\"0d48ba41-5132-4eac-ae67-afc3fd9a65d8\")>,\n",
       " <selenium.webdriver.remote.webelement.WebElement (session=\"18dc864d26a2f6fb68a8382c49946e26\", element=\"21ccc897-2f4a-4ad9-b238-607696cd7509\")>,\n",
       " <selenium.webdriver.remote.webelement.WebElement (session=\"18dc864d26a2f6fb68a8382c49946e26\", element=\"a5ab8e2e-5e2c-428d-bb59-4306c6ab6c0f\")>,\n",
       " <selenium.webdriver.remote.webelement.WebElement (session=\"18dc864d26a2f6fb68a8382c49946e26\", element=\"34770928-805c-4b4f-bb6b-7c3af65493ac\")>,\n",
       " <selenium.webdriver.remote.webelement.WebElement (session=\"18dc864d26a2f6fb68a8382c49946e26\", element=\"2f7fc9c0-54bc-464e-ba35-29982fe8fb7c\")>,\n",
       " <selenium.webdriver.remote.webelement.WebElement (session=\"18dc864d26a2f6fb68a8382c49946e26\", element=\"bdea76ae-4712-4632-b015-dd6b09ae5bfc\")>,\n",
       " <selenium.webdriver.remote.webelement.WebElement (session=\"18dc864d26a2f6fb68a8382c49946e26\", element=\"840f22b5-b6f2-4986-a046-246b815a2966\")>,\n",
       " <selenium.webdriver.remote.webelement.WebElement (session=\"18dc864d26a2f6fb68a8382c49946e26\", element=\"7fde6067-b761-447a-9cc0-e9b9683d3f28\")>]"
      ]
     },
     "execution_count": 301,
     "metadata": {},
     "output_type": "execute_result"
    }
   ],
   "source": [
    "location_tags = driver.find_elements_by_xpath(\"//li[@class='fleft grey-text br2 placeHolderLi location']//span\")\n",
    "location_tags"
   ]
  },
  {
   "cell_type": "code",
   "execution_count": 302,
   "metadata": {},
   "outputs": [
    {
     "data": {
      "text/plain": [
       "['Bangalore/Bengaluru',\n",
       " 'Bangalore/Bengaluru',\n",
       " 'Bangalore/Bengaluru',\n",
       " 'Bangalore/Bengaluru',\n",
       " 'Bangalore/Bengaluru',\n",
       " 'Bangalore/Bengaluru',\n",
       " 'Gurgaon/Gurugram, Bangalore/Bengaluru, Mumbai (All Areas)',\n",
       " 'Hyderabad/Secunderabad, Pune, Chennai, Bangalore/Bengaluru',\n",
       " 'Bangalore/Bengaluru',\n",
       " 'Bangalore/Bengaluru',\n",
       " 'Bengaluru',\n",
       " 'Bangalore/Bengaluru',\n",
       " 'Bangalore/Bengaluru',\n",
       " 'Bangalore/Bengaluru',\n",
       " 'Bangalore/Bengaluru',\n",
       " 'Bangalore/Bengaluru',\n",
       " 'Bangalore/Bengaluru',\n",
       " 'Bangalore/Bengaluru',\n",
       " 'Bangalore/Bengaluru',\n",
       " 'Bangalore/Bengaluru']"
      ]
     },
     "execution_count": 302,
     "metadata": {},
     "output_type": "execute_result"
    }
   ],
   "source": [
    "job_location = []\n",
    "for i in location_tags:\n",
    "    job_location.append(i.text)\n",
    "job_location"
   ]
  },
  {
   "cell_type": "code",
   "execution_count": 303,
   "metadata": {},
   "outputs": [],
   "source": [
    "urls=[]\n",
    "for i in driver.find_elements_by_xpath(\"//a[@class='title fw500 ellipsis']\"):\n",
    "    urls.append(i.get_attribute(\"href\"))"
   ]
  },
  {
   "cell_type": "code",
   "execution_count": 304,
   "metadata": {},
   "outputs": [
    {
     "data": {
      "text/plain": [
       "20"
      ]
     },
     "execution_count": 304,
     "metadata": {},
     "output_type": "execute_result"
    }
   ],
   "source": [
    "len(urls)"
   ]
  },
  {
   "cell_type": "code",
   "execution_count": 305,
   "metadata": {},
   "outputs": [],
   "source": [
    "job_title=[]\n",
    "job_description=[]"
   ]
  },
  {
   "cell_type": "code",
   "execution_count": 306,
   "metadata": {},
   "outputs": [],
   "source": [
    "for i in urls[:10]:\n",
    "    driver.get(i)\n",
    "    time.sleep(3)\n",
    "    \n",
    "    try:\n",
    "        job=driver.find_element_by_xpath(\"//h1[@class='jd-header-title']\")\n",
    "        job_title.append(job.text)\n",
    "    except NoSuchElementException:\n",
    "        job_title.append(\"-\")\n",
    "        \n",
    "        \n",
    "    try:\n",
    "        job_desc=driver.find_element_by_xpath(\"//section[@class='job-desc']\")\n",
    "        job_description.append(job_desc.text)\n",
    "    except:\n",
    "        job_description.append(\"-\")\n",
    "        "
   ]
  },
  {
   "cell_type": "code",
   "execution_count": 307,
   "metadata": {},
   "outputs": [
    {
     "name": "stdout",
     "output_type": "stream",
     "text": [
      "10\n",
      "10\n"
     ]
    }
   ],
   "source": [
    "print(len(job_title))\n",
    "print(len(job_description))"
   ]
  },
  {
   "cell_type": "code",
   "execution_count": 308,
   "metadata": {},
   "outputs": [
    {
     "name": "stdout",
     "output_type": "stream",
     "text": [
      "10 20 20 10\n"
     ]
    }
   ],
   "source": [
    "print(len(job_title),len(job_location),len(company_name),len(job_description))"
   ]
  },
  {
   "cell_type": "code",
   "execution_count": 309,
   "metadata": {},
   "outputs": [],
   "source": [
    "jobs = pd.DataFrame({})\n",
    "jobs['Job Titles']=job_title[:10]\n",
    "jobs['Job Location']=job_location[:10]\n",
    "jobs['Company Name']=company_name[:10]\n",
    "jobs['Job Description']=job_description[:10]"
   ]
  },
  {
   "cell_type": "code",
   "execution_count": 310,
   "metadata": {},
   "outputs": [
    {
     "data": {
      "text/html": [
       "<div>\n",
       "<style scoped>\n",
       "    .dataframe tbody tr th:only-of-type {\n",
       "        vertical-align: middle;\n",
       "    }\n",
       "\n",
       "    .dataframe tbody tr th {\n",
       "        vertical-align: top;\n",
       "    }\n",
       "\n",
       "    .dataframe thead th {\n",
       "        text-align: right;\n",
       "    }\n",
       "</style>\n",
       "<table border=\"1\" class=\"dataframe\">\n",
       "  <thead>\n",
       "    <tr style=\"text-align: right;\">\n",
       "      <th></th>\n",
       "      <th>Job Titles</th>\n",
       "      <th>Job Location</th>\n",
       "      <th>Company Name</th>\n",
       "      <th>Job Description</th>\n",
       "    </tr>\n",
       "  </thead>\n",
       "  <tbody>\n",
       "    <tr>\n",
       "      <th>0</th>\n",
       "      <td>Senior/Lead Data Scientist - Machine Learning/...</td>\n",
       "      <td>Bangalore/Bengaluru</td>\n",
       "      <td>Squareroot Consulting Pvt Ltd.</td>\n",
       "      <td>Job description\\nRoles and Responsibilities\\nH...</td>\n",
       "    </tr>\n",
       "    <tr>\n",
       "      <th>1</th>\n",
       "      <td>Data Scientist - Python/Machine Learning</td>\n",
       "      <td>Bangalore/Bengaluru</td>\n",
       "      <td>Exploro Solutions</td>\n",
       "      <td>Job description\\nSkillsets:\\n\\nMinimum 5years ...</td>\n",
       "    </tr>\n",
       "    <tr>\n",
       "      <th>2</th>\n",
       "      <td>Lead Data Scientist - Machine Learning/ Data M...</td>\n",
       "      <td>Bangalore/Bengaluru</td>\n",
       "      <td>Wrackle Technologies Pvt Ltd</td>\n",
       "      <td>Job description\\nRoles and Responsibilities\\nR...</td>\n",
       "    </tr>\n",
       "    <tr>\n",
       "      <th>3</th>\n",
       "      <td>Data Scientist - Machine Learning/Deep Learning</td>\n",
       "      <td>Bangalore/Bengaluru</td>\n",
       "      <td>Serving Skill</td>\n",
       "      <td>Job description\\nRoles and Responsibilities\\nJ...</td>\n",
       "    </tr>\n",
       "    <tr>\n",
       "      <th>4</th>\n",
       "      <td>Principal Data Scientist - Machine/Deep Learni...</td>\n",
       "      <td>Bangalore/Bengaluru</td>\n",
       "      <td>Fidius advisory</td>\n",
       "      <td>Job description\\nJob Description :\\n- We are l...</td>\n",
       "    </tr>\n",
       "    <tr>\n",
       "      <th>5</th>\n",
       "      <td>Data Scientist - Python/ MATLAB/ Machine Learn...</td>\n",
       "      <td>Bangalore/Bengaluru</td>\n",
       "      <td>Wrackle Technologies Pvt Ltd</td>\n",
       "      <td>Job description\\nData Scientist - Data Mining/...</td>\n",
       "    </tr>\n",
       "    <tr>\n",
       "      <th>6</th>\n",
       "      <td>Data Scientist, Machine Learning</td>\n",
       "      <td>Gurgaon/Gurugram, Bangalore/Bengaluru, Mumbai ...</td>\n",
       "      <td>Fractal Analytics</td>\n",
       "      <td>Job description\\nThe recruitment process start...</td>\n",
       "    </tr>\n",
       "    <tr>\n",
       "      <th>7</th>\n",
       "      <td>Data Scientist with Machine Learning Job</td>\n",
       "      <td>Hyderabad/Secunderabad, Pune, Chennai, Bangalo...</td>\n",
       "      <td>Adecco India Private Limited</td>\n",
       "      <td>Job description\\nWe have permanent job opening...</td>\n",
       "    </tr>\n",
       "    <tr>\n",
       "      <th>8</th>\n",
       "      <td>Assistant Manager/Manager/Data Scientist - Pyt...</td>\n",
       "      <td>Bangalore/Bengaluru</td>\n",
       "      <td>Huquo Consulting Pvt. Ltd</td>\n",
       "      <td>Job description\\nAssistant Manager/Manager/Dat...</td>\n",
       "    </tr>\n",
       "    <tr>\n",
       "      <th>9</th>\n",
       "      <td>Staff Data Scientist - Machine Learning, BigData</td>\n",
       "      <td>Bangalore/Bengaluru</td>\n",
       "      <td>Juniper Networks India Pvt Ltd</td>\n",
       "      <td>Job description\\nWe are looking for a Data Sci...</td>\n",
       "    </tr>\n",
       "  </tbody>\n",
       "</table>\n",
       "</div>"
      ],
      "text/plain": [
       "                                          Job Titles  \\\n",
       "0  Senior/Lead Data Scientist - Machine Learning/...   \n",
       "1           Data Scientist - Python/Machine Learning   \n",
       "2  Lead Data Scientist - Machine Learning/ Data M...   \n",
       "3    Data Scientist - Machine Learning/Deep Learning   \n",
       "4  Principal Data Scientist - Machine/Deep Learni...   \n",
       "5  Data Scientist - Python/ MATLAB/ Machine Learn...   \n",
       "6                   Data Scientist, Machine Learning   \n",
       "7           Data Scientist with Machine Learning Job   \n",
       "8  Assistant Manager/Manager/Data Scientist - Pyt...   \n",
       "9   Staff Data Scientist - Machine Learning, BigData   \n",
       "\n",
       "                                        Job Location  \\\n",
       "0                                Bangalore/Bengaluru   \n",
       "1                                Bangalore/Bengaluru   \n",
       "2                                Bangalore/Bengaluru   \n",
       "3                                Bangalore/Bengaluru   \n",
       "4                                Bangalore/Bengaluru   \n",
       "5                                Bangalore/Bengaluru   \n",
       "6  Gurgaon/Gurugram, Bangalore/Bengaluru, Mumbai ...   \n",
       "7  Hyderabad/Secunderabad, Pune, Chennai, Bangalo...   \n",
       "8                                Bangalore/Bengaluru   \n",
       "9                                Bangalore/Bengaluru   \n",
       "\n",
       "                     Company Name  \\\n",
       "0  Squareroot Consulting Pvt Ltd.   \n",
       "1               Exploro Solutions   \n",
       "2    Wrackle Technologies Pvt Ltd   \n",
       "3                   Serving Skill   \n",
       "4                 Fidius advisory   \n",
       "5    Wrackle Technologies Pvt Ltd   \n",
       "6               Fractal Analytics   \n",
       "7    Adecco India Private Limited   \n",
       "8       Huquo Consulting Pvt. Ltd   \n",
       "9  Juniper Networks India Pvt Ltd   \n",
       "\n",
       "                                     Job Description  \n",
       "0  Job description\\nRoles and Responsibilities\\nH...  \n",
       "1  Job description\\nSkillsets:\\n\\nMinimum 5years ...  \n",
       "2  Job description\\nRoles and Responsibilities\\nR...  \n",
       "3  Job description\\nRoles and Responsibilities\\nJ...  \n",
       "4  Job description\\nJob Description :\\n- We are l...  \n",
       "5  Job description\\nData Scientist - Data Mining/...  \n",
       "6  Job description\\nThe recruitment process start...  \n",
       "7  Job description\\nWe have permanent job opening...  \n",
       "8  Job description\\nAssistant Manager/Manager/Dat...  \n",
       "9  Job description\\nWe are looking for a Data Sci...  "
      ]
     },
     "execution_count": 310,
     "metadata": {},
     "output_type": "execute_result"
    }
   ],
   "source": [
    "jobs"
   ]
  },
  {
   "cell_type": "code",
   "execution_count": null,
   "metadata": {},
   "outputs": [],
   "source": []
  },
  {
   "cell_type": "code",
   "execution_count": null,
   "metadata": {},
   "outputs": [],
   "source": []
  },
  {
   "cell_type": "markdown",
   "metadata": {},
   "source": [
    "# Q3: In this question you have to scrape data using the filters available on the \n",
    "webpage as shown below:\n",
    "    You have to use the location and salary filter.\n",
    "You have to scrape data for “Data Scientist” designation for first 10 job results.\n",
    "You have to scrape the job-title, job-location, company_name,\n",
    "experience_required.\n",
    "The location filter to be used is “Delhi/NCR”\n",
    "The salary filter to be used is “3-6” lakhs\n",
    "The task will be done as shown in the below steps:\n",
    "1. first get the webpage https://www.naukri.com/\n",
    "2. Enter “Data Scientist” in “Skill,Designations,Companies” field .\n",
    "3. Then click the search button.\n",
    "4. Then apply the location filter and salary filter by checking the respective boxes\n",
    "5. Then scrape the data for the first 10 jobs results you get.\n",
    "6. Finally create a dataframe of the scraped data.\n",
    "Note- All of the above steps have to be done in code. No step is to be done \n",
    "manually."
   ]
  },
  {
   "cell_type": "code",
   "execution_count": 46,
   "metadata": {},
   "outputs": [],
   "source": [
    "driver = webdriver.Chrome(r\"C:\\Users\\Rajat Jibhkate\\Downloads\\chromedriver_win32\\chromedriver.exe\")"
   ]
  },
  {
   "cell_type": "code",
   "execution_count": 47,
   "metadata": {},
   "outputs": [],
   "source": [
    "url = \"https://www.naukri.com/\"\n",
    "driver.get(url)"
   ]
  },
  {
   "cell_type": "code",
   "execution_count": 48,
   "metadata": {},
   "outputs": [
    {
     "data": {
      "text/plain": [
       "<selenium.webdriver.remote.webelement.WebElement (session=\"a3be3d87b8ed7db05ecab090e1de079e\", element=\"56cba206-27bd-4353-b91b-84a718a0be25\")>"
      ]
     },
     "execution_count": 48,
     "metadata": {},
     "output_type": "execute_result"
    }
   ],
   "source": [
    "search_job = driver.find_element_by_id(\"qsb-keyword-sugg\")\n",
    "search_job"
   ]
  },
  {
   "cell_type": "code",
   "execution_count": 49,
   "metadata": {},
   "outputs": [],
   "source": [
    "search_job.send_keys(\"Data Scientist\")"
   ]
  },
  {
   "cell_type": "code",
   "execution_count": 50,
   "metadata": {},
   "outputs": [],
   "source": [
    "search_btn = driver.find_element_by_xpath(\"//button[@class='btn']\")\n",
    "search_btn.click()"
   ]
  },
  {
   "cell_type": "code",
   "execution_count": 51,
   "metadata": {},
   "outputs": [],
   "source": [
    "filter_button = driver.find_elements_by_xpath(\"//span[@class='ellipsis fleft']\")\n",
    "for i in filter_button:\n",
    "    if i.text=='Delhi / NCR':\n",
    "        i.click()\n",
    "        break"
   ]
  },
  {
   "cell_type": "code",
   "execution_count": 52,
   "metadata": {},
   "outputs": [],
   "source": [
    "filter_button = driver.find_elements_by_xpath(\"//span[@class='ellipsis fleft']\")\n",
    "for i in filter_button:\n",
    "    if i.text=='3-6 Lakhs':\n",
    "        i.click()\n",
    "        break"
   ]
  },
  {
   "cell_type": "code",
   "execution_count": 53,
   "metadata": {},
   "outputs": [
    {
     "data": {
      "text/plain": [
       "[<selenium.webdriver.remote.webelement.WebElement (session=\"a3be3d87b8ed7db05ecab090e1de079e\", element=\"4be04097-99cc-4b43-902f-d25257c83fda\")>,\n",
       " <selenium.webdriver.remote.webelement.WebElement (session=\"a3be3d87b8ed7db05ecab090e1de079e\", element=\"ec64d28c-e840-48f8-add6-e2513d0c33be\")>,\n",
       " <selenium.webdriver.remote.webelement.WebElement (session=\"a3be3d87b8ed7db05ecab090e1de079e\", element=\"b344b49f-9267-4bef-a234-4057d21428ba\")>,\n",
       " <selenium.webdriver.remote.webelement.WebElement (session=\"a3be3d87b8ed7db05ecab090e1de079e\", element=\"552ea06c-15dc-44ad-85fb-47ce58f83d3b\")>,\n",
       " <selenium.webdriver.remote.webelement.WebElement (session=\"a3be3d87b8ed7db05ecab090e1de079e\", element=\"7b0a4d3c-1167-47df-ba41-3fb19843032d\")>,\n",
       " <selenium.webdriver.remote.webelement.WebElement (session=\"a3be3d87b8ed7db05ecab090e1de079e\", element=\"d79961fd-cc7f-4373-8445-d1fc0471889b\")>,\n",
       " <selenium.webdriver.remote.webelement.WebElement (session=\"a3be3d87b8ed7db05ecab090e1de079e\", element=\"06d6af2c-fd9e-4475-b1a0-6d28bce976b4\")>,\n",
       " <selenium.webdriver.remote.webelement.WebElement (session=\"a3be3d87b8ed7db05ecab090e1de079e\", element=\"07af5032-098a-4c6c-8150-587b94d1a0bf\")>,\n",
       " <selenium.webdriver.remote.webelement.WebElement (session=\"a3be3d87b8ed7db05ecab090e1de079e\", element=\"f9c83b9a-c647-4412-b223-85c3d2d43958\")>,\n",
       " <selenium.webdriver.remote.webelement.WebElement (session=\"a3be3d87b8ed7db05ecab090e1de079e\", element=\"0c92f242-4a9b-478c-adc7-6e26163a31ce\")>,\n",
       " <selenium.webdriver.remote.webelement.WebElement (session=\"a3be3d87b8ed7db05ecab090e1de079e\", element=\"f69657cd-1dd7-4c76-95ba-52f00b645dc7\")>,\n",
       " <selenium.webdriver.remote.webelement.WebElement (session=\"a3be3d87b8ed7db05ecab090e1de079e\", element=\"6a4faaba-b883-4a6a-923a-e6922378728a\")>,\n",
       " <selenium.webdriver.remote.webelement.WebElement (session=\"a3be3d87b8ed7db05ecab090e1de079e\", element=\"96131c30-e198-4ffa-9532-62c5e06596e4\")>,\n",
       " <selenium.webdriver.remote.webelement.WebElement (session=\"a3be3d87b8ed7db05ecab090e1de079e\", element=\"8498b859-16ec-46b6-85ba-7d993c9ac244\")>,\n",
       " <selenium.webdriver.remote.webelement.WebElement (session=\"a3be3d87b8ed7db05ecab090e1de079e\", element=\"91bbedb4-5111-4568-a2f4-99865aa8ae14\")>,\n",
       " <selenium.webdriver.remote.webelement.WebElement (session=\"a3be3d87b8ed7db05ecab090e1de079e\", element=\"5c152d44-667c-4649-95f0-ac358b9f67cc\")>,\n",
       " <selenium.webdriver.remote.webelement.WebElement (session=\"a3be3d87b8ed7db05ecab090e1de079e\", element=\"61a4a31a-f364-4a11-9a8c-a20afe55ff67\")>,\n",
       " <selenium.webdriver.remote.webelement.WebElement (session=\"a3be3d87b8ed7db05ecab090e1de079e\", element=\"2200cd4a-d812-4940-b5dc-e2de834fbe70\")>,\n",
       " <selenium.webdriver.remote.webelement.WebElement (session=\"a3be3d87b8ed7db05ecab090e1de079e\", element=\"54a5fe76-2827-4060-8836-3dea64db57e8\")>,\n",
       " <selenium.webdriver.remote.webelement.WebElement (session=\"a3be3d87b8ed7db05ecab090e1de079e\", element=\"ab0c882a-0daf-4fb3-a2f0-c9f82f3e70b3\")>]"
      ]
     },
     "execution_count": 53,
     "metadata": {},
     "output_type": "execute_result"
    }
   ],
   "source": [
    "job_tags = driver.find_elements_by_xpath(\"//a[@class='title fw500 ellipsis']\")\n",
    "job_tags"
   ]
  },
  {
   "cell_type": "code",
   "execution_count": 55,
   "metadata": {},
   "outputs": [
    {
     "data": {
      "text/plain": [
       "['Data Scientist/Data Analyst /Business Analyst',\n",
       " 'Senior Data Scientist',\n",
       " 'Team Leader Operations/Data Scientist',\n",
       " 'Only Fresher / Data Scientist / Data Analyst / Analytics - MNC Jobs',\n",
       " 'Data Scientist (Early Joiner)',\n",
       " 'Advanced Analytics -Data Scientist',\n",
       " 'Data Scientist',\n",
       " 'Data Scientist || Python || C2H',\n",
       " 'Data Scientist || Python || C2H',\n",
       " 'Data Scientist',\n",
       " 'Data Scientist -Delhi',\n",
       " 'Senior Data Scientist',\n",
       " 'Data Scientist',\n",
       " 'Data Scientist',\n",
       " 'Data Scientist',\n",
       " 'Data Scientist',\n",
       " 'Associate Data Scientist',\n",
       " 'Associate Data Scientist',\n",
       " 'DATA SCIENTIST',\n",
       " 'Data Scientist']"
      ]
     },
     "execution_count": 55,
     "metadata": {},
     "output_type": "execute_result"
    }
   ],
   "source": [
    "job_titles=[]\n",
    "for i in job_tags:\n",
    "    job_titles.append(i.text)\n",
    "job_titles    "
   ]
  },
  {
   "cell_type": "code",
   "execution_count": 56,
   "metadata": {},
   "outputs": [
    {
     "data": {
      "text/plain": [
       "[<selenium.webdriver.remote.webelement.WebElement (session=\"a3be3d87b8ed7db05ecab090e1de079e\", element=\"92576b38-94b9-4159-b512-c0c1001bae43\")>,\n",
       " <selenium.webdriver.remote.webelement.WebElement (session=\"a3be3d87b8ed7db05ecab090e1de079e\", element=\"66a5b71c-830d-46cc-818b-c89c94f1c810\")>,\n",
       " <selenium.webdriver.remote.webelement.WebElement (session=\"a3be3d87b8ed7db05ecab090e1de079e\", element=\"6503fe1d-a2b4-4e65-bb18-69cf4dd10a95\")>,\n",
       " <selenium.webdriver.remote.webelement.WebElement (session=\"a3be3d87b8ed7db05ecab090e1de079e\", element=\"e524064d-5969-44fb-a256-811c5efd6b15\")>,\n",
       " <selenium.webdriver.remote.webelement.WebElement (session=\"a3be3d87b8ed7db05ecab090e1de079e\", element=\"eb0c0364-0387-4f50-94b7-6eb93cf5b442\")>,\n",
       " <selenium.webdriver.remote.webelement.WebElement (session=\"a3be3d87b8ed7db05ecab090e1de079e\", element=\"9598fdab-203f-4719-a513-e4ef6de21f61\")>,\n",
       " <selenium.webdriver.remote.webelement.WebElement (session=\"a3be3d87b8ed7db05ecab090e1de079e\", element=\"d4cacd35-8b16-480f-9fa0-f5f2fe1b339b\")>,\n",
       " <selenium.webdriver.remote.webelement.WebElement (session=\"a3be3d87b8ed7db05ecab090e1de079e\", element=\"f92837f8-8008-47ab-9abd-d0b501675138\")>,\n",
       " <selenium.webdriver.remote.webelement.WebElement (session=\"a3be3d87b8ed7db05ecab090e1de079e\", element=\"ff86f9eb-d9bc-4703-9bd9-1c7136561b2b\")>,\n",
       " <selenium.webdriver.remote.webelement.WebElement (session=\"a3be3d87b8ed7db05ecab090e1de079e\", element=\"a9c80525-0968-4b63-b3e4-321293af27bd\")>,\n",
       " <selenium.webdriver.remote.webelement.WebElement (session=\"a3be3d87b8ed7db05ecab090e1de079e\", element=\"72e96480-75a4-4340-bbea-7f12ef4edcaf\")>,\n",
       " <selenium.webdriver.remote.webelement.WebElement (session=\"a3be3d87b8ed7db05ecab090e1de079e\", element=\"163186bf-10c1-4c78-b3c9-6c55ce4df67f\")>,\n",
       " <selenium.webdriver.remote.webelement.WebElement (session=\"a3be3d87b8ed7db05ecab090e1de079e\", element=\"319e7bf3-3dd5-4540-a332-9de62cc99883\")>,\n",
       " <selenium.webdriver.remote.webelement.WebElement (session=\"a3be3d87b8ed7db05ecab090e1de079e\", element=\"be53c04c-e71c-43a3-9919-154ddd7adbfe\")>,\n",
       " <selenium.webdriver.remote.webelement.WebElement (session=\"a3be3d87b8ed7db05ecab090e1de079e\", element=\"c783a342-4697-48e5-9048-5c8551fb905c\")>,\n",
       " <selenium.webdriver.remote.webelement.WebElement (session=\"a3be3d87b8ed7db05ecab090e1de079e\", element=\"cda57e31-65a1-4718-8147-221719a454fe\")>,\n",
       " <selenium.webdriver.remote.webelement.WebElement (session=\"a3be3d87b8ed7db05ecab090e1de079e\", element=\"c6ff8784-f4fc-4db6-ac75-448182dd580b\")>,\n",
       " <selenium.webdriver.remote.webelement.WebElement (session=\"a3be3d87b8ed7db05ecab090e1de079e\", element=\"71d685a7-fffd-4085-92d0-c583ffb0542d\")>,\n",
       " <selenium.webdriver.remote.webelement.WebElement (session=\"a3be3d87b8ed7db05ecab090e1de079e\", element=\"ef75b314-8e6b-4b18-9814-6ab2476f6d2a\")>,\n",
       " <selenium.webdriver.remote.webelement.WebElement (session=\"a3be3d87b8ed7db05ecab090e1de079e\", element=\"e7f778f3-de5c-408a-a380-4276b727e45f\")>]"
      ]
     },
     "execution_count": 56,
     "metadata": {},
     "output_type": "execute_result"
    }
   ],
   "source": [
    "location_tags=driver.find_elements_by_xpath(\"//li[@class='fleft grey-text br2 placeHolderLi location']//span\")\n",
    "location_tags"
   ]
  },
  {
   "cell_type": "code",
   "execution_count": 58,
   "metadata": {},
   "outputs": [
    {
     "data": {
      "text/plain": [
       "['Pune, Delhi / NCR, Mumbai (All Areas)',\n",
       " 'Hyderabad/Secunderabad, Gurgaon/Gurugram, Bangalore/Bengaluru',\n",
       " 'Gurgaon/Gurugram, Delhi / NCR',\n",
       " 'Noida, Greater Noida, Delhi / NCR',\n",
       " 'Noida(Sector-59 Noida)',\n",
       " 'New Delhi, Hyderabad/Secunderabad',\n",
       " 'Hyderabad/Secunderabad, Gurgaon/Gurugram, Bangalore/Bengaluru',\n",
       " 'Noida, Kolkata, Gurgaon/Gurugram, Bangalore/Bengaluru',\n",
       " 'Noida, Kolkata, Gurgaon/Gurugram, Bangalore/Bengaluru',\n",
       " 'Mumbai, Gurgaon/Gurugram, Bangalore/Bengaluru',\n",
       " 'New Delhi',\n",
       " 'Delhi',\n",
       " 'Gurgaon, Bengaluru',\n",
       " 'Bharuch, Jaipur, Bhopal, Mumbai, Jhansi, Nagpur, Ghaziabad, Jaunpur, Kanpur, New Delhi, Lucknow, Agra, Gurgaon/Gurugram, Rajkot, Bangalore/Bengaluru',\n",
       " 'New Delhi',\n",
       " 'Delhi',\n",
       " 'Noida',\n",
       " 'New Delhi',\n",
       " 'Gurgaon',\n",
       " 'Gurgaon']"
      ]
     },
     "execution_count": 58,
     "metadata": {},
     "output_type": "execute_result"
    }
   ],
   "source": [
    "job_location=[]\n",
    "for i in location_tags:\n",
    "    job_location.append(i.text)\n",
    "job_location    "
   ]
  },
  {
   "cell_type": "code",
   "execution_count": 59,
   "metadata": {},
   "outputs": [
    {
     "data": {
      "text/plain": [
       "[<selenium.webdriver.remote.webelement.WebElement (session=\"a3be3d87b8ed7db05ecab090e1de079e\", element=\"b7114e1e-4012-4d8e-9ec5-39a4ad69af05\")>,\n",
       " <selenium.webdriver.remote.webelement.WebElement (session=\"a3be3d87b8ed7db05ecab090e1de079e\", element=\"c5caf498-a5c7-4a21-aa27-bdff2090e60c\")>,\n",
       " <selenium.webdriver.remote.webelement.WebElement (session=\"a3be3d87b8ed7db05ecab090e1de079e\", element=\"167ef866-e727-4d71-aedd-8ca18d7e7be4\")>,\n",
       " <selenium.webdriver.remote.webelement.WebElement (session=\"a3be3d87b8ed7db05ecab090e1de079e\", element=\"225496ec-8fcf-4b10-a0c7-7a54f6f91832\")>,\n",
       " <selenium.webdriver.remote.webelement.WebElement (session=\"a3be3d87b8ed7db05ecab090e1de079e\", element=\"8103b901-176f-4013-80a5-3b636648afc8\")>,\n",
       " <selenium.webdriver.remote.webelement.WebElement (session=\"a3be3d87b8ed7db05ecab090e1de079e\", element=\"64b8fc50-94b9-4450-b17d-95362ce890a2\")>,\n",
       " <selenium.webdriver.remote.webelement.WebElement (session=\"a3be3d87b8ed7db05ecab090e1de079e\", element=\"ec9004f5-3395-491c-82ca-4def62519bbf\")>,\n",
       " <selenium.webdriver.remote.webelement.WebElement (session=\"a3be3d87b8ed7db05ecab090e1de079e\", element=\"6a82e470-4db4-426d-8284-6023c7ee2c2f\")>,\n",
       " <selenium.webdriver.remote.webelement.WebElement (session=\"a3be3d87b8ed7db05ecab090e1de079e\", element=\"81b3a2f6-4fdb-48d2-9e74-95cd177c634b\")>,\n",
       " <selenium.webdriver.remote.webelement.WebElement (session=\"a3be3d87b8ed7db05ecab090e1de079e\", element=\"a6ea9cb8-25ff-443f-817c-3da9366a0bdb\")>,\n",
       " <selenium.webdriver.remote.webelement.WebElement (session=\"a3be3d87b8ed7db05ecab090e1de079e\", element=\"0151ea34-9504-4b29-a91e-3a5170b159f1\")>,\n",
       " <selenium.webdriver.remote.webelement.WebElement (session=\"a3be3d87b8ed7db05ecab090e1de079e\", element=\"d1f8bca5-80cf-49d7-a7b9-33abd85c3618\")>,\n",
       " <selenium.webdriver.remote.webelement.WebElement (session=\"a3be3d87b8ed7db05ecab090e1de079e\", element=\"4d3cfba8-b198-49d5-ab48-d03e0030945a\")>,\n",
       " <selenium.webdriver.remote.webelement.WebElement (session=\"a3be3d87b8ed7db05ecab090e1de079e\", element=\"fe77c8b2-4554-4b36-bfcc-0e86f36a5485\")>,\n",
       " <selenium.webdriver.remote.webelement.WebElement (session=\"a3be3d87b8ed7db05ecab090e1de079e\", element=\"4ef52bb2-9b65-4173-a6f3-3d70eba1ac2b\")>,\n",
       " <selenium.webdriver.remote.webelement.WebElement (session=\"a3be3d87b8ed7db05ecab090e1de079e\", element=\"81fb3ddf-6668-4505-990b-70ba41cabba8\")>,\n",
       " <selenium.webdriver.remote.webelement.WebElement (session=\"a3be3d87b8ed7db05ecab090e1de079e\", element=\"baf6f835-64fb-48bd-b8fa-8e3410939d27\")>,\n",
       " <selenium.webdriver.remote.webelement.WebElement (session=\"a3be3d87b8ed7db05ecab090e1de079e\", element=\"9ab7e10c-b34e-40ce-9a9c-1c067ccb74a0\")>,\n",
       " <selenium.webdriver.remote.webelement.WebElement (session=\"a3be3d87b8ed7db05ecab090e1de079e\", element=\"9a61a6cb-8d99-48a8-bfcc-75ec95ec2b33\")>,\n",
       " <selenium.webdriver.remote.webelement.WebElement (session=\"a3be3d87b8ed7db05ecab090e1de079e\", element=\"f76decb7-f735-46e6-8d72-3c60e4a9daaf\")>]"
      ]
     },
     "execution_count": 59,
     "metadata": {},
     "output_type": "execute_result"
    }
   ],
   "source": [
    "company_tags=driver.find_elements_by_xpath(\"//a[@class='subTitle ellipsis fleft']\")\n",
    "company_tags"
   ]
  },
  {
   "cell_type": "code",
   "execution_count": 60,
   "metadata": {},
   "outputs": [
    {
     "data": {
      "text/plain": [
       "['Inflexion Analytix Private Limited',\n",
       " 'inVentiv International Pharma Services Pvt. Ltd.',\n",
       " 'Optimint Solutions Pvt. Ltd.',\n",
       " 'GABA Consultancy services',\n",
       " 'R Systems International Ltd.',\n",
       " 'ERM Placement Services (P) Ltd.',\n",
       " 'recruitment advisory line',\n",
       " 'Growel Softech Pvt. Ltd.',\n",
       " 'Growel Softech Pvt. Ltd.',\n",
       " 'Fractal Analytics',\n",
       " 'CHANGE LEADERS CONSULTING',\n",
       " 'iNICU',\n",
       " 'BlackBuck',\n",
       " 'Country Veggie',\n",
       " 'Mahajan Imaging',\n",
       " 'Mahajan Imaging',\n",
       " 'Right Step Consulting',\n",
       " 'Blow Trumpet Solutions',\n",
       " 'Inference Labs',\n",
       " 'itForte Staffing Services Private Ltd.']"
      ]
     },
     "execution_count": 60,
     "metadata": {},
     "output_type": "execute_result"
    }
   ],
   "source": [
    "company_name=[]\n",
    "for i in company_tags:\n",
    "    company_name.append(i.text)\n",
    "company_name"
   ]
  },
  {
   "cell_type": "code",
   "execution_count": 61,
   "metadata": {},
   "outputs": [
    {
     "data": {
      "text/plain": [
       "[<selenium.webdriver.remote.webelement.WebElement (session=\"a3be3d87b8ed7db05ecab090e1de079e\", element=\"3d742900-6728-493f-8e43-ab51a5e10314\")>,\n",
       " <selenium.webdriver.remote.webelement.WebElement (session=\"a3be3d87b8ed7db05ecab090e1de079e\", element=\"b3a4cf6a-889f-4f0f-94d5-65cf516518f0\")>,\n",
       " <selenium.webdriver.remote.webelement.WebElement (session=\"a3be3d87b8ed7db05ecab090e1de079e\", element=\"e28fd8a6-2851-40d7-b06b-45ba37f94c1f\")>,\n",
       " <selenium.webdriver.remote.webelement.WebElement (session=\"a3be3d87b8ed7db05ecab090e1de079e\", element=\"7007d367-3c3d-4226-a5e2-a9f6724832cc\")>,\n",
       " <selenium.webdriver.remote.webelement.WebElement (session=\"a3be3d87b8ed7db05ecab090e1de079e\", element=\"34b990f1-bcf1-46b7-ba98-04e6989743df\")>,\n",
       " <selenium.webdriver.remote.webelement.WebElement (session=\"a3be3d87b8ed7db05ecab090e1de079e\", element=\"57f2b98f-8759-483d-80ab-f6cda1171955\")>,\n",
       " <selenium.webdriver.remote.webelement.WebElement (session=\"a3be3d87b8ed7db05ecab090e1de079e\", element=\"c9cfa351-253e-4863-8a8d-078fcc1038f7\")>,\n",
       " <selenium.webdriver.remote.webelement.WebElement (session=\"a3be3d87b8ed7db05ecab090e1de079e\", element=\"eff8fbbd-3546-4831-9908-2c81b47a0b52\")>,\n",
       " <selenium.webdriver.remote.webelement.WebElement (session=\"a3be3d87b8ed7db05ecab090e1de079e\", element=\"59f67ccb-2f97-49df-be6d-c14b7575d0fa\")>,\n",
       " <selenium.webdriver.remote.webelement.WebElement (session=\"a3be3d87b8ed7db05ecab090e1de079e\", element=\"81a54720-efdb-4292-8538-c703f0b2aa63\")>,\n",
       " <selenium.webdriver.remote.webelement.WebElement (session=\"a3be3d87b8ed7db05ecab090e1de079e\", element=\"97a90f84-b876-4b05-b466-0d81b48f77e3\")>,\n",
       " <selenium.webdriver.remote.webelement.WebElement (session=\"a3be3d87b8ed7db05ecab090e1de079e\", element=\"fbcd58f3-851a-43b3-955d-6e15890c137b\")>,\n",
       " <selenium.webdriver.remote.webelement.WebElement (session=\"a3be3d87b8ed7db05ecab090e1de079e\", element=\"4d3563f4-ddb5-459e-9e18-202d40f8b1e6\")>,\n",
       " <selenium.webdriver.remote.webelement.WebElement (session=\"a3be3d87b8ed7db05ecab090e1de079e\", element=\"b0c030bc-8adc-4963-8e5a-9198c07195fb\")>,\n",
       " <selenium.webdriver.remote.webelement.WebElement (session=\"a3be3d87b8ed7db05ecab090e1de079e\", element=\"dc442d52-2f06-4fcd-af2b-b1da40d050e2\")>,\n",
       " <selenium.webdriver.remote.webelement.WebElement (session=\"a3be3d87b8ed7db05ecab090e1de079e\", element=\"f05b6836-363c-4fba-a554-373477340a62\")>,\n",
       " <selenium.webdriver.remote.webelement.WebElement (session=\"a3be3d87b8ed7db05ecab090e1de079e\", element=\"b039943d-248f-4d74-94de-09f63b5a738f\")>,\n",
       " <selenium.webdriver.remote.webelement.WebElement (session=\"a3be3d87b8ed7db05ecab090e1de079e\", element=\"100b6f98-61c6-49f1-8da8-733d8856b229\")>,\n",
       " <selenium.webdriver.remote.webelement.WebElement (session=\"a3be3d87b8ed7db05ecab090e1de079e\", element=\"91003f1d-3e9c-4c03-a367-54d741104417\")>,\n",
       " <selenium.webdriver.remote.webelement.WebElement (session=\"a3be3d87b8ed7db05ecab090e1de079e\", element=\"ac083f56-29cc-41ce-b04d-85a5ff862f4a\")>]"
      ]
     },
     "execution_count": 61,
     "metadata": {},
     "output_type": "execute_result"
    }
   ],
   "source": [
    "experience_tags = driver.find_elements_by_xpath(\"//li[@class='fleft grey-text br2 placeHolderLi experience']//span\")\n",
    "experience_tags"
   ]
  },
  {
   "cell_type": "code",
   "execution_count": 62,
   "metadata": {},
   "outputs": [
    {
     "data": {
      "text/plain": [
       "['0-3 Yrs',\n",
       " '3-6 Yrs',\n",
       " '2-5 Yrs',\n",
       " '0-0 Yrs',\n",
       " '4-8 Yrs',\n",
       " '3-7 Yrs',\n",
       " '3-6 Yrs',\n",
       " '4-6 Yrs',\n",
       " '4-6 Yrs',\n",
       " '3-7 Yrs',\n",
       " '5-8 Yrs',\n",
       " '1-5 Yrs',\n",
       " '3-7 Yrs',\n",
       " '1-3 Yrs',\n",
       " '2-6 Yrs',\n",
       " '2-6 Yrs',\n",
       " '3-6 Yrs',\n",
       " '1-5 Yrs',\n",
       " '3-5 Yrs',\n",
       " '3-8 Yrs']"
      ]
     },
     "execution_count": 62,
     "metadata": {},
     "output_type": "execute_result"
    }
   ],
   "source": [
    "experience_required=[]\n",
    "for i in experience_tags:\n",
    "    experience_required.append(i.text)\n",
    "experience_required    "
   ]
  },
  {
   "cell_type": "code",
   "execution_count": 63,
   "metadata": {},
   "outputs": [
    {
     "name": "stdout",
     "output_type": "stream",
     "text": [
      "20 20 20 20\n"
     ]
    }
   ],
   "source": [
    "print(len(company_name),len(job_location),len(job_titles),len(experience_required))"
   ]
  },
  {
   "cell_type": "code",
   "execution_count": 64,
   "metadata": {},
   "outputs": [],
   "source": [
    "job=pd.DataFrame({})\n",
    "job['Job Title']=job_titles[:10]\n",
    "job['Job Location']=job_location[:10]\n",
    "job['Comapny Name']=company_name[:10]\n",
    "job['Experience Requried']=experience_required[:10]"
   ]
  },
  {
   "cell_type": "code",
   "execution_count": 65,
   "metadata": {},
   "outputs": [
    {
     "data": {
      "text/html": [
       "<div>\n",
       "<style scoped>\n",
       "    .dataframe tbody tr th:only-of-type {\n",
       "        vertical-align: middle;\n",
       "    }\n",
       "\n",
       "    .dataframe tbody tr th {\n",
       "        vertical-align: top;\n",
       "    }\n",
       "\n",
       "    .dataframe thead th {\n",
       "        text-align: right;\n",
       "    }\n",
       "</style>\n",
       "<table border=\"1\" class=\"dataframe\">\n",
       "  <thead>\n",
       "    <tr style=\"text-align: right;\">\n",
       "      <th></th>\n",
       "      <th>Job Title</th>\n",
       "      <th>Job Location</th>\n",
       "      <th>Comapny Name</th>\n",
       "      <th>Experience Requried</th>\n",
       "    </tr>\n",
       "  </thead>\n",
       "  <tbody>\n",
       "    <tr>\n",
       "      <th>0</th>\n",
       "      <td>Data Scientist/Data Analyst /Business Analyst</td>\n",
       "      <td>Pune, Delhi / NCR, Mumbai (All Areas)</td>\n",
       "      <td>Inflexion Analytix Private Limited</td>\n",
       "      <td>0-3 Yrs</td>\n",
       "    </tr>\n",
       "    <tr>\n",
       "      <th>1</th>\n",
       "      <td>Senior Data Scientist</td>\n",
       "      <td>Hyderabad/Secunderabad, Gurgaon/Gurugram, Bang...</td>\n",
       "      <td>inVentiv International Pharma Services Pvt. Ltd.</td>\n",
       "      <td>3-6 Yrs</td>\n",
       "    </tr>\n",
       "    <tr>\n",
       "      <th>2</th>\n",
       "      <td>Team Leader Operations/Data Scientist</td>\n",
       "      <td>Gurgaon/Gurugram, Delhi / NCR</td>\n",
       "      <td>Optimint Solutions Pvt. Ltd.</td>\n",
       "      <td>2-5 Yrs</td>\n",
       "    </tr>\n",
       "    <tr>\n",
       "      <th>3</th>\n",
       "      <td>Only Fresher / Data Scientist / Data Analyst /...</td>\n",
       "      <td>Noida, Greater Noida, Delhi / NCR</td>\n",
       "      <td>GABA Consultancy services</td>\n",
       "      <td>0-0 Yrs</td>\n",
       "    </tr>\n",
       "    <tr>\n",
       "      <th>4</th>\n",
       "      <td>Data Scientist (Early Joiner)</td>\n",
       "      <td>Noida(Sector-59 Noida)</td>\n",
       "      <td>R Systems International Ltd.</td>\n",
       "      <td>4-8 Yrs</td>\n",
       "    </tr>\n",
       "    <tr>\n",
       "      <th>5</th>\n",
       "      <td>Advanced Analytics -Data Scientist</td>\n",
       "      <td>New Delhi, Hyderabad/Secunderabad</td>\n",
       "      <td>ERM Placement Services (P) Ltd.</td>\n",
       "      <td>3-7 Yrs</td>\n",
       "    </tr>\n",
       "    <tr>\n",
       "      <th>6</th>\n",
       "      <td>Data Scientist</td>\n",
       "      <td>Hyderabad/Secunderabad, Gurgaon/Gurugram, Bang...</td>\n",
       "      <td>recruitment advisory line</td>\n",
       "      <td>3-6 Yrs</td>\n",
       "    </tr>\n",
       "    <tr>\n",
       "      <th>7</th>\n",
       "      <td>Data Scientist || Python || C2H</td>\n",
       "      <td>Noida, Kolkata, Gurgaon/Gurugram, Bangalore/Be...</td>\n",
       "      <td>Growel Softech Pvt. Ltd.</td>\n",
       "      <td>4-6 Yrs</td>\n",
       "    </tr>\n",
       "    <tr>\n",
       "      <th>8</th>\n",
       "      <td>Data Scientist || Python || C2H</td>\n",
       "      <td>Noida, Kolkata, Gurgaon/Gurugram, Bangalore/Be...</td>\n",
       "      <td>Growel Softech Pvt. Ltd.</td>\n",
       "      <td>4-6 Yrs</td>\n",
       "    </tr>\n",
       "    <tr>\n",
       "      <th>9</th>\n",
       "      <td>Data Scientist</td>\n",
       "      <td>Mumbai, Gurgaon/Gurugram, Bangalore/Bengaluru</td>\n",
       "      <td>Fractal Analytics</td>\n",
       "      <td>3-7 Yrs</td>\n",
       "    </tr>\n",
       "  </tbody>\n",
       "</table>\n",
       "</div>"
      ],
      "text/plain": [
       "                                           Job Title  \\\n",
       "0      Data Scientist/Data Analyst /Business Analyst   \n",
       "1                              Senior Data Scientist   \n",
       "2              Team Leader Operations/Data Scientist   \n",
       "3  Only Fresher / Data Scientist / Data Analyst /...   \n",
       "4                      Data Scientist (Early Joiner)   \n",
       "5                 Advanced Analytics -Data Scientist   \n",
       "6                                     Data Scientist   \n",
       "7                    Data Scientist || Python || C2H   \n",
       "8                    Data Scientist || Python || C2H   \n",
       "9                                     Data Scientist   \n",
       "\n",
       "                                        Job Location  \\\n",
       "0              Pune, Delhi / NCR, Mumbai (All Areas)   \n",
       "1  Hyderabad/Secunderabad, Gurgaon/Gurugram, Bang...   \n",
       "2                      Gurgaon/Gurugram, Delhi / NCR   \n",
       "3                  Noida, Greater Noida, Delhi / NCR   \n",
       "4                             Noida(Sector-59 Noida)   \n",
       "5                  New Delhi, Hyderabad/Secunderabad   \n",
       "6  Hyderabad/Secunderabad, Gurgaon/Gurugram, Bang...   \n",
       "7  Noida, Kolkata, Gurgaon/Gurugram, Bangalore/Be...   \n",
       "8  Noida, Kolkata, Gurgaon/Gurugram, Bangalore/Be...   \n",
       "9      Mumbai, Gurgaon/Gurugram, Bangalore/Bengaluru   \n",
       "\n",
       "                                       Comapny Name Experience Requried  \n",
       "0                Inflexion Analytix Private Limited             0-3 Yrs  \n",
       "1  inVentiv International Pharma Services Pvt. Ltd.             3-6 Yrs  \n",
       "2                      Optimint Solutions Pvt. Ltd.             2-5 Yrs  \n",
       "3                         GABA Consultancy services             0-0 Yrs  \n",
       "4                      R Systems International Ltd.             4-8 Yrs  \n",
       "5                   ERM Placement Services (P) Ltd.             3-7 Yrs  \n",
       "6                         recruitment advisory line             3-6 Yrs  \n",
       "7                          Growel Softech Pvt. Ltd.             4-6 Yrs  \n",
       "8                          Growel Softech Pvt. Ltd.             4-6 Yrs  \n",
       "9                                 Fractal Analytics             3-7 Yrs  "
      ]
     },
     "execution_count": 65,
     "metadata": {},
     "output_type": "execute_result"
    }
   ],
   "source": [
    "job"
   ]
  },
  {
   "cell_type": "code",
   "execution_count": null,
   "metadata": {},
   "outputs": [],
   "source": []
  },
  {
   "cell_type": "code",
   "execution_count": null,
   "metadata": {},
   "outputs": [],
   "source": []
  },
  {
   "cell_type": "markdown",
   "metadata": {},
   "source": [
    "# Q4: Write a python program to scrape data for first 10 job results for Data scientist \n",
    "Designation in Noida location. You have to scrape company_name, No. of days \n",
    "ago when job was posted, Rating of the company.\n",
    "This task will be done in following steps:\n",
    "1. first get the webpage https://www.glassdoor.co.in/index.htm\n",
    "2. Enter “Data Scientist” in “Job Title,Keyword,Company” field and enter “Noida” \n",
    "in “location” field.\n",
    "3. Then click the search button. You will land up in the below page:\n",
    "4. Then scrape the data for the first 10 jobs results you get in the above shown \n",
    "page.\n",
    "5. Finally create a dataframe of the scraped data.\n",
    "Note- All of the above steps have to be done in code. No step is to be done \n",
    "manually.\n"
   ]
  },
  {
   "cell_type": "code",
   "execution_count": 66,
   "metadata": {},
   "outputs": [],
   "source": [
    "driver = webdriver.Chrome(r\"C:\\Users\\Rajat Jibhkate\\Downloads\\chromedriver_win32\\chromedriver.exe\")"
   ]
  },
  {
   "cell_type": "code",
   "execution_count": 67,
   "metadata": {},
   "outputs": [],
   "source": [
    "url=\"https://www.glassdoor.co.in/index.htm\"\n",
    "driver.get(url)"
   ]
  },
  {
   "cell_type": "code",
   "execution_count": 70,
   "metadata": {},
   "outputs": [
    {
     "data": {
      "text/plain": [
       "<selenium.webdriver.remote.webelement.WebElement (session=\"89125b734fca9afa9f8ab2d43595ba78\", element=\"9994798b-85bb-48d7-9a2e-6113f1e40974\")>"
      ]
     },
     "execution_count": 70,
     "metadata": {},
     "output_type": "execute_result"
    }
   ],
   "source": [
    "search_job=driver.find_element_by_id(\"sc.keyword\")\n",
    "\n",
    "search_job"
   ]
  },
  {
   "cell_type": "code",
   "execution_count": 71,
   "metadata": {},
   "outputs": [],
   "source": [
    "search_job.send_keys(\"Data Scientist\")"
   ]
  },
  {
   "cell_type": "code",
   "execution_count": 72,
   "metadata": {},
   "outputs": [
    {
     "data": {
      "text/plain": [
       "<selenium.webdriver.remote.webelement.WebElement (session=\"89125b734fca9afa9f8ab2d43595ba78\", element=\"cd285b38-1d7a-4b3f-83ca-39d92bfff0bf\")>"
      ]
     },
     "execution_count": 72,
     "metadata": {},
     "output_type": "execute_result"
    }
   ],
   "source": [
    "search_loc=driver.find_element_by_id(\"sc.location\")\n",
    "\n",
    "search_loc"
   ]
  },
  {
   "cell_type": "code",
   "execution_count": 73,
   "metadata": {},
   "outputs": [],
   "source": [
    "search_loc.send_keys(\"Noida\")"
   ]
  },
  {
   "cell_type": "code",
   "execution_count": 75,
   "metadata": {},
   "outputs": [],
   "source": [
    "search_btn=driver.find_element_by_xpath(\"//button[@class='gd-ui-button ml-std col-auto SearchStyles__newSearchButton css-iixdfr']\")\n",
    "\n",
    "search_btn.click()"
   ]
  },
  {
   "cell_type": "code",
   "execution_count": 95,
   "metadata": {},
   "outputs": [],
   "source": [
    "company_name=[]\n",
    "number_of_days_ago=[]\n",
    "ratings=[]"
   ]
  },
  {
   "cell_type": "code",
   "execution_count": 96,
   "metadata": {},
   "outputs": [
    {
     "data": {
      "text/plain": [
       "[<selenium.webdriver.remote.webelement.WebElement (session=\"89125b734fca9afa9f8ab2d43595ba78\", element=\"ecfe2dab-3862-4492-a687-0d911c79cc9a\")>,\n",
       " <selenium.webdriver.remote.webelement.WebElement (session=\"89125b734fca9afa9f8ab2d43595ba78\", element=\"e5d0f079-84bb-46aa-9181-411e6e08e317\")>,\n",
       " <selenium.webdriver.remote.webelement.WebElement (session=\"89125b734fca9afa9f8ab2d43595ba78\", element=\"2353c2ee-5562-437f-a8ee-89fcbe051c35\")>,\n",
       " <selenium.webdriver.remote.webelement.WebElement (session=\"89125b734fca9afa9f8ab2d43595ba78\", element=\"d4df23ab-ee3c-4bfa-9b24-c9c11b525488\")>,\n",
       " <selenium.webdriver.remote.webelement.WebElement (session=\"89125b734fca9afa9f8ab2d43595ba78\", element=\"9ce505d4-697e-4be3-a4af-3c29f3e4ed50\")>,\n",
       " <selenium.webdriver.remote.webelement.WebElement (session=\"89125b734fca9afa9f8ab2d43595ba78\", element=\"2d89b64a-8fa9-4525-8e6b-e869eb85d92f\")>,\n",
       " <selenium.webdriver.remote.webelement.WebElement (session=\"89125b734fca9afa9f8ab2d43595ba78\", element=\"e1d0a8cf-2324-481f-aca9-fe816a88272c\")>,\n",
       " <selenium.webdriver.remote.webelement.WebElement (session=\"89125b734fca9afa9f8ab2d43595ba78\", element=\"c1ff5a89-aee9-4b55-a726-734cddb69402\")>,\n",
       " <selenium.webdriver.remote.webelement.WebElement (session=\"89125b734fca9afa9f8ab2d43595ba78\", element=\"6d979a19-1cfd-4076-a622-57a5b6c3658d\")>,\n",
       " <selenium.webdriver.remote.webelement.WebElement (session=\"89125b734fca9afa9f8ab2d43595ba78\", element=\"a6b34b6d-6b75-4a48-82d9-b39bd730437f\")>,\n",
       " <selenium.webdriver.remote.webelement.WebElement (session=\"89125b734fca9afa9f8ab2d43595ba78\", element=\"5125c43d-cf87-45dc-bd9e-20edb2c1407e\")>,\n",
       " <selenium.webdriver.remote.webelement.WebElement (session=\"89125b734fca9afa9f8ab2d43595ba78\", element=\"d4525740-89cf-4d61-b48f-9dcecf388e18\")>,\n",
       " <selenium.webdriver.remote.webelement.WebElement (session=\"89125b734fca9afa9f8ab2d43595ba78\", element=\"9e794a5e-ce07-40aa-b5e4-d93303f55f06\")>,\n",
       " <selenium.webdriver.remote.webelement.WebElement (session=\"89125b734fca9afa9f8ab2d43595ba78\", element=\"38b92c3a-f845-4847-8ade-07ceb42c4d77\")>,\n",
       " <selenium.webdriver.remote.webelement.WebElement (session=\"89125b734fca9afa9f8ab2d43595ba78\", element=\"472122af-8081-4af6-81d8-c4f061114fc9\")>,\n",
       " <selenium.webdriver.remote.webelement.WebElement (session=\"89125b734fca9afa9f8ab2d43595ba78\", element=\"52a83ff8-1234-495b-89d0-29afe2e713ca\")>,\n",
       " <selenium.webdriver.remote.webelement.WebElement (session=\"89125b734fca9afa9f8ab2d43595ba78\", element=\"713deb51-59c4-45db-8a91-9602efb368ad\")>,\n",
       " <selenium.webdriver.remote.webelement.WebElement (session=\"89125b734fca9afa9f8ab2d43595ba78\", element=\"3daf73b8-1c23-4ea7-878e-743209c80430\")>,\n",
       " <selenium.webdriver.remote.webelement.WebElement (session=\"89125b734fca9afa9f8ab2d43595ba78\", element=\"30c251a4-b19e-4030-a002-8841d2678496\")>,\n",
       " <selenium.webdriver.remote.webelement.WebElement (session=\"89125b734fca9afa9f8ab2d43595ba78\", element=\"d72e6dff-958e-43e8-95d0-4fb0b6c089f1\")>,\n",
       " <selenium.webdriver.remote.webelement.WebElement (session=\"89125b734fca9afa9f8ab2d43595ba78\", element=\"e34266bd-cbe8-4448-9ffc-e6a687dc3bac\")>,\n",
       " <selenium.webdriver.remote.webelement.WebElement (session=\"89125b734fca9afa9f8ab2d43595ba78\", element=\"f7cace38-99b8-4f16-a5e4-a7f8167b8b8d\")>,\n",
       " <selenium.webdriver.remote.webelement.WebElement (session=\"89125b734fca9afa9f8ab2d43595ba78\", element=\"a09b5acf-5626-4d1f-83a8-a5c84d3c9690\")>,\n",
       " <selenium.webdriver.remote.webelement.WebElement (session=\"89125b734fca9afa9f8ab2d43595ba78\", element=\"61408b2c-474b-4c09-a57e-84c33e30a4ce\")>,\n",
       " <selenium.webdriver.remote.webelement.WebElement (session=\"89125b734fca9afa9f8ab2d43595ba78\", element=\"3b10ff56-c251-4b5b-8662-251922cc7938\")>,\n",
       " <selenium.webdriver.remote.webelement.WebElement (session=\"89125b734fca9afa9f8ab2d43595ba78\", element=\"e27d4dbd-9862-4005-8a46-df4ea9af36de\")>,\n",
       " <selenium.webdriver.remote.webelement.WebElement (session=\"89125b734fca9afa9f8ab2d43595ba78\", element=\"2143c123-4219-4100-8a10-761ffcd4b885\")>,\n",
       " <selenium.webdriver.remote.webelement.WebElement (session=\"89125b734fca9afa9f8ab2d43595ba78\", element=\"29f8bc47-b87e-476b-9240-0b92112afbfb\")>,\n",
       " <selenium.webdriver.remote.webelement.WebElement (session=\"89125b734fca9afa9f8ab2d43595ba78\", element=\"a0398312-1b0b-40ac-a087-ecc216cd2825\")>,\n",
       " <selenium.webdriver.remote.webelement.WebElement (session=\"89125b734fca9afa9f8ab2d43595ba78\", element=\"6153d51b-3c87-4bf7-82df-40d0fc562d37\")>,\n",
       " <selenium.webdriver.remote.webelement.WebElement (session=\"89125b734fca9afa9f8ab2d43595ba78\", element=\"8b697de5-e573-4183-8d59-402173bbc581\")>,\n",
       " <selenium.webdriver.remote.webelement.WebElement (session=\"89125b734fca9afa9f8ab2d43595ba78\", element=\"3890cb1f-7f18-4ae5-9066-54b7a9e88d53\")>]"
      ]
     },
     "execution_count": 96,
     "metadata": {},
     "output_type": "execute_result"
    }
   ],
   "source": [
    "comp = driver.find_elements_by_xpath(\"//a[@class=' css-l2wjgv e1n63ojh0 jobLink']//span\")\n",
    "comp"
   ]
  },
  {
   "cell_type": "code",
   "execution_count": 97,
   "metadata": {},
   "outputs": [
    {
     "data": {
      "text/plain": [
       "['Bechtel',\n",
       " 'Bechtel',\n",
       " 'Ericsson',\n",
       " 'NatWest Group',\n",
       " 'Crowe',\n",
       " 'MobiKwik',\n",
       " 'Lantern Digital Services',\n",
       " 'Siemens Technology and Services Private Limited',\n",
       " 'Ally wiredsoft solutions (P) ltd',\n",
       " 'Dürr Somac GmbH',\n",
       " 'Priority Vendor',\n",
       " 'Biz2Credit Inc',\n",
       " 'Data Patterns',\n",
       " 'Gauge Data Solutions',\n",
       " 'WinZO',\n",
       " 'Novo',\n",
       " 'Techlive',\n",
       " 'Dürr IT Services India',\n",
       " 'White Vectors',\n",
       " 'Barclays',\n",
       " 'WishFin',\n",
       " 'xtLytics',\n",
       " 'Innovacer',\n",
       " 'xtLytics',\n",
       " 'Algoscale',\n",
       " 'Salasar New Age Technologies',\n",
       " 'SearchUrCollege',\n",
       " 'CSTEP',\n",
       " 'MasterCard',\n",
       " 'Applicate IT Solutions Pvt. Ltd.',\n",
       " 'Team Computers',\n",
       " 'ADCI - Haryana']"
      ]
     },
     "execution_count": 97,
     "metadata": {},
     "output_type": "execute_result"
    }
   ],
   "source": [
    "for i in comp:\n",
    "    company_name.append(i.text)\n",
    "company_name    "
   ]
  },
  {
   "cell_type": "code",
   "execution_count": 98,
   "metadata": {},
   "outputs": [
    {
     "data": {
      "text/plain": [
       "[<selenium.webdriver.remote.webelement.WebElement (session=\"89125b734fca9afa9f8ab2d43595ba78\", element=\"b25a484f-dd09-4d62-98d3-09346a404837\")>,\n",
       " <selenium.webdriver.remote.webelement.WebElement (session=\"89125b734fca9afa9f8ab2d43595ba78\", element=\"da7e4f7e-e78d-471b-8c75-7e375b8d2bda\")>,\n",
       " <selenium.webdriver.remote.webelement.WebElement (session=\"89125b734fca9afa9f8ab2d43595ba78\", element=\"91523245-d716-4ddd-8b47-dd3109a7dff5\")>,\n",
       " <selenium.webdriver.remote.webelement.WebElement (session=\"89125b734fca9afa9f8ab2d43595ba78\", element=\"0b515969-db71-4af8-9906-f0f778314c9e\")>,\n",
       " <selenium.webdriver.remote.webelement.WebElement (session=\"89125b734fca9afa9f8ab2d43595ba78\", element=\"5f965b95-18a6-478b-ad72-9146fb660824\")>,\n",
       " <selenium.webdriver.remote.webelement.WebElement (session=\"89125b734fca9afa9f8ab2d43595ba78\", element=\"537f5173-e85f-4194-b5fb-af6cb604ba37\")>,\n",
       " <selenium.webdriver.remote.webelement.WebElement (session=\"89125b734fca9afa9f8ab2d43595ba78\", element=\"78c65039-8b63-44a2-87ec-e1b5c3036b84\")>,\n",
       " <selenium.webdriver.remote.webelement.WebElement (session=\"89125b734fca9afa9f8ab2d43595ba78\", element=\"2744e852-0169-422e-b23e-2ad9fe81e049\")>,\n",
       " <selenium.webdriver.remote.webelement.WebElement (session=\"89125b734fca9afa9f8ab2d43595ba78\", element=\"05e2fe35-9d3b-4bb8-abbe-b1e5542df013\")>,\n",
       " <selenium.webdriver.remote.webelement.WebElement (session=\"89125b734fca9afa9f8ab2d43595ba78\", element=\"40e08a50-f8b9-43cf-b8ba-f4847d138523\")>,\n",
       " <selenium.webdriver.remote.webelement.WebElement (session=\"89125b734fca9afa9f8ab2d43595ba78\", element=\"2e04e8ec-5e7d-4657-b643-7f1cbc566770\")>,\n",
       " <selenium.webdriver.remote.webelement.WebElement (session=\"89125b734fca9afa9f8ab2d43595ba78\", element=\"6682f085-17b7-42af-8965-53818b1e4059\")>,\n",
       " <selenium.webdriver.remote.webelement.WebElement (session=\"89125b734fca9afa9f8ab2d43595ba78\", element=\"3582eb7d-cf56-48c9-8c05-0627cd42f684\")>,\n",
       " <selenium.webdriver.remote.webelement.WebElement (session=\"89125b734fca9afa9f8ab2d43595ba78\", element=\"8016db6d-35fe-4ffe-b9ab-f08d071fe86f\")>,\n",
       " <selenium.webdriver.remote.webelement.WebElement (session=\"89125b734fca9afa9f8ab2d43595ba78\", element=\"d953c6f8-a5e8-4118-a3dd-f749affaa0b5\")>,\n",
       " <selenium.webdriver.remote.webelement.WebElement (session=\"89125b734fca9afa9f8ab2d43595ba78\", element=\"10ad049b-f06e-44a5-937a-6a133402e1c9\")>,\n",
       " <selenium.webdriver.remote.webelement.WebElement (session=\"89125b734fca9afa9f8ab2d43595ba78\", element=\"cc477569-f3be-4c09-814e-ca06fb3c1737\")>,\n",
       " <selenium.webdriver.remote.webelement.WebElement (session=\"89125b734fca9afa9f8ab2d43595ba78\", element=\"a8249cfd-9e01-4b16-979d-5a20e092f76d\")>,\n",
       " <selenium.webdriver.remote.webelement.WebElement (session=\"89125b734fca9afa9f8ab2d43595ba78\", element=\"d638078a-93d7-4058-8cf2-923050108067\")>,\n",
       " <selenium.webdriver.remote.webelement.WebElement (session=\"89125b734fca9afa9f8ab2d43595ba78\", element=\"e95a9012-65c0-40b6-8a1f-ef2a3e14cefe\")>,\n",
       " <selenium.webdriver.remote.webelement.WebElement (session=\"89125b734fca9afa9f8ab2d43595ba78\", element=\"02673829-e4c5-404f-b895-9e677f134e07\")>,\n",
       " <selenium.webdriver.remote.webelement.WebElement (session=\"89125b734fca9afa9f8ab2d43595ba78\", element=\"06ef3c06-476d-42e3-84f4-704293def650\")>,\n",
       " <selenium.webdriver.remote.webelement.WebElement (session=\"89125b734fca9afa9f8ab2d43595ba78\", element=\"697603c8-16f3-4e29-b13f-f86ac03fb0a3\")>]"
      ]
     },
     "execution_count": 98,
     "metadata": {},
     "output_type": "execute_result"
    }
   ],
   "source": [
    "rating = driver.find_elements_by_xpath(\"//span[@class='css-19pjha7 e1cjmv6j1']\")\n",
    "rating"
   ]
  },
  {
   "cell_type": "code",
   "execution_count": 99,
   "metadata": {},
   "outputs": [
    {
     "data": {
      "text/plain": [
       "['4.0',\n",
       " '4.0',\n",
       " '4.1',\n",
       " '3.9',\n",
       " '3.8',\n",
       " '4.0',\n",
       " '3.5',\n",
       " '4.1',\n",
       " '3.7',\n",
       " '3.9',\n",
       " '3.1',\n",
       " '3.0',\n",
       " '4.7',\n",
       " '5.0',\n",
       " '4.0',\n",
       " '4.0',\n",
       " '3.8',\n",
       " '3.8',\n",
       " '3.8',\n",
       " '3.1',\n",
       " '4.3',\n",
       " '4.1',\n",
       " '4.3']"
      ]
     },
     "execution_count": 99,
     "metadata": {},
     "output_type": "execute_result"
    }
   ],
   "source": [
    "for i in rating:\n",
    "    ratings.append(i.text)\n",
    "ratings   "
   ]
  },
  {
   "cell_type": "code",
   "execution_count": 100,
   "metadata": {},
   "outputs": [
    {
     "data": {
      "text/plain": [
       "[<selenium.webdriver.remote.webelement.WebElement (session=\"89125b734fca9afa9f8ab2d43595ba78\", element=\"fe7c2793-fd88-429e-9e25-560a4c377773\")>,\n",
       " <selenium.webdriver.remote.webelement.WebElement (session=\"89125b734fca9afa9f8ab2d43595ba78\", element=\"24c979d0-276a-482d-adc4-86665872f116\")>,\n",
       " <selenium.webdriver.remote.webelement.WebElement (session=\"89125b734fca9afa9f8ab2d43595ba78\", element=\"38473244-cd45-4233-8192-e81d28e763bd\")>,\n",
       " <selenium.webdriver.remote.webelement.WebElement (session=\"89125b734fca9afa9f8ab2d43595ba78\", element=\"9bcd119a-a4ea-4d72-8986-cc52d82264e1\")>,\n",
       " <selenium.webdriver.remote.webelement.WebElement (session=\"89125b734fca9afa9f8ab2d43595ba78\", element=\"6c61c312-4cc3-4e9d-b841-d968c74326a6\")>,\n",
       " <selenium.webdriver.remote.webelement.WebElement (session=\"89125b734fca9afa9f8ab2d43595ba78\", element=\"63482642-2be5-4c1f-974b-f5b9c65feac1\")>,\n",
       " <selenium.webdriver.remote.webelement.WebElement (session=\"89125b734fca9afa9f8ab2d43595ba78\", element=\"53611888-f4a2-4db8-9155-3cfb310dbe77\")>,\n",
       " <selenium.webdriver.remote.webelement.WebElement (session=\"89125b734fca9afa9f8ab2d43595ba78\", element=\"ad9290b6-c9f6-44b0-8919-8f03b0b8c8a1\")>,\n",
       " <selenium.webdriver.remote.webelement.WebElement (session=\"89125b734fca9afa9f8ab2d43595ba78\", element=\"a10ac3f7-4572-4d5d-9e45-383e25fd6f12\")>,\n",
       " <selenium.webdriver.remote.webelement.WebElement (session=\"89125b734fca9afa9f8ab2d43595ba78\", element=\"87460c7c-8765-430f-9ce4-91225f9322a9\")>,\n",
       " <selenium.webdriver.remote.webelement.WebElement (session=\"89125b734fca9afa9f8ab2d43595ba78\", element=\"187baf5b-554a-4771-a552-0003a458c5ea\")>,\n",
       " <selenium.webdriver.remote.webelement.WebElement (session=\"89125b734fca9afa9f8ab2d43595ba78\", element=\"7daf47a6-b197-4b0f-8e6e-cfe109851762\")>,\n",
       " <selenium.webdriver.remote.webelement.WebElement (session=\"89125b734fca9afa9f8ab2d43595ba78\", element=\"68a986f7-5ccf-4680-8926-c76372e08ba6\")>,\n",
       " <selenium.webdriver.remote.webelement.WebElement (session=\"89125b734fca9afa9f8ab2d43595ba78\", element=\"e2e27c59-7f19-4b87-8db0-3d986b890735\")>,\n",
       " <selenium.webdriver.remote.webelement.WebElement (session=\"89125b734fca9afa9f8ab2d43595ba78\", element=\"f8d04322-e5d9-4208-a9cf-1de066a1c6c6\")>,\n",
       " <selenium.webdriver.remote.webelement.WebElement (session=\"89125b734fca9afa9f8ab2d43595ba78\", element=\"39b23147-23a1-46ab-a4f3-be2bb959aab1\")>,\n",
       " <selenium.webdriver.remote.webelement.WebElement (session=\"89125b734fca9afa9f8ab2d43595ba78\", element=\"f3d11312-f140-4a9a-858d-cea524d1bd3e\")>,\n",
       " <selenium.webdriver.remote.webelement.WebElement (session=\"89125b734fca9afa9f8ab2d43595ba78\", element=\"03e6a41d-8443-45df-b35c-b43706418f01\")>,\n",
       " <selenium.webdriver.remote.webelement.WebElement (session=\"89125b734fca9afa9f8ab2d43595ba78\", element=\"4af64138-0bfd-48e9-922a-cb5ea0a9b322\")>,\n",
       " <selenium.webdriver.remote.webelement.WebElement (session=\"89125b734fca9afa9f8ab2d43595ba78\", element=\"7e4f6670-a2dc-4d5d-bed9-ba3fea1561e9\")>,\n",
       " <selenium.webdriver.remote.webelement.WebElement (session=\"89125b734fca9afa9f8ab2d43595ba78\", element=\"ed118057-fa08-4087-b49c-22287b7d4d8a\")>,\n",
       " <selenium.webdriver.remote.webelement.WebElement (session=\"89125b734fca9afa9f8ab2d43595ba78\", element=\"64b52fac-e120-496f-b26d-833c1afd25a4\")>,\n",
       " <selenium.webdriver.remote.webelement.WebElement (session=\"89125b734fca9afa9f8ab2d43595ba78\", element=\"62d37d49-3f66-42c1-930f-f4e9a8aa811f\")>,\n",
       " <selenium.webdriver.remote.webelement.WebElement (session=\"89125b734fca9afa9f8ab2d43595ba78\", element=\"80e8db9c-3c37-4691-9d37-bd75f3fed31e\")>,\n",
       " <selenium.webdriver.remote.webelement.WebElement (session=\"89125b734fca9afa9f8ab2d43595ba78\", element=\"528ffb3b-b436-4875-8a81-20f817197157\")>,\n",
       " <selenium.webdriver.remote.webelement.WebElement (session=\"89125b734fca9afa9f8ab2d43595ba78\", element=\"c8130a5e-5e47-41a4-a227-7f05a0bf80f5\")>,\n",
       " <selenium.webdriver.remote.webelement.WebElement (session=\"89125b734fca9afa9f8ab2d43595ba78\", element=\"9f7a5a69-0515-46fe-95b5-f4dd5699fde7\")>,\n",
       " <selenium.webdriver.remote.webelement.WebElement (session=\"89125b734fca9afa9f8ab2d43595ba78\", element=\"1f27e080-6a46-445b-b40c-2038a4779d88\")>,\n",
       " <selenium.webdriver.remote.webelement.WebElement (session=\"89125b734fca9afa9f8ab2d43595ba78\", element=\"b732e897-fdd3-4445-a6fb-22c39b9620ac\")>,\n",
       " <selenium.webdriver.remote.webelement.WebElement (session=\"89125b734fca9afa9f8ab2d43595ba78\", element=\"850fc30d-d723-4d9b-9818-fd2b9a6c2703\")>,\n",
       " <selenium.webdriver.remote.webelement.WebElement (session=\"89125b734fca9afa9f8ab2d43595ba78\", element=\"deac2c39-c11b-4e08-b9b6-d0df3baffc34\")>,\n",
       " <selenium.webdriver.remote.webelement.WebElement (session=\"89125b734fca9afa9f8ab2d43595ba78\", element=\"df5416ae-0b57-4a7f-b41d-1daa4dc2f49b\")>]"
      ]
     },
     "execution_count": 100,
     "metadata": {},
     "output_type": "execute_result"
    }
   ],
   "source": [
    "days=driver.find_elements_by_xpath(\"//div[@class='d-flex align-items-end pl-std css-mi55ob']\")\n",
    "days"
   ]
  },
  {
   "cell_type": "code",
   "execution_count": 101,
   "metadata": {},
   "outputs": [
    {
     "data": {
      "text/plain": [
       "['1d',\n",
       " '12d',\n",
       " '16d',\n",
       " '1d',\n",
       " '9d',\n",
       " '24d',\n",
       " '3d',\n",
       " '21d',\n",
       " '2d',\n",
       " '24h',\n",
       " '9d',\n",
       " '17d',\n",
       " '25d',\n",
       " '9d',\n",
       " '24h',\n",
       " '7d',\n",
       " '15d',\n",
       " '24h',\n",
       " '3d',\n",
       " '2d',\n",
       " '20d',\n",
       " '23d',\n",
       " '14d',\n",
       " '23d',\n",
       " '9d',\n",
       " '22d',\n",
       " '9d',\n",
       " '25d',\n",
       " '15d',\n",
       " '3d',\n",
       " '25d',\n",
       " '23d']"
      ]
     },
     "execution_count": 101,
     "metadata": {},
     "output_type": "execute_result"
    }
   ],
   "source": [
    "for i in days:\n",
    "    number_of_days_ago.append(i.text)\n",
    "number_of_days_ago  "
   ]
  },
  {
   "cell_type": "code",
   "execution_count": 102,
   "metadata": {},
   "outputs": [
    {
     "name": "stdout",
     "output_type": "stream",
     "text": [
      "32 32 23\n"
     ]
    }
   ],
   "source": [
    "print(len(company_name),len(number_of_days_ago),len(ratings))"
   ]
  },
  {
   "cell_type": "code",
   "execution_count": 103,
   "metadata": {},
   "outputs": [],
   "source": [
    "jobs=pd.DataFrame({})\n",
    "jobs['Company Name']=company_name[:10]\n",
    "jobs['Number Of Days Ago']=number_of_days_ago[:10]\n",
    "jobs['Ratings']=ratings[:10]"
   ]
  },
  {
   "cell_type": "code",
   "execution_count": 104,
   "metadata": {},
   "outputs": [
    {
     "data": {
      "text/html": [
       "<div>\n",
       "<style scoped>\n",
       "    .dataframe tbody tr th:only-of-type {\n",
       "        vertical-align: middle;\n",
       "    }\n",
       "\n",
       "    .dataframe tbody tr th {\n",
       "        vertical-align: top;\n",
       "    }\n",
       "\n",
       "    .dataframe thead th {\n",
       "        text-align: right;\n",
       "    }\n",
       "</style>\n",
       "<table border=\"1\" class=\"dataframe\">\n",
       "  <thead>\n",
       "    <tr style=\"text-align: right;\">\n",
       "      <th></th>\n",
       "      <th>Company Name</th>\n",
       "      <th>Number Of Days Ago</th>\n",
       "      <th>Ratings</th>\n",
       "    </tr>\n",
       "  </thead>\n",
       "  <tbody>\n",
       "    <tr>\n",
       "      <th>0</th>\n",
       "      <td>Bechtel</td>\n",
       "      <td>1d</td>\n",
       "      <td>4.0</td>\n",
       "    </tr>\n",
       "    <tr>\n",
       "      <th>1</th>\n",
       "      <td>Bechtel</td>\n",
       "      <td>12d</td>\n",
       "      <td>4.0</td>\n",
       "    </tr>\n",
       "    <tr>\n",
       "      <th>2</th>\n",
       "      <td>Ericsson</td>\n",
       "      <td>16d</td>\n",
       "      <td>4.1</td>\n",
       "    </tr>\n",
       "    <tr>\n",
       "      <th>3</th>\n",
       "      <td>NatWest Group</td>\n",
       "      <td>1d</td>\n",
       "      <td>3.9</td>\n",
       "    </tr>\n",
       "    <tr>\n",
       "      <th>4</th>\n",
       "      <td>Crowe</td>\n",
       "      <td>9d</td>\n",
       "      <td>3.8</td>\n",
       "    </tr>\n",
       "    <tr>\n",
       "      <th>5</th>\n",
       "      <td>MobiKwik</td>\n",
       "      <td>24d</td>\n",
       "      <td>4.0</td>\n",
       "    </tr>\n",
       "    <tr>\n",
       "      <th>6</th>\n",
       "      <td>Lantern Digital Services</td>\n",
       "      <td>3d</td>\n",
       "      <td>3.5</td>\n",
       "    </tr>\n",
       "    <tr>\n",
       "      <th>7</th>\n",
       "      <td>Siemens Technology and Services Private Limited</td>\n",
       "      <td>21d</td>\n",
       "      <td>4.1</td>\n",
       "    </tr>\n",
       "    <tr>\n",
       "      <th>8</th>\n",
       "      <td>Ally wiredsoft solutions (P) ltd</td>\n",
       "      <td>2d</td>\n",
       "      <td>3.7</td>\n",
       "    </tr>\n",
       "    <tr>\n",
       "      <th>9</th>\n",
       "      <td>Dürr Somac GmbH</td>\n",
       "      <td>24h</td>\n",
       "      <td>3.9</td>\n",
       "    </tr>\n",
       "  </tbody>\n",
       "</table>\n",
       "</div>"
      ],
      "text/plain": [
       "                                      Company Name Number Of Days Ago Ratings\n",
       "0                                          Bechtel                 1d     4.0\n",
       "1                                          Bechtel                12d     4.0\n",
       "2                                         Ericsson                16d     4.1\n",
       "3                                    NatWest Group                 1d     3.9\n",
       "4                                            Crowe                 9d     3.8\n",
       "5                                         MobiKwik                24d     4.0\n",
       "6                         Lantern Digital Services                 3d     3.5\n",
       "7  Siemens Technology and Services Private Limited                21d     4.1\n",
       "8                 Ally wiredsoft solutions (P) ltd                 2d     3.7\n",
       "9                                  Dürr Somac GmbH                24h     3.9"
      ]
     },
     "execution_count": 104,
     "metadata": {},
     "output_type": "execute_result"
    }
   ],
   "source": [
    "jobs"
   ]
  },
  {
   "cell_type": "code",
   "execution_count": null,
   "metadata": {},
   "outputs": [],
   "source": []
  },
  {
   "cell_type": "code",
   "execution_count": null,
   "metadata": {},
   "outputs": [],
   "source": []
  },
  {
   "cell_type": "markdown",
   "metadata": {},
   "source": [
    "# Q5: Write a python program to scrape the salary data for Data Scientist designation \n",
    "in Noida location.\n",
    "You have to scrape Company name, Number of salaries, Average salary, Min\n",
    "salary, Max Salary.\n",
    "The above task will be, done as shown in the below steps:\n",
    "1. first get the webpage https://www.glassdoor.co.in/Salaries/index.htm\n",
    "2. Enter “Data Scientist” in Job title field and “Noida” in location field.\n",
    "3. Click the search button.\n",
    "4. After that you will land on the below page.\n",
    "You have to scrape whole data from this webpage\n",
    "5. Scrape data for first 10 companies. Scrape the min salary, max salary, company \n",
    "name, Average salary and rating of the company.\n",
    "6.Store the data in a dataframe.\n",
    "Note that all of the above steps have to be done by coding only and not manually."
   ]
  },
  {
   "cell_type": "code",
   "execution_count": 105,
   "metadata": {},
   "outputs": [],
   "source": [
    "driver = webdriver.Chrome(r\"C:\\Users\\Rajat Jibhkate\\Downloads\\chromedriver_win32\\chromedriver.exe\")"
   ]
  },
  {
   "cell_type": "code",
   "execution_count": 106,
   "metadata": {},
   "outputs": [],
   "source": [
    "url=\"https://www.glassdoor.co.in/Salaries/index.htm\"\n",
    "driver.get(url)"
   ]
  },
  {
   "cell_type": "code",
   "execution_count": 107,
   "metadata": {},
   "outputs": [
    {
     "data": {
      "text/plain": [
       "<selenium.webdriver.remote.webelement.WebElement (session=\"8b91047ff1e563eea2e11401465fc759\", element=\"cdb29631-f347-44c4-93fa-f1697c8fa7c1\")>"
      ]
     },
     "execution_count": 107,
     "metadata": {},
     "output_type": "execute_result"
    }
   ],
   "source": [
    "search_job = driver.find_element_by_id(\"KeywordSearch\")\n",
    "search_job"
   ]
  },
  {
   "cell_type": "code",
   "execution_count": 108,
   "metadata": {},
   "outputs": [],
   "source": [
    "search_job.send_keys(\"Data Scientist\")"
   ]
  },
  {
   "cell_type": "code",
   "execution_count": 109,
   "metadata": {},
   "outputs": [
    {
     "data": {
      "text/plain": [
       "<selenium.webdriver.remote.webelement.WebElement (session=\"8b91047ff1e563eea2e11401465fc759\", element=\"84bff200-5e68-42ea-ac40-129c506640a6\")>"
      ]
     },
     "execution_count": 109,
     "metadata": {},
     "output_type": "execute_result"
    }
   ],
   "source": [
    "search_loc = driver.find_element_by_id(\"LocationSearch\")\n",
    "search_loc"
   ]
  },
  {
   "cell_type": "code",
   "execution_count": 110,
   "metadata": {},
   "outputs": [],
   "source": [
    "search_loc.send_keys(\"Noida\")"
   ]
  },
  {
   "cell_type": "code",
   "execution_count": 111,
   "metadata": {},
   "outputs": [],
   "source": [
    "search_btn=driver.find_element_by_id(\"HeroSearchButton\")\n",
    "search_btn.click()"
   ]
  },
  {
   "cell_type": "code",
   "execution_count": 112,
   "metadata": {},
   "outputs": [
    {
     "data": {
      "text/plain": [
       "[<selenium.webdriver.remote.webelement.WebElement (session=\"8b91047ff1e563eea2e11401465fc759\", element=\"7cd0a393-1e59-4ff4-b108-e43508c256d3\")>,\n",
       " <selenium.webdriver.remote.webelement.WebElement (session=\"8b91047ff1e563eea2e11401465fc759\", element=\"d6f5baff-5abc-41c9-8007-d19cd7f15583\")>,\n",
       " <selenium.webdriver.remote.webelement.WebElement (session=\"8b91047ff1e563eea2e11401465fc759\", element=\"f4a9b256-f0de-4257-bcc8-b58b00ed1ea6\")>,\n",
       " <selenium.webdriver.remote.webelement.WebElement (session=\"8b91047ff1e563eea2e11401465fc759\", element=\"a7d84252-e1ca-4fbf-a54b-839aea50740a\")>,\n",
       " <selenium.webdriver.remote.webelement.WebElement (session=\"8b91047ff1e563eea2e11401465fc759\", element=\"87e51f31-ec83-42c9-8dbe-1e167fb1c119\")>,\n",
       " <selenium.webdriver.remote.webelement.WebElement (session=\"8b91047ff1e563eea2e11401465fc759\", element=\"2fd34f55-879a-4c5b-86dc-18f442a80b17\")>,\n",
       " <selenium.webdriver.remote.webelement.WebElement (session=\"8b91047ff1e563eea2e11401465fc759\", element=\"18bb16be-ae7f-4b29-bbac-a32a62bd945e\")>,\n",
       " <selenium.webdriver.remote.webelement.WebElement (session=\"8b91047ff1e563eea2e11401465fc759\", element=\"05b956fd-9945-4389-8937-97b11db06817\")>,\n",
       " <selenium.webdriver.remote.webelement.WebElement (session=\"8b91047ff1e563eea2e11401465fc759\", element=\"40e25d63-1ef7-49b0-b0e7-33c5faf814b9\")>,\n",
       " <selenium.webdriver.remote.webelement.WebElement (session=\"8b91047ff1e563eea2e11401465fc759\", element=\"72b3c83c-edef-4b65-8360-904e160ffc92\")>,\n",
       " <selenium.webdriver.remote.webelement.WebElement (session=\"8b91047ff1e563eea2e11401465fc759\", element=\"ca378160-3182-481f-af7a-620c0d51b7df\")>,\n",
       " <selenium.webdriver.remote.webelement.WebElement (session=\"8b91047ff1e563eea2e11401465fc759\", element=\"2c06dded-cefa-4e23-a90e-ead97c9d114f\")>,\n",
       " <selenium.webdriver.remote.webelement.WebElement (session=\"8b91047ff1e563eea2e11401465fc759\", element=\"2c0aeeb9-608b-47ad-9545-69fb2dd78600\")>,\n",
       " <selenium.webdriver.remote.webelement.WebElement (session=\"8b91047ff1e563eea2e11401465fc759\", element=\"107d2d1a-9cc8-466d-93d6-f9547806f0a8\")>,\n",
       " <selenium.webdriver.remote.webelement.WebElement (session=\"8b91047ff1e563eea2e11401465fc759\", element=\"35379290-2af8-4ce0-b847-c0faf04975a2\")>,\n",
       " <selenium.webdriver.remote.webelement.WebElement (session=\"8b91047ff1e563eea2e11401465fc759\", element=\"a7e2e61e-e26c-4240-9df5-25d7b4c28365\")>,\n",
       " <selenium.webdriver.remote.webelement.WebElement (session=\"8b91047ff1e563eea2e11401465fc759\", element=\"3d4aad8e-0797-4833-bb83-7842b7142dab\")>,\n",
       " <selenium.webdriver.remote.webelement.WebElement (session=\"8b91047ff1e563eea2e11401465fc759\", element=\"d3b83300-4238-4e46-ab58-73202154a0dd\")>,\n",
       " <selenium.webdriver.remote.webelement.WebElement (session=\"8b91047ff1e563eea2e11401465fc759\", element=\"b8b86401-00e4-4a0c-b93d-204c1fa6af63\")>,\n",
       " <selenium.webdriver.remote.webelement.WebElement (session=\"8b91047ff1e563eea2e11401465fc759\", element=\"a22e24a9-b053-4a8d-8296-a9b99f174331\")>]"
      ]
     },
     "execution_count": 112,
     "metadata": {},
     "output_type": "execute_result"
    }
   ],
   "source": [
    "company_tags=driver.find_elements_by_xpath(\"//a[@class='css-f3vw95 e1aj7ssy3']\")\n",
    "company_tags"
   ]
  },
  {
   "cell_type": "code",
   "execution_count": 113,
   "metadata": {},
   "outputs": [
    {
     "data": {
      "text/plain": [
       "['IBM',\n",
       " 'Tata Consultancy Services',\n",
       " 'Accenture',\n",
       " 'Delhivery',\n",
       " 'Ericsson-Worldwide',\n",
       " 'UnitedHealth Group',\n",
       " 'Valiance Solutions',\n",
       " 'EXL Service',\n",
       " 'Optum Global Solutions',\n",
       " 'ZS Associates',\n",
       " 'Optum',\n",
       " 'Innovaccer',\n",
       " 'Cognizant Technology Solutions',\n",
       " 'OYO',\n",
       " 'Nagarro',\n",
       " 'dunnhumby',\n",
       " 'Vidooly Media Tech',\n",
       " 'Tech Mahindra',\n",
       " 'R Systems',\n",
       " 'CARS24.com']"
      ]
     },
     "execution_count": 113,
     "metadata": {},
     "output_type": "execute_result"
    }
   ],
   "source": [
    "company_name=[]\n",
    "for i in company_tags:\n",
    "    company_name.append(i.text)\n",
    "company_name    "
   ]
  },
  {
   "cell_type": "code",
   "execution_count": 114,
   "metadata": {},
   "outputs": [
    {
     "data": {
      "text/plain": [
       "[<selenium.webdriver.remote.webelement.WebElement (session=\"8b91047ff1e563eea2e11401465fc759\", element=\"feb0714b-abc7-4720-ab79-8495a573a84a\")>,\n",
       " <selenium.webdriver.remote.webelement.WebElement (session=\"8b91047ff1e563eea2e11401465fc759\", element=\"e9548b2e-9065-422d-98c8-72b81bc24c11\")>,\n",
       " <selenium.webdriver.remote.webelement.WebElement (session=\"8b91047ff1e563eea2e11401465fc759\", element=\"fb96f17e-bba2-474b-819a-db1f9c82a774\")>,\n",
       " <selenium.webdriver.remote.webelement.WebElement (session=\"8b91047ff1e563eea2e11401465fc759\", element=\"bea5ad83-c067-4762-9d5e-1af68208856d\")>,\n",
       " <selenium.webdriver.remote.webelement.WebElement (session=\"8b91047ff1e563eea2e11401465fc759\", element=\"24d81d21-8a82-4bb7-8f48-5a3ed7fc85b7\")>,\n",
       " <selenium.webdriver.remote.webelement.WebElement (session=\"8b91047ff1e563eea2e11401465fc759\", element=\"24520b22-65ac-4951-861c-28dece98a5c6\")>,\n",
       " <selenium.webdriver.remote.webelement.WebElement (session=\"8b91047ff1e563eea2e11401465fc759\", element=\"3b09987b-0f28-4e45-bbb1-122dc2875131\")>,\n",
       " <selenium.webdriver.remote.webelement.WebElement (session=\"8b91047ff1e563eea2e11401465fc759\", element=\"bed7440d-9102-4519-8dbb-f6e3e814f570\")>,\n",
       " <selenium.webdriver.remote.webelement.WebElement (session=\"8b91047ff1e563eea2e11401465fc759\", element=\"08779b6b-0b30-4964-a219-5a998d089930\")>,\n",
       " <selenium.webdriver.remote.webelement.WebElement (session=\"8b91047ff1e563eea2e11401465fc759\", element=\"40d877dd-8fcb-40af-bd1d-c4fdb1b24d21\")>,\n",
       " <selenium.webdriver.remote.webelement.WebElement (session=\"8b91047ff1e563eea2e11401465fc759\", element=\"98eba87d-979d-4509-8c18-fb43481ba1ba\")>,\n",
       " <selenium.webdriver.remote.webelement.WebElement (session=\"8b91047ff1e563eea2e11401465fc759\", element=\"3dfbcf3a-2328-4ed9-90c0-f86612e3cd25\")>,\n",
       " <selenium.webdriver.remote.webelement.WebElement (session=\"8b91047ff1e563eea2e11401465fc759\", element=\"137f45e9-03ce-4bec-a40f-c4b582412b1f\")>,\n",
       " <selenium.webdriver.remote.webelement.WebElement (session=\"8b91047ff1e563eea2e11401465fc759\", element=\"df0d21fa-3811-46df-b649-761475ced637\")>,\n",
       " <selenium.webdriver.remote.webelement.WebElement (session=\"8b91047ff1e563eea2e11401465fc759\", element=\"4d3b2f05-7f0a-4271-beb4-b1e4a47f80af\")>,\n",
       " <selenium.webdriver.remote.webelement.WebElement (session=\"8b91047ff1e563eea2e11401465fc759\", element=\"7fadea4b-e181-4b94-ac61-55702bdd5922\")>,\n",
       " <selenium.webdriver.remote.webelement.WebElement (session=\"8b91047ff1e563eea2e11401465fc759\", element=\"43b9d96a-259c-40c7-8d17-1b66bfedc417\")>,\n",
       " <selenium.webdriver.remote.webelement.WebElement (session=\"8b91047ff1e563eea2e11401465fc759\", element=\"c2d47e1a-8aac-44ac-b4e8-046d0016a0dc\")>,\n",
       " <selenium.webdriver.remote.webelement.WebElement (session=\"8b91047ff1e563eea2e11401465fc759\", element=\"7b771427-495e-4728-8739-2ed444d070f2\")>,\n",
       " <selenium.webdriver.remote.webelement.WebElement (session=\"8b91047ff1e563eea2e11401465fc759\", element=\"0bd4b8ec-84fb-4097-ae8d-00bca3f7bfb7\")>]"
      ]
     },
     "execution_count": 114,
     "metadata": {},
     "output_type": "execute_result"
    }
   ],
   "source": [
    "salary_tags=driver.find_elements_by_xpath(\"//div[@class='col-12 col-lg-4 px-lg-0 d-flex align-items-baseline']//h3\")\n",
    "salary_tags"
   ]
  },
  {
   "cell_type": "code",
   "execution_count": 115,
   "metadata": {},
   "outputs": [
    {
     "data": {
      "text/plain": [
       "['₹9,00,000',\n",
       " '₹6,15,289',\n",
       " '₹11,63,336',\n",
       " '₹12,18,244',\n",
       " '₹7,39,238',\n",
       " '₹13,00,000',\n",
       " '₹8,63,750',\n",
       " '₹11,10,000',\n",
       " '₹13,28,697',\n",
       " '₹11,42,356',\n",
       " '₹13,20,960',\n",
       " '₹12,09,040',\n",
       " '₹10,09,021',\n",
       " '₹12,58,227',\n",
       " '₹9,92,632',\n",
       " '₹10,55,478',\n",
       " '₹34,157',\n",
       " '₹10,54,402',\n",
       " '₹18,40,134',\n",
       " '₹10,00,000']"
      ]
     },
     "execution_count": 115,
     "metadata": {},
     "output_type": "execute_result"
    }
   ],
   "source": [
    "avg_salary=[]\n",
    "for i in salary_tags:\n",
    "    avg_salary.append(i.text)\n",
    "avg_salary "
   ]
  },
  {
   "cell_type": "code",
   "execution_count": 167,
   "metadata": {},
   "outputs": [
    {
     "data": {
      "text/plain": [
       "[<selenium.webdriver.remote.webelement.WebElement (session=\"8b91047ff1e563eea2e11401465fc759\", element=\"91cbff19-2525-4431-bc96-6d5e74e8cffb\")>,\n",
       " <selenium.webdriver.remote.webelement.WebElement (session=\"8b91047ff1e563eea2e11401465fc759\", element=\"5e2f248f-46f5-4a45-9b87-5b5233bc6435\")>,\n",
       " <selenium.webdriver.remote.webelement.WebElement (session=\"8b91047ff1e563eea2e11401465fc759\", element=\"77a72642-1a60-46a7-9e52-3f119ed22383\")>,\n",
       " <selenium.webdriver.remote.webelement.WebElement (session=\"8b91047ff1e563eea2e11401465fc759\", element=\"dd92ba8d-00c8-4660-8c37-2913eaaf3610\")>,\n",
       " <selenium.webdriver.remote.webelement.WebElement (session=\"8b91047ff1e563eea2e11401465fc759\", element=\"6cfd9674-840a-4e82-aa1b-e97d9e30e762\")>,\n",
       " <selenium.webdriver.remote.webelement.WebElement (session=\"8b91047ff1e563eea2e11401465fc759\", element=\"aa5bafc5-b03d-4395-bc6c-c0df4214a6f0\")>,\n",
       " <selenium.webdriver.remote.webelement.WebElement (session=\"8b91047ff1e563eea2e11401465fc759\", element=\"555866a4-84d5-4e05-af53-0c88d77babbd\")>,\n",
       " <selenium.webdriver.remote.webelement.WebElement (session=\"8b91047ff1e563eea2e11401465fc759\", element=\"38ef74b7-78d5-4933-b6a6-46ce0555de11\")>,\n",
       " <selenium.webdriver.remote.webelement.WebElement (session=\"8b91047ff1e563eea2e11401465fc759\", element=\"8cb24f9a-f9b7-47e0-bc03-b70be065eea8\")>,\n",
       " <selenium.webdriver.remote.webelement.WebElement (session=\"8b91047ff1e563eea2e11401465fc759\", element=\"d41b7be9-f942-45ab-92db-f778752c39c1\")>,\n",
       " <selenium.webdriver.remote.webelement.WebElement (session=\"8b91047ff1e563eea2e11401465fc759\", element=\"16d5b55b-bb71-427e-94e4-1f23c098afb7\")>,\n",
       " <selenium.webdriver.remote.webelement.WebElement (session=\"8b91047ff1e563eea2e11401465fc759\", element=\"12d2ecec-e2ff-4037-9c38-7773d12d6bc1\")>,\n",
       " <selenium.webdriver.remote.webelement.WebElement (session=\"8b91047ff1e563eea2e11401465fc759\", element=\"2fea2627-9bf1-4013-80f4-f5ac30ef5447\")>,\n",
       " <selenium.webdriver.remote.webelement.WebElement (session=\"8b91047ff1e563eea2e11401465fc759\", element=\"1ecfe14e-c412-443a-b7ea-cdce5b8ea030\")>,\n",
       " <selenium.webdriver.remote.webelement.WebElement (session=\"8b91047ff1e563eea2e11401465fc759\", element=\"2037af86-b9d1-48b9-aa39-8f7069bf7572\")>,\n",
       " <selenium.webdriver.remote.webelement.WebElement (session=\"8b91047ff1e563eea2e11401465fc759\", element=\"9c906a7f-1f4d-45fd-bce1-de99b35ca556\")>,\n",
       " <selenium.webdriver.remote.webelement.WebElement (session=\"8b91047ff1e563eea2e11401465fc759\", element=\"b5c69d8c-e97b-4d50-a829-9b1a41485d36\")>,\n",
       " <selenium.webdriver.remote.webelement.WebElement (session=\"8b91047ff1e563eea2e11401465fc759\", element=\"e1f97836-6399-47fc-834b-6e6d7a787884\")>,\n",
       " <selenium.webdriver.remote.webelement.WebElement (session=\"8b91047ff1e563eea2e11401465fc759\", element=\"8769df82-f073-4bec-aa8b-1eca97ae1178\")>,\n",
       " <selenium.webdriver.remote.webelement.WebElement (session=\"8b91047ff1e563eea2e11401465fc759\", element=\"075a73d9-c7a8-4aff-9f32-1c420572c138\")>,\n",
       " <selenium.webdriver.remote.webelement.WebElement (session=\"8b91047ff1e563eea2e11401465fc759\", element=\"143a980d-9bf1-4f75-bf33-ecb64324e169\")>,\n",
       " <selenium.webdriver.remote.webelement.WebElement (session=\"8b91047ff1e563eea2e11401465fc759\", element=\"32da7f7c-7b5a-4223-b3db-9c465347da9b\")>]"
      ]
     },
     "execution_count": 167,
     "metadata": {},
     "output_type": "execute_result"
    }
   ],
   "source": [
    "salaries_tags=driver.find_elements_by_xpath(\"//span[@class='m-0 css-1b6bxoo']\")\n",
    "salaries_tags"
   ]
  },
  {
   "cell_type": "code",
   "execution_count": 179,
   "metadata": {},
   "outputs": [
    {
     "data": {
      "text/plain": [
       "['Average',\n",
       " '₹36,319 - ₹3,00,000',\n",
       " '18 salaries',\n",
       " '17 salaries',\n",
       " '15 salaries',\n",
       " '15 salaries',\n",
       " '14 salaries',\n",
       " '13 salaries',\n",
       " '10 salaries',\n",
       " '9 salaries',\n",
       " '9 salaries',\n",
       " '8 salaries',\n",
       " '8 salaries',\n",
       " '8 salaries',\n",
       " '6 salaries',\n",
       " '6 salaries',\n",
       " '6 salaries',\n",
       " '6 salaries',\n",
       " '6 salaries',\n",
       " '5 salaries',\n",
       " '5 salaries',\n",
       " '5 salaries']"
      ]
     },
     "execution_count": 179,
     "metadata": {},
     "output_type": "execute_result"
    }
   ],
   "source": [
    "number_of_salaries=[]\n",
    "for i in salaries_tags:\n",
    "    number_of_salaries.append(i.text)\n",
    "number_of_salaries"
   ]
  },
  {
   "cell_type": "code",
   "execution_count": 180,
   "metadata": {},
   "outputs": [],
   "source": [
    "number_of_salaries=number_of_salaries[2::]"
   ]
  },
  {
   "cell_type": "code",
   "execution_count": 181,
   "metadata": {},
   "outputs": [
    {
     "data": {
      "text/plain": [
       "['18 salaries',\n",
       " '17 salaries',\n",
       " '15 salaries',\n",
       " '15 salaries',\n",
       " '14 salaries',\n",
       " '13 salaries',\n",
       " '10 salaries',\n",
       " '9 salaries',\n",
       " '9 salaries',\n",
       " '8 salaries',\n",
       " '8 salaries',\n",
       " '8 salaries',\n",
       " '6 salaries',\n",
       " '6 salaries',\n",
       " '6 salaries',\n",
       " '6 salaries',\n",
       " '6 salaries',\n",
       " '5 salaries',\n",
       " '5 salaries',\n",
       " '5 salaries']"
      ]
     },
     "execution_count": 181,
     "metadata": {},
     "output_type": "execute_result"
    }
   ],
   "source": [
    "number_of_salaries"
   ]
  },
  {
   "cell_type": "code",
   "execution_count": 118,
   "metadata": {},
   "outputs": [
    {
     "data": {
      "text/plain": [
       "[<selenium.webdriver.remote.webelement.WebElement (session=\"8b91047ff1e563eea2e11401465fc759\", element=\"ed05dcae-b9d2-43e4-aa49-2ffe233f3403\")>,\n",
       " <selenium.webdriver.remote.webelement.WebElement (session=\"8b91047ff1e563eea2e11401465fc759\", element=\"341fc1af-e0b1-4dca-bb89-5100b537e198\")>,\n",
       " <selenium.webdriver.remote.webelement.WebElement (session=\"8b91047ff1e563eea2e11401465fc759\", element=\"a87e7efd-4fda-46c7-99b4-853a3c1e0c02\")>,\n",
       " <selenium.webdriver.remote.webelement.WebElement (session=\"8b91047ff1e563eea2e11401465fc759\", element=\"df949c65-d56b-432b-abf0-4f53b0d51b1b\")>,\n",
       " <selenium.webdriver.remote.webelement.WebElement (session=\"8b91047ff1e563eea2e11401465fc759\", element=\"b38c4a34-facb-42e1-9d85-14760a6896c1\")>,\n",
       " <selenium.webdriver.remote.webelement.WebElement (session=\"8b91047ff1e563eea2e11401465fc759\", element=\"d962905c-75e0-47cb-bb22-1f8836432f11\")>,\n",
       " <selenium.webdriver.remote.webelement.WebElement (session=\"8b91047ff1e563eea2e11401465fc759\", element=\"4c6605eb-4f15-4247-a49a-eb112d73de0b\")>,\n",
       " <selenium.webdriver.remote.webelement.WebElement (session=\"8b91047ff1e563eea2e11401465fc759\", element=\"bf24e8c2-fa20-404b-b549-02d665e55a1c\")>,\n",
       " <selenium.webdriver.remote.webelement.WebElement (session=\"8b91047ff1e563eea2e11401465fc759\", element=\"c73de8e4-0645-4772-9330-0e0f0c99aabe\")>,\n",
       " <selenium.webdriver.remote.webelement.WebElement (session=\"8b91047ff1e563eea2e11401465fc759\", element=\"e8cb3a6b-5d2c-4687-b1d1-01020b8d81d9\")>,\n",
       " <selenium.webdriver.remote.webelement.WebElement (session=\"8b91047ff1e563eea2e11401465fc759\", element=\"228ad07c-b8e8-411f-9cae-1b7e3a6b23c1\")>,\n",
       " <selenium.webdriver.remote.webelement.WebElement (session=\"8b91047ff1e563eea2e11401465fc759\", element=\"2884c70b-c5f8-4937-8ba7-0dbed01985a4\")>,\n",
       " <selenium.webdriver.remote.webelement.WebElement (session=\"8b91047ff1e563eea2e11401465fc759\", element=\"f57eb544-1915-46c4-be0d-71b242e820f8\")>,\n",
       " <selenium.webdriver.remote.webelement.WebElement (session=\"8b91047ff1e563eea2e11401465fc759\", element=\"13b23959-28fa-4a38-9bb8-cd632174f3ee\")>,\n",
       " <selenium.webdriver.remote.webelement.WebElement (session=\"8b91047ff1e563eea2e11401465fc759\", element=\"ced78289-2408-47aa-a58c-0af69095accb\")>,\n",
       " <selenium.webdriver.remote.webelement.WebElement (session=\"8b91047ff1e563eea2e11401465fc759\", element=\"8982a73e-e7ea-4c97-b896-733b037c0b64\")>,\n",
       " <selenium.webdriver.remote.webelement.WebElement (session=\"8b91047ff1e563eea2e11401465fc759\", element=\"086f081c-b923-4c4d-871c-d8e0c68930c4\")>,\n",
       " <selenium.webdriver.remote.webelement.WebElement (session=\"8b91047ff1e563eea2e11401465fc759\", element=\"ea3a1c59-61b9-402e-a1cb-d3463423a498\")>,\n",
       " <selenium.webdriver.remote.webelement.WebElement (session=\"8b91047ff1e563eea2e11401465fc759\", element=\"0d272904-fc56-4fbf-a3af-8002248f7c0d\")>,\n",
       " <selenium.webdriver.remote.webelement.WebElement (session=\"8b91047ff1e563eea2e11401465fc759\", element=\"44b670fb-b691-49e1-a59d-24d2ffb6fc7f\")>,\n",
       " <selenium.webdriver.remote.webelement.WebElement (session=\"8b91047ff1e563eea2e11401465fc759\", element=\"8a9206dc-cf85-4f8d-a378-eedd99528568\")>,\n",
       " <selenium.webdriver.remote.webelement.WebElement (session=\"8b91047ff1e563eea2e11401465fc759\", element=\"d98b3bf6-a24d-4bc9-bef5-1c7b01b8e54f\")>,\n",
       " <selenium.webdriver.remote.webelement.WebElement (session=\"8b91047ff1e563eea2e11401465fc759\", element=\"532f245c-a78a-44f8-9bcf-344c7ccdfe99\")>,\n",
       " <selenium.webdriver.remote.webelement.WebElement (session=\"8b91047ff1e563eea2e11401465fc759\", element=\"c126d2a5-b560-4d97-bf78-81109792c894\")>,\n",
       " <selenium.webdriver.remote.webelement.WebElement (session=\"8b91047ff1e563eea2e11401465fc759\", element=\"9a2b3b9d-e297-40ab-9a94-69dc081d26a3\")>,\n",
       " <selenium.webdriver.remote.webelement.WebElement (session=\"8b91047ff1e563eea2e11401465fc759\", element=\"7069f65d-76da-4c78-b918-9583c9add0dd\")>,\n",
       " <selenium.webdriver.remote.webelement.WebElement (session=\"8b91047ff1e563eea2e11401465fc759\", element=\"0b75c1a6-2913-4a9a-a6f4-6a7786a1a1ec\")>,\n",
       " <selenium.webdriver.remote.webelement.WebElement (session=\"8b91047ff1e563eea2e11401465fc759\", element=\"27936955-812b-4653-ae9a-e246a2cefb63\")>,\n",
       " <selenium.webdriver.remote.webelement.WebElement (session=\"8b91047ff1e563eea2e11401465fc759\", element=\"d00da0d6-f785-4af6-88de-e88bf7ea198c\")>,\n",
       " <selenium.webdriver.remote.webelement.WebElement (session=\"8b91047ff1e563eea2e11401465fc759\", element=\"37e26b76-7650-44ed-9028-15306ba66bcd\")>,\n",
       " <selenium.webdriver.remote.webelement.WebElement (session=\"8b91047ff1e563eea2e11401465fc759\", element=\"f310eeb5-62b6-46f9-b1bd-25f946a072fe\")>,\n",
       " <selenium.webdriver.remote.webelement.WebElement (session=\"8b91047ff1e563eea2e11401465fc759\", element=\"b67036a9-76c2-42ab-bd56-638120f0cafb\")>,\n",
       " <selenium.webdriver.remote.webelement.WebElement (session=\"8b91047ff1e563eea2e11401465fc759\", element=\"277ce8ca-3d4a-4a21-b130-6cda90d53da3\")>,\n",
       " <selenium.webdriver.remote.webelement.WebElement (session=\"8b91047ff1e563eea2e11401465fc759\", element=\"86db1b72-5a62-4b7c-abc9-fb222d555fcc\")>,\n",
       " <selenium.webdriver.remote.webelement.WebElement (session=\"8b91047ff1e563eea2e11401465fc759\", element=\"5dc58521-cbea-4f1b-a54d-0437a465c710\")>,\n",
       " <selenium.webdriver.remote.webelement.WebElement (session=\"8b91047ff1e563eea2e11401465fc759\", element=\"52b10330-aee6-47d7-9655-a8855deb1adb\")>,\n",
       " <selenium.webdriver.remote.webelement.WebElement (session=\"8b91047ff1e563eea2e11401465fc759\", element=\"96a48895-b75b-4a83-94cd-10bcec94a4ec\")>,\n",
       " <selenium.webdriver.remote.webelement.WebElement (session=\"8b91047ff1e563eea2e11401465fc759\", element=\"5ee26d15-c3a1-48ba-a53a-849d287ed58b\")>,\n",
       " <selenium.webdriver.remote.webelement.WebElement (session=\"8b91047ff1e563eea2e11401465fc759\", element=\"110910e7-ee67-48a6-9824-e7b0b0c2804c\")>,\n",
       " <selenium.webdriver.remote.webelement.WebElement (session=\"8b91047ff1e563eea2e11401465fc759\", element=\"8acf8fcf-9bda-420f-8105-0641edbe6459\")>]"
      ]
     },
     "execution_count": 118,
     "metadata": {},
     "output_type": "execute_result"
    }
   ],
   "source": [
    "min_sal_tags=driver.find_elements_by_xpath(\"//div[@class='d-flex mt-xxsm css-79elbk epuxyqn0']//p\")\n",
    "min_sal_tags"
   ]
  },
  {
   "cell_type": "code",
   "execution_count": 119,
   "metadata": {},
   "outputs": [
    {
     "data": {
      "text/plain": [
       "['₹6L',\n",
       " '₹27L',\n",
       " '₹3L',\n",
       " '₹13L',\n",
       " '₹6L',\n",
       " '₹22L',\n",
       " '₹5L',\n",
       " '₹1Cr',\n",
       " '₹4L',\n",
       " '₹16L',\n",
       " '₹8L',\n",
       " '₹15L',\n",
       " '₹5L',\n",
       " '₹15L',\n",
       " '₹6L',\n",
       " '₹15L',\n",
       " '₹4L',\n",
       " '₹22L',\n",
       " '₹2L',\n",
       " '₹18L',\n",
       " '₹8L',\n",
       " '₹20L',\n",
       " '₹6L',\n",
       " '₹17L',\n",
       " '₹8L',\n",
       " '₹13L',\n",
       " '₹10L',\n",
       " '₹19L',\n",
       " '₹4L',\n",
       " '₹16L',\n",
       " '₹8L',\n",
       " '₹20L',\n",
       " '₹12T',\n",
       " '₹63T',\n",
       " '₹4L',\n",
       " '₹17L',\n",
       " '₹8L',\n",
       " '₹30L',\n",
       " '₹9L',\n",
       " '₹15L']"
      ]
     },
     "execution_count": 119,
     "metadata": {},
     "output_type": "execute_result"
    }
   ],
   "source": [
    "min_sal = []\n",
    "for i in min_sal_tags:\n",
    "    min_sal.append(i.text)\n",
    "min_sal "
   ]
  },
  {
   "cell_type": "code",
   "execution_count": 120,
   "metadata": {},
   "outputs": [],
   "source": [
    "min_sal=min_sal[::2]"
   ]
  },
  {
   "cell_type": "code",
   "execution_count": 121,
   "metadata": {},
   "outputs": [
    {
     "data": {
      "text/plain": [
       "['₹6L',\n",
       " '₹3L',\n",
       " '₹6L',\n",
       " '₹5L',\n",
       " '₹4L',\n",
       " '₹8L',\n",
       " '₹5L',\n",
       " '₹6L',\n",
       " '₹4L',\n",
       " '₹2L',\n",
       " '₹8L',\n",
       " '₹6L',\n",
       " '₹8L',\n",
       " '₹10L',\n",
       " '₹4L',\n",
       " '₹8L',\n",
       " '₹12T',\n",
       " '₹4L',\n",
       " '₹8L',\n",
       " '₹9L']"
      ]
     },
     "execution_count": 121,
     "metadata": {},
     "output_type": "execute_result"
    }
   ],
   "source": [
    "min_sal"
   ]
  },
  {
   "cell_type": "code",
   "execution_count": 122,
   "metadata": {},
   "outputs": [
    {
     "data": {
      "text/plain": [
       "[<selenium.webdriver.remote.webelement.WebElement (session=\"8b91047ff1e563eea2e11401465fc759\", element=\"ed05dcae-b9d2-43e4-aa49-2ffe233f3403\")>,\n",
       " <selenium.webdriver.remote.webelement.WebElement (session=\"8b91047ff1e563eea2e11401465fc759\", element=\"341fc1af-e0b1-4dca-bb89-5100b537e198\")>,\n",
       " <selenium.webdriver.remote.webelement.WebElement (session=\"8b91047ff1e563eea2e11401465fc759\", element=\"a87e7efd-4fda-46c7-99b4-853a3c1e0c02\")>,\n",
       " <selenium.webdriver.remote.webelement.WebElement (session=\"8b91047ff1e563eea2e11401465fc759\", element=\"df949c65-d56b-432b-abf0-4f53b0d51b1b\")>,\n",
       " <selenium.webdriver.remote.webelement.WebElement (session=\"8b91047ff1e563eea2e11401465fc759\", element=\"b38c4a34-facb-42e1-9d85-14760a6896c1\")>,\n",
       " <selenium.webdriver.remote.webelement.WebElement (session=\"8b91047ff1e563eea2e11401465fc759\", element=\"d962905c-75e0-47cb-bb22-1f8836432f11\")>,\n",
       " <selenium.webdriver.remote.webelement.WebElement (session=\"8b91047ff1e563eea2e11401465fc759\", element=\"4c6605eb-4f15-4247-a49a-eb112d73de0b\")>,\n",
       " <selenium.webdriver.remote.webelement.WebElement (session=\"8b91047ff1e563eea2e11401465fc759\", element=\"bf24e8c2-fa20-404b-b549-02d665e55a1c\")>,\n",
       " <selenium.webdriver.remote.webelement.WebElement (session=\"8b91047ff1e563eea2e11401465fc759\", element=\"c73de8e4-0645-4772-9330-0e0f0c99aabe\")>,\n",
       " <selenium.webdriver.remote.webelement.WebElement (session=\"8b91047ff1e563eea2e11401465fc759\", element=\"e8cb3a6b-5d2c-4687-b1d1-01020b8d81d9\")>,\n",
       " <selenium.webdriver.remote.webelement.WebElement (session=\"8b91047ff1e563eea2e11401465fc759\", element=\"228ad07c-b8e8-411f-9cae-1b7e3a6b23c1\")>,\n",
       " <selenium.webdriver.remote.webelement.WebElement (session=\"8b91047ff1e563eea2e11401465fc759\", element=\"2884c70b-c5f8-4937-8ba7-0dbed01985a4\")>,\n",
       " <selenium.webdriver.remote.webelement.WebElement (session=\"8b91047ff1e563eea2e11401465fc759\", element=\"f57eb544-1915-46c4-be0d-71b242e820f8\")>,\n",
       " <selenium.webdriver.remote.webelement.WebElement (session=\"8b91047ff1e563eea2e11401465fc759\", element=\"13b23959-28fa-4a38-9bb8-cd632174f3ee\")>,\n",
       " <selenium.webdriver.remote.webelement.WebElement (session=\"8b91047ff1e563eea2e11401465fc759\", element=\"ced78289-2408-47aa-a58c-0af69095accb\")>,\n",
       " <selenium.webdriver.remote.webelement.WebElement (session=\"8b91047ff1e563eea2e11401465fc759\", element=\"8982a73e-e7ea-4c97-b896-733b037c0b64\")>,\n",
       " <selenium.webdriver.remote.webelement.WebElement (session=\"8b91047ff1e563eea2e11401465fc759\", element=\"086f081c-b923-4c4d-871c-d8e0c68930c4\")>,\n",
       " <selenium.webdriver.remote.webelement.WebElement (session=\"8b91047ff1e563eea2e11401465fc759\", element=\"ea3a1c59-61b9-402e-a1cb-d3463423a498\")>,\n",
       " <selenium.webdriver.remote.webelement.WebElement (session=\"8b91047ff1e563eea2e11401465fc759\", element=\"0d272904-fc56-4fbf-a3af-8002248f7c0d\")>,\n",
       " <selenium.webdriver.remote.webelement.WebElement (session=\"8b91047ff1e563eea2e11401465fc759\", element=\"44b670fb-b691-49e1-a59d-24d2ffb6fc7f\")>,\n",
       " <selenium.webdriver.remote.webelement.WebElement (session=\"8b91047ff1e563eea2e11401465fc759\", element=\"8a9206dc-cf85-4f8d-a378-eedd99528568\")>,\n",
       " <selenium.webdriver.remote.webelement.WebElement (session=\"8b91047ff1e563eea2e11401465fc759\", element=\"d98b3bf6-a24d-4bc9-bef5-1c7b01b8e54f\")>,\n",
       " <selenium.webdriver.remote.webelement.WebElement (session=\"8b91047ff1e563eea2e11401465fc759\", element=\"532f245c-a78a-44f8-9bcf-344c7ccdfe99\")>,\n",
       " <selenium.webdriver.remote.webelement.WebElement (session=\"8b91047ff1e563eea2e11401465fc759\", element=\"c126d2a5-b560-4d97-bf78-81109792c894\")>,\n",
       " <selenium.webdriver.remote.webelement.WebElement (session=\"8b91047ff1e563eea2e11401465fc759\", element=\"9a2b3b9d-e297-40ab-9a94-69dc081d26a3\")>,\n",
       " <selenium.webdriver.remote.webelement.WebElement (session=\"8b91047ff1e563eea2e11401465fc759\", element=\"7069f65d-76da-4c78-b918-9583c9add0dd\")>,\n",
       " <selenium.webdriver.remote.webelement.WebElement (session=\"8b91047ff1e563eea2e11401465fc759\", element=\"0b75c1a6-2913-4a9a-a6f4-6a7786a1a1ec\")>,\n",
       " <selenium.webdriver.remote.webelement.WebElement (session=\"8b91047ff1e563eea2e11401465fc759\", element=\"27936955-812b-4653-ae9a-e246a2cefb63\")>,\n",
       " <selenium.webdriver.remote.webelement.WebElement (session=\"8b91047ff1e563eea2e11401465fc759\", element=\"d00da0d6-f785-4af6-88de-e88bf7ea198c\")>,\n",
       " <selenium.webdriver.remote.webelement.WebElement (session=\"8b91047ff1e563eea2e11401465fc759\", element=\"37e26b76-7650-44ed-9028-15306ba66bcd\")>,\n",
       " <selenium.webdriver.remote.webelement.WebElement (session=\"8b91047ff1e563eea2e11401465fc759\", element=\"f310eeb5-62b6-46f9-b1bd-25f946a072fe\")>,\n",
       " <selenium.webdriver.remote.webelement.WebElement (session=\"8b91047ff1e563eea2e11401465fc759\", element=\"b67036a9-76c2-42ab-bd56-638120f0cafb\")>,\n",
       " <selenium.webdriver.remote.webelement.WebElement (session=\"8b91047ff1e563eea2e11401465fc759\", element=\"277ce8ca-3d4a-4a21-b130-6cda90d53da3\")>,\n",
       " <selenium.webdriver.remote.webelement.WebElement (session=\"8b91047ff1e563eea2e11401465fc759\", element=\"86db1b72-5a62-4b7c-abc9-fb222d555fcc\")>,\n",
       " <selenium.webdriver.remote.webelement.WebElement (session=\"8b91047ff1e563eea2e11401465fc759\", element=\"5dc58521-cbea-4f1b-a54d-0437a465c710\")>,\n",
       " <selenium.webdriver.remote.webelement.WebElement (session=\"8b91047ff1e563eea2e11401465fc759\", element=\"52b10330-aee6-47d7-9655-a8855deb1adb\")>,\n",
       " <selenium.webdriver.remote.webelement.WebElement (session=\"8b91047ff1e563eea2e11401465fc759\", element=\"96a48895-b75b-4a83-94cd-10bcec94a4ec\")>,\n",
       " <selenium.webdriver.remote.webelement.WebElement (session=\"8b91047ff1e563eea2e11401465fc759\", element=\"5ee26d15-c3a1-48ba-a53a-849d287ed58b\")>,\n",
       " <selenium.webdriver.remote.webelement.WebElement (session=\"8b91047ff1e563eea2e11401465fc759\", element=\"110910e7-ee67-48a6-9824-e7b0b0c2804c\")>,\n",
       " <selenium.webdriver.remote.webelement.WebElement (session=\"8b91047ff1e563eea2e11401465fc759\", element=\"8acf8fcf-9bda-420f-8105-0641edbe6459\")>]"
      ]
     },
     "execution_count": 122,
     "metadata": {},
     "output_type": "execute_result"
    }
   ],
   "source": [
    "max_sal_tags=driver.find_elements_by_xpath(\"//div[@class='d-flex mt-xxsm css-79elbk epuxyqn0']//p\")\n",
    "max_sal_tags"
   ]
  },
  {
   "cell_type": "code",
   "execution_count": 155,
   "metadata": {},
   "outputs": [
    {
     "data": {
      "text/plain": [
       "['₹6L',\n",
       " '₹27L',\n",
       " '₹3L',\n",
       " '₹13L',\n",
       " '₹6L',\n",
       " '₹22L',\n",
       " '₹5L',\n",
       " '₹1Cr',\n",
       " '₹4L',\n",
       " '₹16L',\n",
       " '₹8L',\n",
       " '₹15L',\n",
       " '₹5L',\n",
       " '₹15L',\n",
       " '₹6L',\n",
       " '₹15L',\n",
       " '₹4L',\n",
       " '₹22L',\n",
       " '₹2L',\n",
       " '₹18L',\n",
       " '₹8L',\n",
       " '₹20L',\n",
       " '₹6L',\n",
       " '₹17L',\n",
       " '₹8L',\n",
       " '₹13L',\n",
       " '₹10L',\n",
       " '₹19L',\n",
       " '₹4L',\n",
       " '₹16L',\n",
       " '₹8L',\n",
       " '₹20L',\n",
       " '₹12T',\n",
       " '₹63T',\n",
       " '₹4L',\n",
       " '₹17L',\n",
       " '₹8L',\n",
       " '₹30L',\n",
       " '₹9L',\n",
       " '₹15L']"
      ]
     },
     "execution_count": 155,
     "metadata": {},
     "output_type": "execute_result"
    }
   ],
   "source": [
    "max_sal=[]\n",
    "for i in max_sal_tags:\n",
    "    max_sal.append(i.text)\n",
    "max_sal"
   ]
  },
  {
   "cell_type": "code",
   "execution_count": 156,
   "metadata": {},
   "outputs": [],
   "source": [
    "max_sal=max_sal[1::2]"
   ]
  },
  {
   "cell_type": "code",
   "execution_count": 157,
   "metadata": {},
   "outputs": [
    {
     "data": {
      "text/plain": [
       "['₹27L',\n",
       " '₹13L',\n",
       " '₹22L',\n",
       " '₹1Cr',\n",
       " '₹16L',\n",
       " '₹15L',\n",
       " '₹15L',\n",
       " '₹15L',\n",
       " '₹22L',\n",
       " '₹18L',\n",
       " '₹20L',\n",
       " '₹17L',\n",
       " '₹13L',\n",
       " '₹19L',\n",
       " '₹16L',\n",
       " '₹20L',\n",
       " '₹63T',\n",
       " '₹17L',\n",
       " '₹30L',\n",
       " '₹15L']"
      ]
     },
     "execution_count": 157,
     "metadata": {},
     "output_type": "execute_result"
    }
   ],
   "source": [
    "max_sal"
   ]
  },
  {
   "cell_type": "code",
   "execution_count": 182,
   "metadata": {},
   "outputs": [
    {
     "name": "stdout",
     "output_type": "stream",
     "text": [
      "20 20 20 20 20\n"
     ]
    }
   ],
   "source": [
    "print(len(company_name),len(avg_salary),len(number_of_salaries),len(min_sal),len(max_sal))"
   ]
  },
  {
   "cell_type": "code",
   "execution_count": 185,
   "metadata": {},
   "outputs": [],
   "source": [
    "jobs=pd.DataFrame({})\n",
    "jobs['Company Name']=company_name[:10]\n",
    "jobs['Average Salary']=avg_salary[:10]\n",
    "jobs['Number of salaries']=number_of_salaries[:10]\n",
    "jobs['Minimum Salary']=min_sal[:10]\n",
    "jobs['Maximum Salary']=max_sal[:10]"
   ]
  },
  {
   "cell_type": "code",
   "execution_count": 186,
   "metadata": {},
   "outputs": [
    {
     "data": {
      "text/html": [
       "<div>\n",
       "<style scoped>\n",
       "    .dataframe tbody tr th:only-of-type {\n",
       "        vertical-align: middle;\n",
       "    }\n",
       "\n",
       "    .dataframe tbody tr th {\n",
       "        vertical-align: top;\n",
       "    }\n",
       "\n",
       "    .dataframe thead th {\n",
       "        text-align: right;\n",
       "    }\n",
       "</style>\n",
       "<table border=\"1\" class=\"dataframe\">\n",
       "  <thead>\n",
       "    <tr style=\"text-align: right;\">\n",
       "      <th></th>\n",
       "      <th>Company Name</th>\n",
       "      <th>Average Salary</th>\n",
       "      <th>Number of salaries</th>\n",
       "      <th>Minimum Salary</th>\n",
       "      <th>Maximum Salary</th>\n",
       "    </tr>\n",
       "  </thead>\n",
       "  <tbody>\n",
       "    <tr>\n",
       "      <th>0</th>\n",
       "      <td>IBM</td>\n",
       "      <td>₹9,00,000</td>\n",
       "      <td>18 salaries</td>\n",
       "      <td>₹6L</td>\n",
       "      <td>₹27L</td>\n",
       "    </tr>\n",
       "    <tr>\n",
       "      <th>1</th>\n",
       "      <td>Tata Consultancy Services</td>\n",
       "      <td>₹6,15,289</td>\n",
       "      <td>17 salaries</td>\n",
       "      <td>₹3L</td>\n",
       "      <td>₹13L</td>\n",
       "    </tr>\n",
       "    <tr>\n",
       "      <th>2</th>\n",
       "      <td>Accenture</td>\n",
       "      <td>₹11,63,336</td>\n",
       "      <td>15 salaries</td>\n",
       "      <td>₹6L</td>\n",
       "      <td>₹22L</td>\n",
       "    </tr>\n",
       "    <tr>\n",
       "      <th>3</th>\n",
       "      <td>Delhivery</td>\n",
       "      <td>₹12,18,244</td>\n",
       "      <td>15 salaries</td>\n",
       "      <td>₹5L</td>\n",
       "      <td>₹1Cr</td>\n",
       "    </tr>\n",
       "    <tr>\n",
       "      <th>4</th>\n",
       "      <td>Ericsson-Worldwide</td>\n",
       "      <td>₹7,39,238</td>\n",
       "      <td>14 salaries</td>\n",
       "      <td>₹4L</td>\n",
       "      <td>₹16L</td>\n",
       "    </tr>\n",
       "    <tr>\n",
       "      <th>5</th>\n",
       "      <td>UnitedHealth Group</td>\n",
       "      <td>₹13,00,000</td>\n",
       "      <td>13 salaries</td>\n",
       "      <td>₹8L</td>\n",
       "      <td>₹15L</td>\n",
       "    </tr>\n",
       "    <tr>\n",
       "      <th>6</th>\n",
       "      <td>Valiance Solutions</td>\n",
       "      <td>₹8,63,750</td>\n",
       "      <td>10 salaries</td>\n",
       "      <td>₹5L</td>\n",
       "      <td>₹15L</td>\n",
       "    </tr>\n",
       "    <tr>\n",
       "      <th>7</th>\n",
       "      <td>EXL Service</td>\n",
       "      <td>₹11,10,000</td>\n",
       "      <td>9 salaries</td>\n",
       "      <td>₹6L</td>\n",
       "      <td>₹15L</td>\n",
       "    </tr>\n",
       "    <tr>\n",
       "      <th>8</th>\n",
       "      <td>Optum Global Solutions</td>\n",
       "      <td>₹13,28,697</td>\n",
       "      <td>9 salaries</td>\n",
       "      <td>₹4L</td>\n",
       "      <td>₹22L</td>\n",
       "    </tr>\n",
       "    <tr>\n",
       "      <th>9</th>\n",
       "      <td>ZS Associates</td>\n",
       "      <td>₹11,42,356</td>\n",
       "      <td>8 salaries</td>\n",
       "      <td>₹2L</td>\n",
       "      <td>₹18L</td>\n",
       "    </tr>\n",
       "  </tbody>\n",
       "</table>\n",
       "</div>"
      ],
      "text/plain": [
       "                Company Name Average Salary Number of salaries Minimum Salary  \\\n",
       "0                        IBM      ₹9,00,000        18 salaries            ₹6L   \n",
       "1  Tata Consultancy Services      ₹6,15,289        17 salaries            ₹3L   \n",
       "2                  Accenture     ₹11,63,336        15 salaries            ₹6L   \n",
       "3                  Delhivery     ₹12,18,244        15 salaries            ₹5L   \n",
       "4         Ericsson-Worldwide      ₹7,39,238        14 salaries            ₹4L   \n",
       "5         UnitedHealth Group     ₹13,00,000        13 salaries            ₹8L   \n",
       "6         Valiance Solutions      ₹8,63,750        10 salaries            ₹5L   \n",
       "7                EXL Service     ₹11,10,000         9 salaries            ₹6L   \n",
       "8     Optum Global Solutions     ₹13,28,697         9 salaries            ₹4L   \n",
       "9              ZS Associates     ₹11,42,356         8 salaries            ₹2L   \n",
       "\n",
       "  Maximum Salary  \n",
       "0           ₹27L  \n",
       "1           ₹13L  \n",
       "2           ₹22L  \n",
       "3           ₹1Cr  \n",
       "4           ₹16L  \n",
       "5           ₹15L  \n",
       "6           ₹15L  \n",
       "7           ₹15L  \n",
       "8           ₹22L  \n",
       "9           ₹18L  "
      ]
     },
     "execution_count": 186,
     "metadata": {},
     "output_type": "execute_result"
    }
   ],
   "source": [
    "jobs"
   ]
  },
  {
   "cell_type": "code",
   "execution_count": null,
   "metadata": {},
   "outputs": [],
   "source": []
  },
  {
   "cell_type": "code",
   "execution_count": null,
   "metadata": {},
   "outputs": [],
   "source": []
  },
  {
   "cell_type": "markdown",
   "metadata": {},
   "source": [
    "# Q6 : Scrape data of first 100 sunglasses listings on flipkart.com. You have to \n",
    "scrape four attributes:\n",
    "1. Brand\n",
    "2. Product Description\n",
    "3. Price\n",
    "4. Discount %\n",
    "The attributes which you have to scrape is ticked marked in the below image.\n",
    "To scrape the data you have to go through following steps:\n",
    "1. Go to flipkart webpage by url https://www.flipkart.com/\n",
    "2. Enter “sunglasses” in the search field where “search for products, brands and \n",
    "more” is written and click the search icon\n",
    "3. after that you will reach to a webpage having a lot of sunglasses. From this page \n",
    "you can scrap the required data as usual.\n",
    "4. after scraping data from the first page, go to the “Next” Button at the bottom of \n",
    "the page , then click on it\n",
    "5. Now scrape data from this page as usual\n",
    "6. repeat this until you get data for 100 sunglasses.\n",
    "Note that all of the above steps have to be done by coding only and not manually.\n"
   ]
  },
  {
   "cell_type": "code",
   "execution_count": 187,
   "metadata": {},
   "outputs": [],
   "source": [
    "driver = webdriver.Chrome(r\"C:\\Users\\Rajat Jibhkate\\Downloads\\chromedriver_win32\\chromedriver.exe\")"
   ]
  },
  {
   "cell_type": "code",
   "execution_count": 188,
   "metadata": {},
   "outputs": [],
   "source": [
    "url=\"https://flipkart.com\"\n",
    "driver.get(url)"
   ]
  },
  {
   "cell_type": "code",
   "execution_count": 189,
   "metadata": {},
   "outputs": [
    {
     "data": {
      "text/plain": [
       "<selenium.webdriver.remote.webelement.WebElement (session=\"70670e46b384a582041eaeb449c0bf1d\", element=\"97a7fb09-1f48-45b3-80ae-7ff3e9d5a7b0\")>"
      ]
     },
     "execution_count": 189,
     "metadata": {},
     "output_type": "execute_result"
    }
   ],
   "source": [
    "search_item=driver.find_element_by_xpath(\"//input[@class='_3704LK']\")\n",
    "search_item"
   ]
  },
  {
   "cell_type": "code",
   "execution_count": 190,
   "metadata": {},
   "outputs": [],
   "source": [
    "search_item.send_keys(\"sunglasses\")"
   ]
  },
  {
   "cell_type": "code",
   "execution_count": 192,
   "metadata": {},
   "outputs": [],
   "source": [
    "search_btn=driver.find_element_by_xpath(\"//button[@class='L0Z3Pu']\")\n",
    "search_btn.click()"
   ]
  },
  {
   "cell_type": "code",
   "execution_count": 193,
   "metadata": {},
   "outputs": [],
   "source": [
    "brands=[]\n",
    "product_description=[]\n",
    "price=[]\n",
    "discount=[]"
   ]
  },
  {
   "cell_type": "code",
   "execution_count": 194,
   "metadata": {},
   "outputs": [
    {
     "data": {
      "text/plain": [
       "<selenium.webdriver.remote.webelement.WebElement (session=\"70670e46b384a582041eaeb449c0bf1d\", element=\"65569b34-ff04-44d9-9cfe-d9d91c9412f3\")>"
      ]
     },
     "execution_count": 194,
     "metadata": {},
     "output_type": "execute_result"
    }
   ],
   "source": [
    "for i in range(1,5):\n",
    "    brand_tags = driver.find_elements_by_xpath(\"//div[@class='_2WkVRV']\")\n",
    "    for i in brand_tags:\n",
    "        brands.append(i.text)\n",
    "    brands  \n",
    "next_button=driver.find_element_by_xpath(\"//a[@class='_1LKTO3']//span\") \n",
    "next_button"
   ]
  },
  {
   "cell_type": "code",
   "execution_count": 195,
   "metadata": {},
   "outputs": [
    {
     "data": {
      "text/plain": [
       "['Wrogn',\n",
       " 'PIRASO',\n",
       " 'kingsunglasses',\n",
       " 'Fastrack',\n",
       " 'Fastrack',\n",
       " 'PIRASO',\n",
       " 'kingsunglasses',\n",
       " 'PIRASO',\n",
       " 'PHENOMENAL',\n",
       " 'GANSTA',\n",
       " 'PHENOMENAL',\n",
       " 'PIRASO',\n",
       " 'Fastrack',\n",
       " 'Fastrack',\n",
       " 'kingsunglasses',\n",
       " 'AISLIN',\n",
       " 'Fastrack',\n",
       " 'kingsunglasses',\n",
       " 'kingsunglasses',\n",
       " 'ROYAL SON',\n",
       " 'Fastrack',\n",
       " 'ROZZETTA CRAFT',\n",
       " 'Fastrack',\n",
       " 'ROZZETTA CRAFT',\n",
       " 'Fastrack',\n",
       " 'Silver Kartz',\n",
       " 'PIRASO',\n",
       " 'ROYAL SON',\n",
       " 'kingsunglasses',\n",
       " 'DEIXELS',\n",
       " 'NuVew',\n",
       " 'Wrogn',\n",
       " 'hipe',\n",
       " 'PHENOMENAL',\n",
       " 'Fastrack',\n",
       " 'ROYAL SON',\n",
       " 'PIRASO',\n",
       " 'Fastrack',\n",
       " 'Fastrack',\n",
       " 'AISLIN',\n",
       " 'Wrogn',\n",
       " 'PIRASO',\n",
       " 'kingsunglasses',\n",
       " 'Fastrack',\n",
       " 'Fastrack',\n",
       " 'PIRASO',\n",
       " 'kingsunglasses',\n",
       " 'PIRASO',\n",
       " 'PHENOMENAL',\n",
       " 'GANSTA',\n",
       " 'PHENOMENAL',\n",
       " 'PIRASO',\n",
       " 'Fastrack',\n",
       " 'Fastrack',\n",
       " 'kingsunglasses',\n",
       " 'AISLIN',\n",
       " 'Fastrack',\n",
       " 'kingsunglasses',\n",
       " 'kingsunglasses',\n",
       " 'ROYAL SON',\n",
       " 'Fastrack',\n",
       " 'ROZZETTA CRAFT',\n",
       " 'Fastrack',\n",
       " 'ROZZETTA CRAFT',\n",
       " 'Fastrack',\n",
       " 'Silver Kartz',\n",
       " 'PIRASO',\n",
       " 'ROYAL SON',\n",
       " 'kingsunglasses',\n",
       " 'DEIXELS',\n",
       " 'NuVew',\n",
       " 'Wrogn',\n",
       " 'hipe',\n",
       " 'PHENOMENAL',\n",
       " 'Fastrack',\n",
       " 'ROYAL SON',\n",
       " 'PIRASO',\n",
       " 'Fastrack',\n",
       " 'Fastrack',\n",
       " 'AISLIN',\n",
       " 'Wrogn',\n",
       " 'PIRASO',\n",
       " 'kingsunglasses',\n",
       " 'Fastrack',\n",
       " 'Fastrack',\n",
       " 'PIRASO',\n",
       " 'kingsunglasses',\n",
       " 'PIRASO',\n",
       " 'PHENOMENAL',\n",
       " 'GANSTA',\n",
       " 'PHENOMENAL',\n",
       " 'PIRASO',\n",
       " 'Fastrack',\n",
       " 'Fastrack',\n",
       " 'kingsunglasses',\n",
       " 'AISLIN',\n",
       " 'Fastrack',\n",
       " 'kingsunglasses',\n",
       " 'kingsunglasses',\n",
       " 'ROYAL SON',\n",
       " 'Fastrack',\n",
       " 'ROZZETTA CRAFT',\n",
       " 'Fastrack',\n",
       " 'ROZZETTA CRAFT',\n",
       " 'Fastrack',\n",
       " 'Silver Kartz',\n",
       " 'PIRASO',\n",
       " 'ROYAL SON',\n",
       " 'kingsunglasses',\n",
       " 'DEIXELS',\n",
       " 'NuVew',\n",
       " 'Wrogn',\n",
       " 'hipe',\n",
       " 'PHENOMENAL',\n",
       " 'Fastrack',\n",
       " 'ROYAL SON',\n",
       " 'PIRASO',\n",
       " 'Fastrack',\n",
       " 'Fastrack',\n",
       " 'AISLIN',\n",
       " 'Wrogn',\n",
       " 'PIRASO',\n",
       " 'kingsunglasses',\n",
       " 'Fastrack',\n",
       " 'Fastrack',\n",
       " 'PIRASO',\n",
       " 'kingsunglasses',\n",
       " 'PIRASO',\n",
       " 'PHENOMENAL',\n",
       " 'GANSTA',\n",
       " 'PHENOMENAL',\n",
       " 'PIRASO',\n",
       " 'Fastrack',\n",
       " 'Fastrack',\n",
       " 'kingsunglasses',\n",
       " 'AISLIN',\n",
       " 'Fastrack',\n",
       " 'kingsunglasses',\n",
       " 'kingsunglasses',\n",
       " 'ROYAL SON',\n",
       " 'Fastrack',\n",
       " 'ROZZETTA CRAFT',\n",
       " 'Fastrack',\n",
       " 'ROZZETTA CRAFT',\n",
       " 'Fastrack',\n",
       " 'Silver Kartz',\n",
       " 'PIRASO',\n",
       " 'ROYAL SON',\n",
       " 'kingsunglasses',\n",
       " 'DEIXELS',\n",
       " 'NuVew',\n",
       " 'Wrogn',\n",
       " 'hipe',\n",
       " 'PHENOMENAL',\n",
       " 'Fastrack',\n",
       " 'ROYAL SON',\n",
       " 'PIRASO',\n",
       " 'Fastrack',\n",
       " 'Fastrack',\n",
       " 'AISLIN']"
      ]
     },
     "execution_count": 195,
     "metadata": {},
     "output_type": "execute_result"
    }
   ],
   "source": [
    "brands"
   ]
  },
  {
   "cell_type": "code",
   "execution_count": 196,
   "metadata": {},
   "outputs": [
    {
     "data": {
      "text/plain": [
       "<selenium.webdriver.remote.webelement.WebElement (session=\"70670e46b384a582041eaeb449c0bf1d\", element=\"65569b34-ff04-44d9-9cfe-d9d91c9412f3\")>"
      ]
     },
     "execution_count": 196,
     "metadata": {},
     "output_type": "execute_result"
    }
   ],
   "source": [
    "for i in range(1,5):\n",
    "    desc = driver.find_elements_by_xpath(\"//a[@class='IRpwTa']\")\n",
    "    for i in desc:\n",
    "        product_description.append(i.text)\n",
    "    product_description  \n",
    "next_button=driver.find_element_by_xpath(\"//a[@class='_1LKTO3']//span\") \n",
    "next_button"
   ]
  },
  {
   "cell_type": "code",
   "execution_count": 197,
   "metadata": {},
   "outputs": [
    {
     "data": {
      "text/plain": [
       "['Mirrored Wayfarer Sunglasses (51)',\n",
       " 'UV Protection Round Sunglasses (Free Size)',\n",
       " 'Mirrored, UV Protection Wayfarer Sunglasses (Free Size)',\n",
       " 'UV Protection Wayfarer Sunglasses (Free Size)',\n",
       " 'UV Protection Rectangular Sunglasses (Free Size)',\n",
       " 'UV Protection Aviator Sunglasses (54)',\n",
       " 'UV Protection Round Sunglasses (Free Size)',\n",
       " 'UV Protection Aviator Sunglasses (54)',\n",
       " 'UV Protection Retro Square Sunglasses (Free Size)',\n",
       " 'UV Protection Aviator Sunglasses (57)',\n",
       " 'UV Protection Round Sunglasses (53)',\n",
       " 'UV Protection Wayfarer Sunglasses (32)',\n",
       " 'UV Protection Wayfarer Sunglasses (56)',\n",
       " 'Gradient, UV Protection Wayfarer Sunglasses (Free Size)',\n",
       " 'UV Protection Round Sunglasses (54)',\n",
       " 'UV Protection, Gradient Butterfly, Retro Square Sunglas...',\n",
       " 'UV Protection, Polarized Wayfarer Sunglasses (56)',\n",
       " 'Mirrored, UV Protection Wayfarer Sunglasses (Free Size)',\n",
       " 'UV Protection Rectangular Sunglasses (Free Size)',\n",
       " 'UV Protection Retro Square Sunglasses (88)',\n",
       " 'UV Protection Aviator Sunglasses (58)',\n",
       " 'UV Protection Retro Square Sunglasses (Free Size)',\n",
       " 'UV Protection Aviator Sunglasses (58)',\n",
       " 'UV Protection Shield Sunglasses (54)',\n",
       " 'UV Protection Wayfarer Sunglasses (Free Size)',\n",
       " 'UV Protection Wayfarer Sunglasses (Free Size)',\n",
       " 'UV Protection Aviator Sunglasses (Free Size)',\n",
       " 'UV Protection, Gradient Butterfly Sunglasses (52)',\n",
       " 'UV Protection Rectangular Sunglasses (55)',\n",
       " 'UV Protection Aviator, Wayfarer Sunglasses (Free Size)',\n",
       " 'UV Protection Aviator Sunglasses (58)',\n",
       " 'Polarized, UV Protection Aviator Sunglasses (55)',\n",
       " 'Mirrored, UV Protection, Gradient Round Sunglasses (55)',\n",
       " 'UV Protection, Mirrored Retro Square Sunglasses (53)',\n",
       " 'UV Protection Wrap-around Sunglasses (Free Size)',\n",
       " 'Polarized, UV Protection Rectangular Sunglasses (59)',\n",
       " 'UV Protection Aviator Sunglasses (58)',\n",
       " 'Mirrored, UV Protection Wayfarer Sunglasses (Free Size)',\n",
       " 'UV Protection Aviator Sunglasses (Free Size)',\n",
       " 'UV Protection, Gradient Round, Cat-eye Sunglasses (60)',\n",
       " 'Mirrored Wayfarer Sunglasses (51)',\n",
       " 'UV Protection Round Sunglasses (Free Size)',\n",
       " 'Mirrored, UV Protection Wayfarer Sunglasses (Free Size)',\n",
       " 'UV Protection Wayfarer Sunglasses (Free Size)',\n",
       " 'UV Protection Rectangular Sunglasses (Free Size)',\n",
       " 'UV Protection Aviator Sunglasses (54)',\n",
       " 'UV Protection Round Sunglasses (Free Size)',\n",
       " 'UV Protection Aviator Sunglasses (54)',\n",
       " 'UV Protection Retro Square Sunglasses (Free Size)',\n",
       " 'UV Protection Aviator Sunglasses (57)',\n",
       " 'UV Protection Round Sunglasses (53)',\n",
       " 'UV Protection Wayfarer Sunglasses (32)',\n",
       " 'UV Protection Wayfarer Sunglasses (56)',\n",
       " 'Gradient, UV Protection Wayfarer Sunglasses (Free Size)',\n",
       " 'UV Protection Round Sunglasses (54)',\n",
       " 'UV Protection, Gradient Butterfly, Retro Square Sunglas...',\n",
       " 'UV Protection, Polarized Wayfarer Sunglasses (56)',\n",
       " 'Mirrored, UV Protection Wayfarer Sunglasses (Free Size)',\n",
       " 'UV Protection Rectangular Sunglasses (Free Size)',\n",
       " 'UV Protection Retro Square Sunglasses (88)',\n",
       " 'UV Protection Aviator Sunglasses (58)',\n",
       " 'UV Protection Retro Square Sunglasses (Free Size)',\n",
       " 'UV Protection Aviator Sunglasses (58)',\n",
       " 'UV Protection Shield Sunglasses (54)',\n",
       " 'UV Protection Wayfarer Sunglasses (Free Size)',\n",
       " 'UV Protection Wayfarer Sunglasses (Free Size)',\n",
       " 'UV Protection Aviator Sunglasses (Free Size)',\n",
       " 'UV Protection, Gradient Butterfly Sunglasses (52)',\n",
       " 'UV Protection Rectangular Sunglasses (55)',\n",
       " 'UV Protection Aviator, Wayfarer Sunglasses (Free Size)',\n",
       " 'UV Protection Aviator Sunglasses (58)',\n",
       " 'Polarized, UV Protection Aviator Sunglasses (55)',\n",
       " 'Mirrored, UV Protection, Gradient Round Sunglasses (55)',\n",
       " 'UV Protection, Mirrored Retro Square Sunglasses (53)',\n",
       " 'UV Protection Wrap-around Sunglasses (Free Size)',\n",
       " 'Polarized, UV Protection Rectangular Sunglasses (59)',\n",
       " 'UV Protection Aviator Sunglasses (58)',\n",
       " 'Mirrored, UV Protection Wayfarer Sunglasses (Free Size)',\n",
       " 'UV Protection Aviator Sunglasses (Free Size)',\n",
       " 'UV Protection, Gradient Round, Cat-eye Sunglasses (60)',\n",
       " 'Mirrored Wayfarer Sunglasses (51)',\n",
       " 'UV Protection Round Sunglasses (Free Size)',\n",
       " 'Mirrored, UV Protection Wayfarer Sunglasses (Free Size)',\n",
       " 'UV Protection Wayfarer Sunglasses (Free Size)',\n",
       " 'UV Protection Rectangular Sunglasses (Free Size)',\n",
       " 'UV Protection Aviator Sunglasses (54)',\n",
       " 'UV Protection Round Sunglasses (Free Size)',\n",
       " 'UV Protection Aviator Sunglasses (54)',\n",
       " 'UV Protection Retro Square Sunglasses (Free Size)',\n",
       " 'UV Protection Aviator Sunglasses (57)',\n",
       " 'UV Protection Round Sunglasses (53)',\n",
       " 'UV Protection Wayfarer Sunglasses (32)',\n",
       " 'UV Protection Wayfarer Sunglasses (56)',\n",
       " 'Gradient, UV Protection Wayfarer Sunglasses (Free Size)',\n",
       " 'UV Protection Round Sunglasses (54)',\n",
       " 'UV Protection, Gradient Butterfly, Retro Square Sunglas...',\n",
       " 'UV Protection, Polarized Wayfarer Sunglasses (56)',\n",
       " 'Mirrored, UV Protection Wayfarer Sunglasses (Free Size)',\n",
       " 'UV Protection Rectangular Sunglasses (Free Size)',\n",
       " 'UV Protection Retro Square Sunglasses (88)',\n",
       " 'UV Protection Aviator Sunglasses (58)',\n",
       " 'UV Protection Retro Square Sunglasses (Free Size)',\n",
       " 'UV Protection Aviator Sunglasses (58)',\n",
       " 'UV Protection Shield Sunglasses (54)',\n",
       " 'UV Protection Wayfarer Sunglasses (Free Size)',\n",
       " 'UV Protection Wayfarer Sunglasses (Free Size)',\n",
       " 'UV Protection Aviator Sunglasses (Free Size)',\n",
       " 'UV Protection, Gradient Butterfly Sunglasses (52)',\n",
       " 'UV Protection Rectangular Sunglasses (55)',\n",
       " 'UV Protection Aviator, Wayfarer Sunglasses (Free Size)',\n",
       " 'UV Protection Aviator Sunglasses (58)',\n",
       " 'Polarized, UV Protection Aviator Sunglasses (55)',\n",
       " 'Mirrored, UV Protection, Gradient Round Sunglasses (55)',\n",
       " 'UV Protection, Mirrored Retro Square Sunglasses (53)',\n",
       " 'UV Protection Wrap-around Sunglasses (Free Size)',\n",
       " 'Polarized, UV Protection Rectangular Sunglasses (59)',\n",
       " 'UV Protection Aviator Sunglasses (58)',\n",
       " 'Mirrored, UV Protection Wayfarer Sunglasses (Free Size)',\n",
       " 'UV Protection Aviator Sunglasses (Free Size)',\n",
       " 'UV Protection, Gradient Round, Cat-eye Sunglasses (60)',\n",
       " 'Mirrored Wayfarer Sunglasses (51)',\n",
       " 'UV Protection Round Sunglasses (Free Size)',\n",
       " 'Mirrored, UV Protection Wayfarer Sunglasses (Free Size)',\n",
       " 'UV Protection Wayfarer Sunglasses (Free Size)',\n",
       " 'UV Protection Rectangular Sunglasses (Free Size)',\n",
       " 'UV Protection Aviator Sunglasses (54)',\n",
       " 'UV Protection Round Sunglasses (Free Size)',\n",
       " 'UV Protection Aviator Sunglasses (54)',\n",
       " 'UV Protection Retro Square Sunglasses (Free Size)',\n",
       " 'UV Protection Aviator Sunglasses (57)',\n",
       " 'UV Protection Round Sunglasses (53)',\n",
       " 'UV Protection Wayfarer Sunglasses (32)',\n",
       " 'UV Protection Wayfarer Sunglasses (56)',\n",
       " 'Gradient, UV Protection Wayfarer Sunglasses (Free Size)',\n",
       " 'UV Protection Round Sunglasses (54)',\n",
       " 'UV Protection, Gradient Butterfly, Retro Square Sunglas...',\n",
       " 'UV Protection, Polarized Wayfarer Sunglasses (56)',\n",
       " 'Mirrored, UV Protection Wayfarer Sunglasses (Free Size)',\n",
       " 'UV Protection Rectangular Sunglasses (Free Size)',\n",
       " 'UV Protection Retro Square Sunglasses (88)',\n",
       " 'UV Protection Aviator Sunglasses (58)',\n",
       " 'UV Protection Retro Square Sunglasses (Free Size)',\n",
       " 'UV Protection Aviator Sunglasses (58)',\n",
       " 'UV Protection Shield Sunglasses (54)',\n",
       " 'UV Protection Wayfarer Sunglasses (Free Size)',\n",
       " 'UV Protection Wayfarer Sunglasses (Free Size)',\n",
       " 'UV Protection Aviator Sunglasses (Free Size)',\n",
       " 'UV Protection, Gradient Butterfly Sunglasses (52)',\n",
       " 'UV Protection Rectangular Sunglasses (55)',\n",
       " 'UV Protection Aviator, Wayfarer Sunglasses (Free Size)',\n",
       " 'UV Protection Aviator Sunglasses (58)',\n",
       " 'Polarized, UV Protection Aviator Sunglasses (55)',\n",
       " 'Mirrored, UV Protection, Gradient Round Sunglasses (55)',\n",
       " 'UV Protection, Mirrored Retro Square Sunglasses (53)',\n",
       " 'UV Protection Wrap-around Sunglasses (Free Size)',\n",
       " 'Polarized, UV Protection Rectangular Sunglasses (59)',\n",
       " 'UV Protection Aviator Sunglasses (58)',\n",
       " 'Mirrored, UV Protection Wayfarer Sunglasses (Free Size)',\n",
       " 'UV Protection Aviator Sunglasses (Free Size)',\n",
       " 'UV Protection, Gradient Round, Cat-eye Sunglasses (60)']"
      ]
     },
     "execution_count": 197,
     "metadata": {},
     "output_type": "execute_result"
    }
   ],
   "source": [
    "product_description"
   ]
  },
  {
   "cell_type": "code",
   "execution_count": 198,
   "metadata": {},
   "outputs": [
    {
     "data": {
      "text/plain": [
       "<selenium.webdriver.remote.webelement.WebElement (session=\"70670e46b384a582041eaeb449c0bf1d\", element=\"65569b34-ff04-44d9-9cfe-d9d91c9412f3\")>"
      ]
     },
     "execution_count": 198,
     "metadata": {},
     "output_type": "execute_result"
    }
   ],
   "source": [
    "for i in range(1,5):\n",
    "    price_tag = driver.find_elements_by_xpath(\"//div[@class='_30jeq3']\")\n",
    "    for i in price_tag:\n",
    "        price.append(i.text)\n",
    "    price  \n",
    "next_button=driver.find_element_by_xpath(\"//a[@class='_1LKTO3']//span\") \n",
    "next_button"
   ]
  },
  {
   "cell_type": "code",
   "execution_count": 199,
   "metadata": {},
   "outputs": [
    {
     "data": {
      "text/plain": [
       "['₹663',\n",
       " '₹209',\n",
       " '₹299',\n",
       " '₹758',\n",
       " '₹513',\n",
       " '₹237',\n",
       " '₹349',\n",
       " '₹237',\n",
       " '₹399',\n",
       " '₹281',\n",
       " '₹309',\n",
       " '₹237',\n",
       " '₹655',\n",
       " '₹509',\n",
       " '₹225',\n",
       " '₹498',\n",
       " '₹612',\n",
       " '₹299',\n",
       " '₹210',\n",
       " '₹599',\n",
       " '₹1,010',\n",
       " '₹499',\n",
       " '₹1,085',\n",
       " '₹499',\n",
       " '₹647',\n",
       " '₹259',\n",
       " '₹331',\n",
       " '₹699',\n",
       " '₹349',\n",
       " '₹213',\n",
       " '₹215',\n",
       " '₹1,175',\n",
       " '₹197',\n",
       " '₹399',\n",
       " '₹522',\n",
       " '₹664',\n",
       " '₹331',\n",
       " '₹738',\n",
       " '₹592',\n",
       " '₹498',\n",
       " '₹663',\n",
       " '₹209',\n",
       " '₹299',\n",
       " '₹758',\n",
       " '₹513',\n",
       " '₹237',\n",
       " '₹349',\n",
       " '₹237',\n",
       " '₹399',\n",
       " '₹281',\n",
       " '₹309',\n",
       " '₹237',\n",
       " '₹655',\n",
       " '₹509',\n",
       " '₹225',\n",
       " '₹498',\n",
       " '₹612',\n",
       " '₹299',\n",
       " '₹210',\n",
       " '₹599',\n",
       " '₹1,010',\n",
       " '₹499',\n",
       " '₹1,085',\n",
       " '₹499',\n",
       " '₹647',\n",
       " '₹259',\n",
       " '₹331',\n",
       " '₹699',\n",
       " '₹349',\n",
       " '₹213',\n",
       " '₹215',\n",
       " '₹1,175',\n",
       " '₹197',\n",
       " '₹399',\n",
       " '₹522',\n",
       " '₹664',\n",
       " '₹331',\n",
       " '₹738',\n",
       " '₹592',\n",
       " '₹498',\n",
       " '₹663',\n",
       " '₹209',\n",
       " '₹299',\n",
       " '₹758',\n",
       " '₹513',\n",
       " '₹237',\n",
       " '₹349',\n",
       " '₹237',\n",
       " '₹399',\n",
       " '₹281',\n",
       " '₹309',\n",
       " '₹237',\n",
       " '₹655',\n",
       " '₹509',\n",
       " '₹225',\n",
       " '₹498',\n",
       " '₹612',\n",
       " '₹299',\n",
       " '₹210',\n",
       " '₹599',\n",
       " '₹1,010',\n",
       " '₹499',\n",
       " '₹1,085',\n",
       " '₹499',\n",
       " '₹647',\n",
       " '₹259',\n",
       " '₹331',\n",
       " '₹699',\n",
       " '₹349',\n",
       " '₹213',\n",
       " '₹215',\n",
       " '₹1,175',\n",
       " '₹197',\n",
       " '₹399',\n",
       " '₹522',\n",
       " '₹664',\n",
       " '₹331',\n",
       " '₹738',\n",
       " '₹592',\n",
       " '₹498',\n",
       " '₹663',\n",
       " '₹209',\n",
       " '₹299',\n",
       " '₹758',\n",
       " '₹513',\n",
       " '₹237',\n",
       " '₹349',\n",
       " '₹237',\n",
       " '₹399',\n",
       " '₹281',\n",
       " '₹309',\n",
       " '₹237',\n",
       " '₹655',\n",
       " '₹509',\n",
       " '₹225',\n",
       " '₹498',\n",
       " '₹612',\n",
       " '₹299',\n",
       " '₹210',\n",
       " '₹599',\n",
       " '₹1,010',\n",
       " '₹499',\n",
       " '₹1,085',\n",
       " '₹499',\n",
       " '₹647',\n",
       " '₹259',\n",
       " '₹331',\n",
       " '₹699',\n",
       " '₹349',\n",
       " '₹213',\n",
       " '₹215',\n",
       " '₹1,175',\n",
       " '₹197',\n",
       " '₹399',\n",
       " '₹522',\n",
       " '₹664',\n",
       " '₹331',\n",
       " '₹738',\n",
       " '₹592',\n",
       " '₹498']"
      ]
     },
     "execution_count": 199,
     "metadata": {},
     "output_type": "execute_result"
    }
   ],
   "source": [
    "price"
   ]
  },
  {
   "cell_type": "code",
   "execution_count": 200,
   "metadata": {},
   "outputs": [
    {
     "data": {
      "text/plain": [
       "<selenium.webdriver.remote.webelement.WebElement (session=\"70670e46b384a582041eaeb449c0bf1d\", element=\"65569b34-ff04-44d9-9cfe-d9d91c9412f3\")>"
      ]
     },
     "execution_count": 200,
     "metadata": {},
     "output_type": "execute_result"
    }
   ],
   "source": [
    "for i in range(1,5):\n",
    "    discount_tag = driver.find_elements_by_xpath(\"//div[@class='_3Ay6Sb']//span\")\n",
    "    for i in discount_tag:\n",
    "        discount.append(i.text)\n",
    "    discount  \n",
    "next_button=driver.find_element_by_xpath(\"//a[@class='_1LKTO3']//span\") \n",
    "next_button"
   ]
  },
  {
   "cell_type": "code",
   "execution_count": 201,
   "metadata": {},
   "outputs": [
    {
     "data": {
      "text/plain": [
       "['73% off',\n",
       " '86% off',\n",
       " '88% off',\n",
       " '15% off',\n",
       " '35% off',\n",
       " '85% off',\n",
       " '78% off',\n",
       " '85% off',\n",
       " '80% off',\n",
       " '85% off',\n",
       " '86% off',\n",
       " '85% off',\n",
       " '27% off',\n",
       " '36% off',\n",
       " '79% off',\n",
       " '67% off',\n",
       " '31% off',\n",
       " '88% off',\n",
       " '83% off',\n",
       " '70% off',\n",
       " '22% off',\n",
       " '77% off',\n",
       " '16% off',\n",
       " '80% off',\n",
       " '28% off',\n",
       " '82% off',\n",
       " '79% off',\n",
       " '65% off',\n",
       " '76% off',\n",
       " '82% off',\n",
       " '72% off',\n",
       " '63% off',\n",
       " '86% off',\n",
       " '80% off',\n",
       " '41% off',\n",
       " '55% off',\n",
       " '87% off',\n",
       " '26% off',\n",
       " '34% off',\n",
       " '70% off',\n",
       " '73% off',\n",
       " '86% off',\n",
       " '88% off',\n",
       " '15% off',\n",
       " '35% off',\n",
       " '85% off',\n",
       " '78% off',\n",
       " '85% off',\n",
       " '80% off',\n",
       " '85% off',\n",
       " '86% off',\n",
       " '85% off',\n",
       " '27% off',\n",
       " '36% off',\n",
       " '79% off',\n",
       " '67% off',\n",
       " '31% off',\n",
       " '88% off',\n",
       " '83% off',\n",
       " '70% off',\n",
       " '22% off',\n",
       " '77% off',\n",
       " '16% off',\n",
       " '80% off',\n",
       " '28% off',\n",
       " '82% off',\n",
       " '79% off',\n",
       " '65% off',\n",
       " '76% off',\n",
       " '82% off',\n",
       " '72% off',\n",
       " '63% off',\n",
       " '86% off',\n",
       " '80% off',\n",
       " '41% off',\n",
       " '55% off',\n",
       " '87% off',\n",
       " '26% off',\n",
       " '34% off',\n",
       " '70% off',\n",
       " '73% off',\n",
       " '86% off',\n",
       " '88% off',\n",
       " '15% off',\n",
       " '35% off',\n",
       " '85% off',\n",
       " '78% off',\n",
       " '85% off',\n",
       " '80% off',\n",
       " '85% off',\n",
       " '86% off',\n",
       " '85% off',\n",
       " '27% off',\n",
       " '36% off',\n",
       " '79% off',\n",
       " '67% off',\n",
       " '31% off',\n",
       " '88% off',\n",
       " '83% off',\n",
       " '70% off',\n",
       " '22% off',\n",
       " '77% off',\n",
       " '16% off',\n",
       " '80% off',\n",
       " '28% off',\n",
       " '82% off',\n",
       " '79% off',\n",
       " '65% off',\n",
       " '76% off',\n",
       " '82% off',\n",
       " '72% off',\n",
       " '63% off',\n",
       " '86% off',\n",
       " '80% off',\n",
       " '41% off',\n",
       " '55% off',\n",
       " '87% off',\n",
       " '26% off',\n",
       " '34% off',\n",
       " '70% off',\n",
       " '73% off',\n",
       " '86% off',\n",
       " '88% off',\n",
       " '15% off',\n",
       " '35% off',\n",
       " '85% off',\n",
       " '78% off',\n",
       " '85% off',\n",
       " '80% off',\n",
       " '85% off',\n",
       " '86% off',\n",
       " '85% off',\n",
       " '27% off',\n",
       " '36% off',\n",
       " '79% off',\n",
       " '67% off',\n",
       " '31% off',\n",
       " '88% off',\n",
       " '83% off',\n",
       " '70% off',\n",
       " '22% off',\n",
       " '77% off',\n",
       " '16% off',\n",
       " '80% off',\n",
       " '28% off',\n",
       " '82% off',\n",
       " '79% off',\n",
       " '65% off',\n",
       " '76% off',\n",
       " '82% off',\n",
       " '72% off',\n",
       " '63% off',\n",
       " '86% off',\n",
       " '80% off',\n",
       " '41% off',\n",
       " '55% off',\n",
       " '87% off',\n",
       " '26% off',\n",
       " '34% off',\n",
       " '70% off']"
      ]
     },
     "execution_count": 201,
     "metadata": {},
     "output_type": "execute_result"
    }
   ],
   "source": [
    "discount"
   ]
  },
  {
   "cell_type": "code",
   "execution_count": 202,
   "metadata": {},
   "outputs": [
    {
     "name": "stdout",
     "output_type": "stream",
     "text": [
      "160 160 160 160\n"
     ]
    }
   ],
   "source": [
    "print(len(brands),len(product_description),len(price),len(discount))"
   ]
  },
  {
   "cell_type": "code",
   "execution_count": 203,
   "metadata": {},
   "outputs": [],
   "source": [
    "sunglasses=pd.DataFrame({})\n",
    "sunglasses['Brands']=brands[:100]\n",
    "sunglasses['Product Description']=product_description[:100]\n",
    "sunglasses['Price']=price[:100]\n",
    "sunglasses['Discount']=discount[:100]"
   ]
  },
  {
   "cell_type": "code",
   "execution_count": 204,
   "metadata": {},
   "outputs": [
    {
     "data": {
      "text/html": [
       "<div>\n",
       "<style scoped>\n",
       "    .dataframe tbody tr th:only-of-type {\n",
       "        vertical-align: middle;\n",
       "    }\n",
       "\n",
       "    .dataframe tbody tr th {\n",
       "        vertical-align: top;\n",
       "    }\n",
       "\n",
       "    .dataframe thead th {\n",
       "        text-align: right;\n",
       "    }\n",
       "</style>\n",
       "<table border=\"1\" class=\"dataframe\">\n",
       "  <thead>\n",
       "    <tr style=\"text-align: right;\">\n",
       "      <th></th>\n",
       "      <th>Brands</th>\n",
       "      <th>Product Description</th>\n",
       "      <th>Price</th>\n",
       "      <th>Discount</th>\n",
       "    </tr>\n",
       "  </thead>\n",
       "  <tbody>\n",
       "    <tr>\n",
       "      <th>0</th>\n",
       "      <td>Wrogn</td>\n",
       "      <td>Mirrored Wayfarer Sunglasses (51)</td>\n",
       "      <td>₹663</td>\n",
       "      <td>73% off</td>\n",
       "    </tr>\n",
       "    <tr>\n",
       "      <th>1</th>\n",
       "      <td>PIRASO</td>\n",
       "      <td>UV Protection Round Sunglasses (Free Size)</td>\n",
       "      <td>₹209</td>\n",
       "      <td>86% off</td>\n",
       "    </tr>\n",
       "    <tr>\n",
       "      <th>2</th>\n",
       "      <td>kingsunglasses</td>\n",
       "      <td>Mirrored, UV Protection Wayfarer Sunglasses (F...</td>\n",
       "      <td>₹299</td>\n",
       "      <td>88% off</td>\n",
       "    </tr>\n",
       "    <tr>\n",
       "      <th>3</th>\n",
       "      <td>Fastrack</td>\n",
       "      <td>UV Protection Wayfarer Sunglasses (Free Size)</td>\n",
       "      <td>₹758</td>\n",
       "      <td>15% off</td>\n",
       "    </tr>\n",
       "    <tr>\n",
       "      <th>4</th>\n",
       "      <td>Fastrack</td>\n",
       "      <td>UV Protection Rectangular Sunglasses (Free Size)</td>\n",
       "      <td>₹513</td>\n",
       "      <td>35% off</td>\n",
       "    </tr>\n",
       "    <tr>\n",
       "      <th>...</th>\n",
       "      <td>...</td>\n",
       "      <td>...</td>\n",
       "      <td>...</td>\n",
       "      <td>...</td>\n",
       "    </tr>\n",
       "    <tr>\n",
       "      <th>95</th>\n",
       "      <td>AISLIN</td>\n",
       "      <td>UV Protection, Gradient Butterfly, Retro Squar...</td>\n",
       "      <td>₹498</td>\n",
       "      <td>67% off</td>\n",
       "    </tr>\n",
       "    <tr>\n",
       "      <th>96</th>\n",
       "      <td>Fastrack</td>\n",
       "      <td>UV Protection, Polarized Wayfarer Sunglasses (56)</td>\n",
       "      <td>₹612</td>\n",
       "      <td>31% off</td>\n",
       "    </tr>\n",
       "    <tr>\n",
       "      <th>97</th>\n",
       "      <td>kingsunglasses</td>\n",
       "      <td>Mirrored, UV Protection Wayfarer Sunglasses (F...</td>\n",
       "      <td>₹299</td>\n",
       "      <td>88% off</td>\n",
       "    </tr>\n",
       "    <tr>\n",
       "      <th>98</th>\n",
       "      <td>kingsunglasses</td>\n",
       "      <td>UV Protection Rectangular Sunglasses (Free Size)</td>\n",
       "      <td>₹210</td>\n",
       "      <td>83% off</td>\n",
       "    </tr>\n",
       "    <tr>\n",
       "      <th>99</th>\n",
       "      <td>ROYAL SON</td>\n",
       "      <td>UV Protection Retro Square Sunglasses (88)</td>\n",
       "      <td>₹599</td>\n",
       "      <td>70% off</td>\n",
       "    </tr>\n",
       "  </tbody>\n",
       "</table>\n",
       "<p>100 rows × 4 columns</p>\n",
       "</div>"
      ],
      "text/plain": [
       "            Brands                                Product Description Price  \\\n",
       "0            Wrogn                  Mirrored Wayfarer Sunglasses (51)  ₹663   \n",
       "1           PIRASO         UV Protection Round Sunglasses (Free Size)  ₹209   \n",
       "2   kingsunglasses  Mirrored, UV Protection Wayfarer Sunglasses (F...  ₹299   \n",
       "3         Fastrack      UV Protection Wayfarer Sunglasses (Free Size)  ₹758   \n",
       "4         Fastrack   UV Protection Rectangular Sunglasses (Free Size)  ₹513   \n",
       "..             ...                                                ...   ...   \n",
       "95          AISLIN  UV Protection, Gradient Butterfly, Retro Squar...  ₹498   \n",
       "96        Fastrack  UV Protection, Polarized Wayfarer Sunglasses (56)  ₹612   \n",
       "97  kingsunglasses  Mirrored, UV Protection Wayfarer Sunglasses (F...  ₹299   \n",
       "98  kingsunglasses   UV Protection Rectangular Sunglasses (Free Size)  ₹210   \n",
       "99       ROYAL SON         UV Protection Retro Square Sunglasses (88)  ₹599   \n",
       "\n",
       "   Discount  \n",
       "0   73% off  \n",
       "1   86% off  \n",
       "2   88% off  \n",
       "3   15% off  \n",
       "4   35% off  \n",
       "..      ...  \n",
       "95  67% off  \n",
       "96  31% off  \n",
       "97  88% off  \n",
       "98  83% off  \n",
       "99  70% off  \n",
       "\n",
       "[100 rows x 4 columns]"
      ]
     },
     "execution_count": 204,
     "metadata": {},
     "output_type": "execute_result"
    }
   ],
   "source": [
    "sunglasses"
   ]
  },
  {
   "cell_type": "code",
   "execution_count": null,
   "metadata": {},
   "outputs": [],
   "source": []
  },
  {
   "cell_type": "code",
   "execution_count": null,
   "metadata": {},
   "outputs": [],
   "source": []
  },
  {
   "cell_type": "markdown",
   "metadata": {},
   "source": [
    "# Q7: Scrape 100 reviews data from flipkart.com for iphone11 phone. You have to \n",
    "go the link: https://www.flipkart.com/apple-iphone-11-black-64-gb-includes\u0002earpods-power\u0002adapter/p/itm0f37c2240b217?pid=MOBFKCTSVZAXUHGR&lid=LSTMOBFKC\n",
    "TSVZAXUHGREPBFGI&marketplace.\n",
    "When you will open the above link you will reach to the below shown webpage.\n",
    "As shown in the above page you have to scrape the tick marked attributes.\n",
    "These are \n",
    "1. Rating \n",
    "2. Review_summary \n",
    "3. Full review\n",
    "You have to scrape this data for first 100 reviews."
   ]
  },
  {
   "cell_type": "code",
   "execution_count": 210,
   "metadata": {},
   "outputs": [],
   "source": [
    "driver = webdriver.Chrome(r\"C:\\Users\\Rajat Jibhkate\\Downloads\\chromedriver_win32\\chromedriver.exe\")"
   ]
  },
  {
   "cell_type": "code",
   "execution_count": 211,
   "metadata": {},
   "outputs": [],
   "source": [
    "url = \"https://www.flipkart.com/apple-iphone-11-black-64-gb-includes-earpods-power-adapter/p/itm0f37c2240b217?pid=MOBFKCTSVZAXUHGR&lid=LSTMOBFKCTSVZAXUHGREPBFGI&marketplace\"\n",
    "driver.get(url)"
   ]
  },
  {
   "cell_type": "code",
   "execution_count": 212,
   "metadata": {},
   "outputs": [],
   "source": [
    "ratings=[]\n",
    "review_summary=[]\n",
    "full_review=[]"
   ]
  },
  {
   "cell_type": "code",
   "execution_count": 213,
   "metadata": {},
   "outputs": [],
   "source": [
    "all_reviews=driver.find_element_by_xpath(\"//div[@class='_3UAT2v _16PBlm']//span\")\n",
    "all_reviews.click()"
   ]
  },
  {
   "cell_type": "code",
   "execution_count": 214,
   "metadata": {},
   "outputs": [
    {
     "data": {
      "text/plain": [
       "<selenium.webdriver.remote.webelement.WebElement (session=\"00bc8734163b3120d2129e8d4b20d26d\", element=\"3285adc5-050d-42f8-8dde-68ac63d39d5a\")>"
      ]
     },
     "execution_count": 214,
     "metadata": {},
     "output_type": "execute_result"
    }
   ],
   "source": [
    "for i in range(1,12):\n",
    "    rating = driver.find_elements_by_xpath(\"//div[@class='_3LWZlK _1BLPMq']\")\n",
    "    for i in rating:\n",
    "        ratings.append(i.text)\n",
    "    ratings  \n",
    "next_button=driver.find_element_by_xpath(\"//a[@class='_1LKTO3']//span\") \n",
    "next_button"
   ]
  },
  {
   "cell_type": "code",
   "execution_count": 215,
   "metadata": {},
   "outputs": [
    {
     "data": {
      "text/plain": [
       "['5',\n",
       " '5',\n",
       " '5',\n",
       " '5',\n",
       " '5',\n",
       " '5',\n",
       " '4',\n",
       " '5',\n",
       " '5',\n",
       " '5',\n",
       " '5',\n",
       " '5',\n",
       " '5',\n",
       " '5',\n",
       " '5',\n",
       " '5',\n",
       " '4',\n",
       " '5',\n",
       " '5',\n",
       " '5',\n",
       " '5',\n",
       " '5',\n",
       " '5',\n",
       " '5',\n",
       " '5',\n",
       " '5',\n",
       " '4',\n",
       " '5',\n",
       " '5',\n",
       " '5',\n",
       " '5',\n",
       " '5',\n",
       " '5',\n",
       " '5',\n",
       " '5',\n",
       " '5',\n",
       " '4',\n",
       " '5',\n",
       " '5',\n",
       " '5',\n",
       " '5',\n",
       " '5',\n",
       " '5',\n",
       " '5',\n",
       " '5',\n",
       " '5',\n",
       " '4',\n",
       " '5',\n",
       " '5',\n",
       " '5',\n",
       " '5',\n",
       " '5',\n",
       " '5',\n",
       " '5',\n",
       " '5',\n",
       " '5',\n",
       " '4',\n",
       " '5',\n",
       " '5',\n",
       " '5',\n",
       " '5',\n",
       " '5',\n",
       " '5',\n",
       " '5',\n",
       " '5',\n",
       " '5',\n",
       " '4',\n",
       " '5',\n",
       " '5',\n",
       " '5',\n",
       " '5',\n",
       " '5',\n",
       " '5',\n",
       " '5',\n",
       " '5',\n",
       " '5',\n",
       " '4',\n",
       " '5',\n",
       " '5',\n",
       " '5',\n",
       " '5',\n",
       " '5',\n",
       " '5',\n",
       " '5',\n",
       " '5',\n",
       " '5',\n",
       " '4',\n",
       " '5',\n",
       " '5',\n",
       " '5',\n",
       " '5',\n",
       " '5',\n",
       " '5',\n",
       " '5',\n",
       " '5',\n",
       " '5',\n",
       " '4',\n",
       " '5',\n",
       " '5',\n",
       " '5',\n",
       " '5',\n",
       " '5',\n",
       " '5',\n",
       " '5',\n",
       " '5',\n",
       " '5',\n",
       " '4',\n",
       " '5',\n",
       " '5',\n",
       " '5']"
      ]
     },
     "execution_count": 215,
     "metadata": {},
     "output_type": "execute_result"
    }
   ],
   "source": [
    "ratings"
   ]
  },
  {
   "cell_type": "code",
   "execution_count": 216,
   "metadata": {},
   "outputs": [
    {
     "data": {
      "text/plain": [
       "<selenium.webdriver.remote.webelement.WebElement (session=\"00bc8734163b3120d2129e8d4b20d26d\", element=\"3285adc5-050d-42f8-8dde-68ac63d39d5a\")>"
      ]
     },
     "execution_count": 216,
     "metadata": {},
     "output_type": "execute_result"
    }
   ],
   "source": [
    "for i in range(1,12):\n",
    "    short_review = driver.find_elements_by_xpath(\"//p[@class='_2-N8zT']\")\n",
    "    for i in short_review:\n",
    "        review_summary.append(i.text)\n",
    "    review_summary  \n",
    "next_button=driver.find_element_by_xpath(\"//a[@class='_1LKTO3']//span\") \n",
    "next_button"
   ]
  },
  {
   "cell_type": "code",
   "execution_count": 217,
   "metadata": {},
   "outputs": [
    {
     "data": {
      "text/plain": [
       "['Brilliant',\n",
       " 'Perfect product!',\n",
       " 'Worth every penny',\n",
       " 'Fabulous!',\n",
       " 'Simply awesome',\n",
       " 'Great product',\n",
       " 'Good choice',\n",
       " 'Worth every penny',\n",
       " 'Highly recommended',\n",
       " 'Perfect product!',\n",
       " 'Brilliant',\n",
       " 'Perfect product!',\n",
       " 'Worth every penny',\n",
       " 'Fabulous!',\n",
       " 'Simply awesome',\n",
       " 'Great product',\n",
       " 'Good choice',\n",
       " 'Worth every penny',\n",
       " 'Highly recommended',\n",
       " 'Perfect product!',\n",
       " 'Brilliant',\n",
       " 'Perfect product!',\n",
       " 'Worth every penny',\n",
       " 'Fabulous!',\n",
       " 'Simply awesome',\n",
       " 'Great product',\n",
       " 'Good choice',\n",
       " 'Worth every penny',\n",
       " 'Highly recommended',\n",
       " 'Perfect product!',\n",
       " 'Brilliant',\n",
       " 'Perfect product!',\n",
       " 'Worth every penny',\n",
       " 'Fabulous!',\n",
       " 'Simply awesome',\n",
       " 'Great product',\n",
       " 'Good choice',\n",
       " 'Worth every penny',\n",
       " 'Highly recommended',\n",
       " 'Perfect product!',\n",
       " 'Brilliant',\n",
       " 'Perfect product!',\n",
       " 'Worth every penny',\n",
       " 'Fabulous!',\n",
       " 'Simply awesome',\n",
       " 'Great product',\n",
       " 'Good choice',\n",
       " 'Worth every penny',\n",
       " 'Highly recommended',\n",
       " 'Perfect product!',\n",
       " 'Brilliant',\n",
       " 'Perfect product!',\n",
       " 'Worth every penny',\n",
       " 'Fabulous!',\n",
       " 'Simply awesome',\n",
       " 'Great product',\n",
       " 'Good choice',\n",
       " 'Worth every penny',\n",
       " 'Highly recommended',\n",
       " 'Perfect product!',\n",
       " 'Brilliant',\n",
       " 'Perfect product!',\n",
       " 'Worth every penny',\n",
       " 'Fabulous!',\n",
       " 'Simply awesome',\n",
       " 'Great product',\n",
       " 'Good choice',\n",
       " 'Worth every penny',\n",
       " 'Highly recommended',\n",
       " 'Perfect product!',\n",
       " 'Brilliant',\n",
       " 'Perfect product!',\n",
       " 'Worth every penny',\n",
       " 'Fabulous!',\n",
       " 'Simply awesome',\n",
       " 'Great product',\n",
       " 'Good choice',\n",
       " 'Worth every penny',\n",
       " 'Highly recommended',\n",
       " 'Perfect product!',\n",
       " 'Brilliant',\n",
       " 'Perfect product!',\n",
       " 'Worth every penny',\n",
       " 'Fabulous!',\n",
       " 'Simply awesome',\n",
       " 'Great product',\n",
       " 'Good choice',\n",
       " 'Worth every penny',\n",
       " 'Highly recommended',\n",
       " 'Perfect product!',\n",
       " 'Brilliant',\n",
       " 'Perfect product!',\n",
       " 'Worth every penny',\n",
       " 'Fabulous!',\n",
       " 'Simply awesome',\n",
       " 'Great product',\n",
       " 'Good choice',\n",
       " 'Worth every penny',\n",
       " 'Highly recommended',\n",
       " 'Perfect product!',\n",
       " 'Brilliant',\n",
       " 'Perfect product!',\n",
       " 'Worth every penny',\n",
       " 'Fabulous!',\n",
       " 'Simply awesome',\n",
       " 'Great product',\n",
       " 'Good choice',\n",
       " 'Worth every penny',\n",
       " 'Highly recommended',\n",
       " 'Perfect product!']"
      ]
     },
     "execution_count": 217,
     "metadata": {},
     "output_type": "execute_result"
    }
   ],
   "source": [
    "review_summary"
   ]
  },
  {
   "cell_type": "code",
   "execution_count": 218,
   "metadata": {},
   "outputs": [
    {
     "data": {
      "text/plain": [
       "<selenium.webdriver.remote.webelement.WebElement (session=\"00bc8734163b3120d2129e8d4b20d26d\", element=\"3285adc5-050d-42f8-8dde-68ac63d39d5a\")>"
      ]
     },
     "execution_count": 218,
     "metadata": {},
     "output_type": "execute_result"
    }
   ],
   "source": [
    "for i in range(1,12):\n",
    "    review = driver.find_elements_by_xpath(\"//div[@class='t-ZTKy']\")\n",
    "    for i in review:\n",
    "        full_review.append(i.text)\n",
    "    full_review  \n",
    "next_button=driver.find_element_by_xpath(\"//a[@class='_1LKTO3']//span\") \n",
    "next_button"
   ]
  },
  {
   "cell_type": "code",
   "execution_count": 219,
   "metadata": {},
   "outputs": [
    {
     "data": {
      "text/plain": [
       "['The Best Phone for the Money\\n\\nThe iPhone 11 offers superb cameras, a more durable design and excellent battery life for an affordable price.\\n\\nCompelling ultra-wide camera\\nNew Night mode is excellent\\nLong battery life',\n",
       " 'Amazing phone with great cameras and better battery which gives you the best performance. I just love the camera .',\n",
       " 'Previously I was using one plus 3t it was a great phone\\nAnd then I decided to upgrade I am stuck between Samsung s10 plus or iPhone 11\\nI have seen the specs and everything were good except the display it’s somewhere between 720-1080 and it’s not even an amoled it’s an LCD display\\nBut I decided to go with iPhone because I have never used an IOS device I have Been an android user from the past 9 years I ordered IPhone 11 (128gb) product red\\nMy experience after using 3 weeks\\n1. The delivery ...\\nREAD MORE',\n",
       " 'This is my first iOS phone. I am very happy with this product. Very much satisfied with this. I love this phone.',\n",
       " 'Really satisfied with the Product I received... It’s totally genuine and the packaging was also really good so if ur planning to buy just go for it.',\n",
       " 'Amazing Powerful and Durable Gadget.\\n\\nI’m am very happy with the camera picture quality, Amazing face id unlocked in dark room, Strong battery with perfect screen size as you can carry easily in pocket. This is my third iPhone.\\n\\nI shifted from android Samsung Note series to iPhone because of the strong build quality and peace of mind for next 3-4 years.\\n\\nDon’t think to much just go for it and I suggest you to go for minimum 128gb variant or more 256gb.\\n\\nI’ve attached my puppy pics and no fi...\\nREAD MORE',\n",
       " 'So far it’s been an AMAZING experience coming back to iOS after nearly a decade but it’s not as versatile as android though phone is sturdy dropped it accidentally a couple of times and nothing happened fortunately camera is awesome',\n",
       " 'i11 is worthy to buy, too much happy with the product. Thank u flipkart I received the item on time..loved it..',\n",
       " 'iphone 11 is a very good phone to buy only if you can compromise for the display. The display on this is device is pretty good but you can get other options with better displays in this price segment.\\nIf you can survive with an HD+ LCD panel with thicker bezels and a notch up top then this is a very good phone for you.\\nCameras are awesome, battery backup excellent, great performance and a decent premium look. Good job Apple !',\n",
       " 'It’s a must buy who is looking for an upgrade from previous generation of iPhones. If you are using XR then still you can hold on for sometime and upgrade to 2020 model else this phone is a must buy . Camera quality is amazing and wide angle is something to count upon. Performance wise it’s amazing and feels premium while holding in hand. So a big YES for this device. Go for 128 GB variant as the 4K videos will occupy lots of space and the storage can get over very quickly. Try to buy it with...\\nREAD MORE',\n",
       " 'The Best Phone for the Money\\n\\nThe iPhone 11 offers superb cameras, a more durable design and excellent battery life for an affordable price.\\n\\nCompelling ultra-wide camera\\nNew Night mode is excellent\\nLong battery life',\n",
       " 'Amazing phone with great cameras and better battery which gives you the best performance. I just love the camera .',\n",
       " 'Previously I was using one plus 3t it was a great phone\\nAnd then I decided to upgrade I am stuck between Samsung s10 plus or iPhone 11\\nI have seen the specs and everything were good except the display it’s somewhere between 720-1080 and it’s not even an amoled it’s an LCD display\\nBut I decided to go with iPhone because I have never used an IOS device I have Been an android user from the past 9 years I ordered IPhone 11 (128gb) product red\\nMy experience after using 3 weeks\\n1. The delivery ...\\nREAD MORE',\n",
       " 'This is my first iOS phone. I am very happy with this product. Very much satisfied with this. I love this phone.',\n",
       " 'Really satisfied with the Product I received... It’s totally genuine and the packaging was also really good so if ur planning to buy just go for it.',\n",
       " 'Amazing Powerful and Durable Gadget.\\n\\nI’m am very happy with the camera picture quality, Amazing face id unlocked in dark room, Strong battery with perfect screen size as you can carry easily in pocket. This is my third iPhone.\\n\\nI shifted from android Samsung Note series to iPhone because of the strong build quality and peace of mind for next 3-4 years.\\n\\nDon’t think to much just go for it and I suggest you to go for minimum 128gb variant or more 256gb.\\n\\nI’ve attached my puppy pics and no fi...\\nREAD MORE',\n",
       " 'So far it’s been an AMAZING experience coming back to iOS after nearly a decade but it’s not as versatile as android though phone is sturdy dropped it accidentally a couple of times and nothing happened fortunately camera is awesome',\n",
       " 'i11 is worthy to buy, too much happy with the product. Thank u flipkart I received the item on time..loved it..',\n",
       " 'iphone 11 is a very good phone to buy only if you can compromise for the display. The display on this is device is pretty good but you can get other options with better displays in this price segment.\\nIf you can survive with an HD+ LCD panel with thicker bezels and a notch up top then this is a very good phone for you.\\nCameras are awesome, battery backup excellent, great performance and a decent premium look. Good job Apple !',\n",
       " 'It’s a must buy who is looking for an upgrade from previous generation of iPhones. If you are using XR then still you can hold on for sometime and upgrade to 2020 model else this phone is a must buy . Camera quality is amazing and wide angle is something to count upon. Performance wise it’s amazing and feels premium while holding in hand. So a big YES for this device. Go for 128 GB variant as the 4K videos will occupy lots of space and the storage can get over very quickly. Try to buy it with...\\nREAD MORE',\n",
       " 'The Best Phone for the Money\\n\\nThe iPhone 11 offers superb cameras, a more durable design and excellent battery life for an affordable price.\\n\\nCompelling ultra-wide camera\\nNew Night mode is excellent\\nLong battery life',\n",
       " 'Amazing phone with great cameras and better battery which gives you the best performance. I just love the camera .',\n",
       " 'Previously I was using one plus 3t it was a great phone\\nAnd then I decided to upgrade I am stuck between Samsung s10 plus or iPhone 11\\nI have seen the specs and everything were good except the display it’s somewhere between 720-1080 and it’s not even an amoled it’s an LCD display\\nBut I decided to go with iPhone because I have never used an IOS device I have Been an android user from the past 9 years I ordered IPhone 11 (128gb) product red\\nMy experience after using 3 weeks\\n1. The delivery ...\\nREAD MORE',\n",
       " 'This is my first iOS phone. I am very happy with this product. Very much satisfied with this. I love this phone.',\n",
       " 'Really satisfied with the Product I received... It’s totally genuine and the packaging was also really good so if ur planning to buy just go for it.',\n",
       " 'Amazing Powerful and Durable Gadget.\\n\\nI’m am very happy with the camera picture quality, Amazing face id unlocked in dark room, Strong battery with perfect screen size as you can carry easily in pocket. This is my third iPhone.\\n\\nI shifted from android Samsung Note series to iPhone because of the strong build quality and peace of mind for next 3-4 years.\\n\\nDon’t think to much just go for it and I suggest you to go for minimum 128gb variant or more 256gb.\\n\\nI’ve attached my puppy pics and no fi...\\nREAD MORE',\n",
       " 'So far it’s been an AMAZING experience coming back to iOS after nearly a decade but it’s not as versatile as android though phone is sturdy dropped it accidentally a couple of times and nothing happened fortunately camera is awesome',\n",
       " 'i11 is worthy to buy, too much happy with the product. Thank u flipkart I received the item on time..loved it..',\n",
       " 'iphone 11 is a very good phone to buy only if you can compromise for the display. The display on this is device is pretty good but you can get other options with better displays in this price segment.\\nIf you can survive with an HD+ LCD panel with thicker bezels and a notch up top then this is a very good phone for you.\\nCameras are awesome, battery backup excellent, great performance and a decent premium look. Good job Apple !',\n",
       " 'It’s a must buy who is looking for an upgrade from previous generation of iPhones. If you are using XR then still you can hold on for sometime and upgrade to 2020 model else this phone is a must buy . Camera quality is amazing and wide angle is something to count upon. Performance wise it’s amazing and feels premium while holding in hand. So a big YES for this device. Go for 128 GB variant as the 4K videos will occupy lots of space and the storage can get over very quickly. Try to buy it with...\\nREAD MORE',\n",
       " 'The Best Phone for the Money\\n\\nThe iPhone 11 offers superb cameras, a more durable design and excellent battery life for an affordable price.\\n\\nCompelling ultra-wide camera\\nNew Night mode is excellent\\nLong battery life',\n",
       " 'Amazing phone with great cameras and better battery which gives you the best performance. I just love the camera .',\n",
       " 'Previously I was using one plus 3t it was a great phone\\nAnd then I decided to upgrade I am stuck between Samsung s10 plus or iPhone 11\\nI have seen the specs and everything were good except the display it’s somewhere between 720-1080 and it’s not even an amoled it’s an LCD display\\nBut I decided to go with iPhone because I have never used an IOS device I have Been an android user from the past 9 years I ordered IPhone 11 (128gb) product red\\nMy experience after using 3 weeks\\n1. The delivery ...\\nREAD MORE',\n",
       " 'This is my first iOS phone. I am very happy with this product. Very much satisfied with this. I love this phone.',\n",
       " 'Really satisfied with the Product I received... It’s totally genuine and the packaging was also really good so if ur planning to buy just go for it.',\n",
       " 'Amazing Powerful and Durable Gadget.\\n\\nI’m am very happy with the camera picture quality, Amazing face id unlocked in dark room, Strong battery with perfect screen size as you can carry easily in pocket. This is my third iPhone.\\n\\nI shifted from android Samsung Note series to iPhone because of the strong build quality and peace of mind for next 3-4 years.\\n\\nDon’t think to much just go for it and I suggest you to go for minimum 128gb variant or more 256gb.\\n\\nI’ve attached my puppy pics and no fi...\\nREAD MORE',\n",
       " 'So far it’s been an AMAZING experience coming back to iOS after nearly a decade but it’s not as versatile as android though phone is sturdy dropped it accidentally a couple of times and nothing happened fortunately camera is awesome',\n",
       " 'i11 is worthy to buy, too much happy with the product. Thank u flipkart I received the item on time..loved it..',\n",
       " 'iphone 11 is a very good phone to buy only if you can compromise for the display. The display on this is device is pretty good but you can get other options with better displays in this price segment.\\nIf you can survive with an HD+ LCD panel with thicker bezels and a notch up top then this is a very good phone for you.\\nCameras are awesome, battery backup excellent, great performance and a decent premium look. Good job Apple !',\n",
       " 'It’s a must buy who is looking for an upgrade from previous generation of iPhones. If you are using XR then still you can hold on for sometime and upgrade to 2020 model else this phone is a must buy . Camera quality is amazing and wide angle is something to count upon. Performance wise it’s amazing and feels premium while holding in hand. So a big YES for this device. Go for 128 GB variant as the 4K videos will occupy lots of space and the storage can get over very quickly. Try to buy it with...\\nREAD MORE',\n",
       " 'The Best Phone for the Money\\n\\nThe iPhone 11 offers superb cameras, a more durable design and excellent battery life for an affordable price.\\n\\nCompelling ultra-wide camera\\nNew Night mode is excellent\\nLong battery life',\n",
       " 'Amazing phone with great cameras and better battery which gives you the best performance. I just love the camera .',\n",
       " 'Previously I was using one plus 3t it was a great phone\\nAnd then I decided to upgrade I am stuck between Samsung s10 plus or iPhone 11\\nI have seen the specs and everything were good except the display it’s somewhere between 720-1080 and it’s not even an amoled it’s an LCD display\\nBut I decided to go with iPhone because I have never used an IOS device I have Been an android user from the past 9 years I ordered IPhone 11 (128gb) product red\\nMy experience after using 3 weeks\\n1. The delivery ...\\nREAD MORE',\n",
       " 'This is my first iOS phone. I am very happy with this product. Very much satisfied with this. I love this phone.',\n",
       " 'Really satisfied with the Product I received... It’s totally genuine and the packaging was also really good so if ur planning to buy just go for it.',\n",
       " 'Amazing Powerful and Durable Gadget.\\n\\nI’m am very happy with the camera picture quality, Amazing face id unlocked in dark room, Strong battery with perfect screen size as you can carry easily in pocket. This is my third iPhone.\\n\\nI shifted from android Samsung Note series to iPhone because of the strong build quality and peace of mind for next 3-4 years.\\n\\nDon’t think to much just go for it and I suggest you to go for minimum 128gb variant or more 256gb.\\n\\nI’ve attached my puppy pics and no fi...\\nREAD MORE',\n",
       " 'So far it’s been an AMAZING experience coming back to iOS after nearly a decade but it’s not as versatile as android though phone is sturdy dropped it accidentally a couple of times and nothing happened fortunately camera is awesome',\n",
       " 'i11 is worthy to buy, too much happy with the product. Thank u flipkart I received the item on time..loved it..',\n",
       " 'iphone 11 is a very good phone to buy only if you can compromise for the display. The display on this is device is pretty good but you can get other options with better displays in this price segment.\\nIf you can survive with an HD+ LCD panel with thicker bezels and a notch up top then this is a very good phone for you.\\nCameras are awesome, battery backup excellent, great performance and a decent premium look. Good job Apple !',\n",
       " 'It’s a must buy who is looking for an upgrade from previous generation of iPhones. If you are using XR then still you can hold on for sometime and upgrade to 2020 model else this phone is a must buy . Camera quality is amazing and wide angle is something to count upon. Performance wise it’s amazing and feels premium while holding in hand. So a big YES for this device. Go for 128 GB variant as the 4K videos will occupy lots of space and the storage can get over very quickly. Try to buy it with...\\nREAD MORE',\n",
       " 'The Best Phone for the Money\\n\\nThe iPhone 11 offers superb cameras, a more durable design and excellent battery life for an affordable price.\\n\\nCompelling ultra-wide camera\\nNew Night mode is excellent\\nLong battery life',\n",
       " 'Amazing phone with great cameras and better battery which gives you the best performance. I just love the camera .',\n",
       " 'Previously I was using one plus 3t it was a great phone\\nAnd then I decided to upgrade I am stuck between Samsung s10 plus or iPhone 11\\nI have seen the specs and everything were good except the display it’s somewhere between 720-1080 and it’s not even an amoled it’s an LCD display\\nBut I decided to go with iPhone because I have never used an IOS device I have Been an android user from the past 9 years I ordered IPhone 11 (128gb) product red\\nMy experience after using 3 weeks\\n1. The delivery ...\\nREAD MORE',\n",
       " 'This is my first iOS phone. I am very happy with this product. Very much satisfied with this. I love this phone.',\n",
       " 'Really satisfied with the Product I received... It’s totally genuine and the packaging was also really good so if ur planning to buy just go for it.',\n",
       " 'Amazing Powerful and Durable Gadget.\\n\\nI’m am very happy with the camera picture quality, Amazing face id unlocked in dark room, Strong battery with perfect screen size as you can carry easily in pocket. This is my third iPhone.\\n\\nI shifted from android Samsung Note series to iPhone because of the strong build quality and peace of mind for next 3-4 years.\\n\\nDon’t think to much just go for it and I suggest you to go for minimum 128gb variant or more 256gb.\\n\\nI’ve attached my puppy pics and no fi...\\nREAD MORE',\n",
       " 'So far it’s been an AMAZING experience coming back to iOS after nearly a decade but it’s not as versatile as android though phone is sturdy dropped it accidentally a couple of times and nothing happened fortunately camera is awesome',\n",
       " 'i11 is worthy to buy, too much happy with the product. Thank u flipkart I received the item on time..loved it..',\n",
       " 'iphone 11 is a very good phone to buy only if you can compromise for the display. The display on this is device is pretty good but you can get other options with better displays in this price segment.\\nIf you can survive with an HD+ LCD panel with thicker bezels and a notch up top then this is a very good phone for you.\\nCameras are awesome, battery backup excellent, great performance and a decent premium look. Good job Apple !',\n",
       " 'It’s a must buy who is looking for an upgrade from previous generation of iPhones. If you are using XR then still you can hold on for sometime and upgrade to 2020 model else this phone is a must buy . Camera quality is amazing and wide angle is something to count upon. Performance wise it’s amazing and feels premium while holding in hand. So a big YES for this device. Go for 128 GB variant as the 4K videos will occupy lots of space and the storage can get over very quickly. Try to buy it with...\\nREAD MORE',\n",
       " 'The Best Phone for the Money\\n\\nThe iPhone 11 offers superb cameras, a more durable design and excellent battery life for an affordable price.\\n\\nCompelling ultra-wide camera\\nNew Night mode is excellent\\nLong battery life',\n",
       " 'Amazing phone with great cameras and better battery which gives you the best performance. I just love the camera .',\n",
       " 'Previously I was using one plus 3t it was a great phone\\nAnd then I decided to upgrade I am stuck between Samsung s10 plus or iPhone 11\\nI have seen the specs and everything were good except the display it’s somewhere between 720-1080 and it’s not even an amoled it’s an LCD display\\nBut I decided to go with iPhone because I have never used an IOS device I have Been an android user from the past 9 years I ordered IPhone 11 (128gb) product red\\nMy experience after using 3 weeks\\n1. The delivery ...\\nREAD MORE',\n",
       " 'This is my first iOS phone. I am very happy with this product. Very much satisfied with this. I love this phone.',\n",
       " 'Really satisfied with the Product I received... It’s totally genuine and the packaging was also really good so if ur planning to buy just go for it.',\n",
       " 'Amazing Powerful and Durable Gadget.\\n\\nI’m am very happy with the camera picture quality, Amazing face id unlocked in dark room, Strong battery with perfect screen size as you can carry easily in pocket. This is my third iPhone.\\n\\nI shifted from android Samsung Note series to iPhone because of the strong build quality and peace of mind for next 3-4 years.\\n\\nDon’t think to much just go for it and I suggest you to go for minimum 128gb variant or more 256gb.\\n\\nI’ve attached my puppy pics and no fi...\\nREAD MORE',\n",
       " 'So far it’s been an AMAZING experience coming back to iOS after nearly a decade but it’s not as versatile as android though phone is sturdy dropped it accidentally a couple of times and nothing happened fortunately camera is awesome',\n",
       " 'i11 is worthy to buy, too much happy with the product. Thank u flipkart I received the item on time..loved it..',\n",
       " 'iphone 11 is a very good phone to buy only if you can compromise for the display. The display on this is device is pretty good but you can get other options with better displays in this price segment.\\nIf you can survive with an HD+ LCD panel with thicker bezels and a notch up top then this is a very good phone for you.\\nCameras are awesome, battery backup excellent, great performance and a decent premium look. Good job Apple !',\n",
       " 'It’s a must buy who is looking for an upgrade from previous generation of iPhones. If you are using XR then still you can hold on for sometime and upgrade to 2020 model else this phone is a must buy . Camera quality is amazing and wide angle is something to count upon. Performance wise it’s amazing and feels premium while holding in hand. So a big YES for this device. Go for 128 GB variant as the 4K videos will occupy lots of space and the storage can get over very quickly. Try to buy it with...\\nREAD MORE',\n",
       " 'The Best Phone for the Money\\n\\nThe iPhone 11 offers superb cameras, a more durable design and excellent battery life for an affordable price.\\n\\nCompelling ultra-wide camera\\nNew Night mode is excellent\\nLong battery life',\n",
       " 'Amazing phone with great cameras and better battery which gives you the best performance. I just love the camera .',\n",
       " 'Previously I was using one plus 3t it was a great phone\\nAnd then I decided to upgrade I am stuck between Samsung s10 plus or iPhone 11\\nI have seen the specs and everything were good except the display it’s somewhere between 720-1080 and it’s not even an amoled it’s an LCD display\\nBut I decided to go with iPhone because I have never used an IOS device I have Been an android user from the past 9 years I ordered IPhone 11 (128gb) product red\\nMy experience after using 3 weeks\\n1. The delivery ...\\nREAD MORE',\n",
       " 'This is my first iOS phone. I am very happy with this product. Very much satisfied with this. I love this phone.',\n",
       " 'Really satisfied with the Product I received... It’s totally genuine and the packaging was also really good so if ur planning to buy just go for it.',\n",
       " 'Amazing Powerful and Durable Gadget.\\n\\nI’m am very happy with the camera picture quality, Amazing face id unlocked in dark room, Strong battery with perfect screen size as you can carry easily in pocket. This is my third iPhone.\\n\\nI shifted from android Samsung Note series to iPhone because of the strong build quality and peace of mind for next 3-4 years.\\n\\nDon’t think to much just go for it and I suggest you to go for minimum 128gb variant or more 256gb.\\n\\nI’ve attached my puppy pics and no fi...\\nREAD MORE',\n",
       " 'So far it’s been an AMAZING experience coming back to iOS after nearly a decade but it’s not as versatile as android though phone is sturdy dropped it accidentally a couple of times and nothing happened fortunately camera is awesome',\n",
       " 'i11 is worthy to buy, too much happy with the product. Thank u flipkart I received the item on time..loved it..',\n",
       " 'iphone 11 is a very good phone to buy only if you can compromise for the display. The display on this is device is pretty good but you can get other options with better displays in this price segment.\\nIf you can survive with an HD+ LCD panel with thicker bezels and a notch up top then this is a very good phone for you.\\nCameras are awesome, battery backup excellent, great performance and a decent premium look. Good job Apple !',\n",
       " 'It’s a must buy who is looking for an upgrade from previous generation of iPhones. If you are using XR then still you can hold on for sometime and upgrade to 2020 model else this phone is a must buy . Camera quality is amazing and wide angle is something to count upon. Performance wise it’s amazing and feels premium while holding in hand. So a big YES for this device. Go for 128 GB variant as the 4K videos will occupy lots of space and the storage can get over very quickly. Try to buy it with...\\nREAD MORE',\n",
       " 'The Best Phone for the Money\\n\\nThe iPhone 11 offers superb cameras, a more durable design and excellent battery life for an affordable price.\\n\\nCompelling ultra-wide camera\\nNew Night mode is excellent\\nLong battery life',\n",
       " 'Amazing phone with great cameras and better battery which gives you the best performance. I just love the camera .',\n",
       " 'Previously I was using one plus 3t it was a great phone\\nAnd then I decided to upgrade I am stuck between Samsung s10 plus or iPhone 11\\nI have seen the specs and everything were good except the display it’s somewhere between 720-1080 and it’s not even an amoled it’s an LCD display\\nBut I decided to go with iPhone because I have never used an IOS device I have Been an android user from the past 9 years I ordered IPhone 11 (128gb) product red\\nMy experience after using 3 weeks\\n1. The delivery ...\\nREAD MORE',\n",
       " 'This is my first iOS phone. I am very happy with this product. Very much satisfied with this. I love this phone.',\n",
       " 'Really satisfied with the Product I received... It’s totally genuine and the packaging was also really good so if ur planning to buy just go for it.',\n",
       " 'Amazing Powerful and Durable Gadget.\\n\\nI’m am very happy with the camera picture quality, Amazing face id unlocked in dark room, Strong battery with perfect screen size as you can carry easily in pocket. This is my third iPhone.\\n\\nI shifted from android Samsung Note series to iPhone because of the strong build quality and peace of mind for next 3-4 years.\\n\\nDon’t think to much just go for it and I suggest you to go for minimum 128gb variant or more 256gb.\\n\\nI’ve attached my puppy pics and no fi...\\nREAD MORE',\n",
       " 'So far it’s been an AMAZING experience coming back to iOS after nearly a decade but it’s not as versatile as android though phone is sturdy dropped it accidentally a couple of times and nothing happened fortunately camera is awesome',\n",
       " 'i11 is worthy to buy, too much happy with the product. Thank u flipkart I received the item on time..loved it..',\n",
       " 'iphone 11 is a very good phone to buy only if you can compromise for the display. The display on this is device is pretty good but you can get other options with better displays in this price segment.\\nIf you can survive with an HD+ LCD panel with thicker bezels and a notch up top then this is a very good phone for you.\\nCameras are awesome, battery backup excellent, great performance and a decent premium look. Good job Apple !',\n",
       " 'It’s a must buy who is looking for an upgrade from previous generation of iPhones. If you are using XR then still you can hold on for sometime and upgrade to 2020 model else this phone is a must buy . Camera quality is amazing and wide angle is something to count upon. Performance wise it’s amazing and feels premium while holding in hand. So a big YES for this device. Go for 128 GB variant as the 4K videos will occupy lots of space and the storage can get over very quickly. Try to buy it with...\\nREAD MORE',\n",
       " 'The Best Phone for the Money\\n\\nThe iPhone 11 offers superb cameras, a more durable design and excellent battery life for an affordable price.\\n\\nCompelling ultra-wide camera\\nNew Night mode is excellent\\nLong battery life',\n",
       " 'Amazing phone with great cameras and better battery which gives you the best performance. I just love the camera .',\n",
       " 'Previously I was using one plus 3t it was a great phone\\nAnd then I decided to upgrade I am stuck between Samsung s10 plus or iPhone 11\\nI have seen the specs and everything were good except the display it’s somewhere between 720-1080 and it’s not even an amoled it’s an LCD display\\nBut I decided to go with iPhone because I have never used an IOS device I have Been an android user from the past 9 years I ordered IPhone 11 (128gb) product red\\nMy experience after using 3 weeks\\n1. The delivery ...\\nREAD MORE',\n",
       " 'This is my first iOS phone. I am very happy with this product. Very much satisfied with this. I love this phone.',\n",
       " 'Really satisfied with the Product I received... It’s totally genuine and the packaging was also really good so if ur planning to buy just go for it.',\n",
       " 'Amazing Powerful and Durable Gadget.\\n\\nI’m am very happy with the camera picture quality, Amazing face id unlocked in dark room, Strong battery with perfect screen size as you can carry easily in pocket. This is my third iPhone.\\n\\nI shifted from android Samsung Note series to iPhone because of the strong build quality and peace of mind for next 3-4 years.\\n\\nDon’t think to much just go for it and I suggest you to go for minimum 128gb variant or more 256gb.\\n\\nI’ve attached my puppy pics and no fi...\\nREAD MORE',\n",
       " 'So far it’s been an AMAZING experience coming back to iOS after nearly a decade but it’s not as versatile as android though phone is sturdy dropped it accidentally a couple of times and nothing happened fortunately camera is awesome',\n",
       " 'i11 is worthy to buy, too much happy with the product. Thank u flipkart I received the item on time..loved it..',\n",
       " 'iphone 11 is a very good phone to buy only if you can compromise for the display. The display on this is device is pretty good but you can get other options with better displays in this price segment.\\nIf you can survive with an HD+ LCD panel with thicker bezels and a notch up top then this is a very good phone for you.\\nCameras are awesome, battery backup excellent, great performance and a decent premium look. Good job Apple !',\n",
       " 'It’s a must buy who is looking for an upgrade from previous generation of iPhones. If you are using XR then still you can hold on for sometime and upgrade to 2020 model else this phone is a must buy . Camera quality is amazing and wide angle is something to count upon. Performance wise it’s amazing and feels premium while holding in hand. So a big YES for this device. Go for 128 GB variant as the 4K videos will occupy lots of space and the storage can get over very quickly. Try to buy it with...\\nREAD MORE',\n",
       " 'The Best Phone for the Money\\n\\nThe iPhone 11 offers superb cameras, a more durable design and excellent battery life for an affordable price.\\n\\nCompelling ultra-wide camera\\nNew Night mode is excellent\\nLong battery life',\n",
       " 'Amazing phone with great cameras and better battery which gives you the best performance. I just love the camera .',\n",
       " 'Previously I was using one plus 3t it was a great phone\\nAnd then I decided to upgrade I am stuck between Samsung s10 plus or iPhone 11\\nI have seen the specs and everything were good except the display it’s somewhere between 720-1080 and it’s not even an amoled it’s an LCD display\\nBut I decided to go with iPhone because I have never used an IOS device I have Been an android user from the past 9 years I ordered IPhone 11 (128gb) product red\\nMy experience after using 3 weeks\\n1. The delivery ...\\nREAD MORE',\n",
       " 'This is my first iOS phone. I am very happy with this product. Very much satisfied with this. I love this phone.',\n",
       " 'Really satisfied with the Product I received... It’s totally genuine and the packaging was also really good so if ur planning to buy just go for it.',\n",
       " 'Amazing Powerful and Durable Gadget.\\n\\nI’m am very happy with the camera picture quality, Amazing face id unlocked in dark room, Strong battery with perfect screen size as you can carry easily in pocket. This is my third iPhone.\\n\\nI shifted from android Samsung Note series to iPhone because of the strong build quality and peace of mind for next 3-4 years.\\n\\nDon’t think to much just go for it and I suggest you to go for minimum 128gb variant or more 256gb.\\n\\nI’ve attached my puppy pics and no fi...\\nREAD MORE',\n",
       " 'So far it’s been an AMAZING experience coming back to iOS after nearly a decade but it’s not as versatile as android though phone is sturdy dropped it accidentally a couple of times and nothing happened fortunately camera is awesome',\n",
       " 'i11 is worthy to buy, too much happy with the product. Thank u flipkart I received the item on time..loved it..',\n",
       " 'iphone 11 is a very good phone to buy only if you can compromise for the display. The display on this is device is pretty good but you can get other options with better displays in this price segment.\\nIf you can survive with an HD+ LCD panel with thicker bezels and a notch up top then this is a very good phone for you.\\nCameras are awesome, battery backup excellent, great performance and a decent premium look. Good job Apple !',\n",
       " 'It’s a must buy who is looking for an upgrade from previous generation of iPhones. If you are using XR then still you can hold on for sometime and upgrade to 2020 model else this phone is a must buy . Camera quality is amazing and wide angle is something to count upon. Performance wise it’s amazing and feels premium while holding in hand. So a big YES for this device. Go for 128 GB variant as the 4K videos will occupy lots of space and the storage can get over very quickly. Try to buy it with...\\nREAD MORE']"
      ]
     },
     "execution_count": 219,
     "metadata": {},
     "output_type": "execute_result"
    }
   ],
   "source": [
    "full_review"
   ]
  },
  {
   "cell_type": "code",
   "execution_count": 220,
   "metadata": {},
   "outputs": [
    {
     "name": "stdout",
     "output_type": "stream",
     "text": [
      "110 110 110\n"
     ]
    }
   ],
   "source": [
    "print(len(ratings),len(review_summary),len(full_review))"
   ]
  },
  {
   "cell_type": "code",
   "execution_count": 221,
   "metadata": {},
   "outputs": [],
   "source": [
    "iphone=pd.DataFrame({})\n",
    "iphone['Ratings']=ratings[:100]\n",
    "iphone['Review Summary']=review_summary[:100]\n",
    "iphone['Full Review']=full_review[:100]"
   ]
  },
  {
   "cell_type": "code",
   "execution_count": 222,
   "metadata": {},
   "outputs": [
    {
     "data": {
      "text/html": [
       "<div>\n",
       "<style scoped>\n",
       "    .dataframe tbody tr th:only-of-type {\n",
       "        vertical-align: middle;\n",
       "    }\n",
       "\n",
       "    .dataframe tbody tr th {\n",
       "        vertical-align: top;\n",
       "    }\n",
       "\n",
       "    .dataframe thead th {\n",
       "        text-align: right;\n",
       "    }\n",
       "</style>\n",
       "<table border=\"1\" class=\"dataframe\">\n",
       "  <thead>\n",
       "    <tr style=\"text-align: right;\">\n",
       "      <th></th>\n",
       "      <th>Ratings</th>\n",
       "      <th>Review Summary</th>\n",
       "      <th>Full Review</th>\n",
       "    </tr>\n",
       "  </thead>\n",
       "  <tbody>\n",
       "    <tr>\n",
       "      <th>0</th>\n",
       "      <td>5</td>\n",
       "      <td>Brilliant</td>\n",
       "      <td>The Best Phone for the Money\\n\\nThe iPhone 11 ...</td>\n",
       "    </tr>\n",
       "    <tr>\n",
       "      <th>1</th>\n",
       "      <td>5</td>\n",
       "      <td>Perfect product!</td>\n",
       "      <td>Amazing phone with great cameras and better ba...</td>\n",
       "    </tr>\n",
       "    <tr>\n",
       "      <th>2</th>\n",
       "      <td>5</td>\n",
       "      <td>Worth every penny</td>\n",
       "      <td>Previously I was using one plus 3t it was a gr...</td>\n",
       "    </tr>\n",
       "    <tr>\n",
       "      <th>3</th>\n",
       "      <td>5</td>\n",
       "      <td>Fabulous!</td>\n",
       "      <td>This is my first iOS phone. I am very happy wi...</td>\n",
       "    </tr>\n",
       "    <tr>\n",
       "      <th>4</th>\n",
       "      <td>5</td>\n",
       "      <td>Simply awesome</td>\n",
       "      <td>Really satisfied with the Product I received.....</td>\n",
       "    </tr>\n",
       "    <tr>\n",
       "      <th>...</th>\n",
       "      <td>...</td>\n",
       "      <td>...</td>\n",
       "      <td>...</td>\n",
       "    </tr>\n",
       "    <tr>\n",
       "      <th>95</th>\n",
       "      <td>5</td>\n",
       "      <td>Great product</td>\n",
       "      <td>Amazing Powerful and Durable Gadget.\\n\\nI’m am...</td>\n",
       "    </tr>\n",
       "    <tr>\n",
       "      <th>96</th>\n",
       "      <td>4</td>\n",
       "      <td>Good choice</td>\n",
       "      <td>So far it’s been an AMAZING experience coming ...</td>\n",
       "    </tr>\n",
       "    <tr>\n",
       "      <th>97</th>\n",
       "      <td>5</td>\n",
       "      <td>Worth every penny</td>\n",
       "      <td>i11 is worthy to buy, too much happy with the ...</td>\n",
       "    </tr>\n",
       "    <tr>\n",
       "      <th>98</th>\n",
       "      <td>5</td>\n",
       "      <td>Highly recommended</td>\n",
       "      <td>iphone 11 is a very good phone to buy only if ...</td>\n",
       "    </tr>\n",
       "    <tr>\n",
       "      <th>99</th>\n",
       "      <td>5</td>\n",
       "      <td>Perfect product!</td>\n",
       "      <td>It’s a must buy who is looking for an upgrade ...</td>\n",
       "    </tr>\n",
       "  </tbody>\n",
       "</table>\n",
       "<p>100 rows × 3 columns</p>\n",
       "</div>"
      ],
      "text/plain": [
       "   Ratings      Review Summary  \\\n",
       "0        5           Brilliant   \n",
       "1        5    Perfect product!   \n",
       "2        5   Worth every penny   \n",
       "3        5           Fabulous!   \n",
       "4        5      Simply awesome   \n",
       "..     ...                 ...   \n",
       "95       5       Great product   \n",
       "96       4         Good choice   \n",
       "97       5   Worth every penny   \n",
       "98       5  Highly recommended   \n",
       "99       5    Perfect product!   \n",
       "\n",
       "                                          Full Review  \n",
       "0   The Best Phone for the Money\\n\\nThe iPhone 11 ...  \n",
       "1   Amazing phone with great cameras and better ba...  \n",
       "2   Previously I was using one plus 3t it was a gr...  \n",
       "3   This is my first iOS phone. I am very happy wi...  \n",
       "4   Really satisfied with the Product I received.....  \n",
       "..                                                ...  \n",
       "95  Amazing Powerful and Durable Gadget.\\n\\nI’m am...  \n",
       "96  So far it’s been an AMAZING experience coming ...  \n",
       "97  i11 is worthy to buy, too much happy with the ...  \n",
       "98  iphone 11 is a very good phone to buy only if ...  \n",
       "99  It’s a must buy who is looking for an upgrade ...  \n",
       "\n",
       "[100 rows x 3 columns]"
      ]
     },
     "execution_count": 222,
     "metadata": {},
     "output_type": "execute_result"
    }
   ],
   "source": [
    "iphone"
   ]
  },
  {
   "cell_type": "code",
   "execution_count": null,
   "metadata": {},
   "outputs": [],
   "source": []
  },
  {
   "cell_type": "code",
   "execution_count": null,
   "metadata": {},
   "outputs": [],
   "source": []
  },
  {
   "cell_type": "markdown",
   "metadata": {},
   "source": [
    "# Q8: Scrape data for first 100 sneakers you find when you visit flipkart.com and \n",
    "search for “sneakers” in the search field.\n",
    "You have to scrape 4 attributes of each sneaker :\n",
    "1. Brand\n",
    "2. Product Description\n",
    "3. Price\n",
    "4. discount %\n",
    "As shown in the below image, you have to scrape the tick marked attributes.\n",
    "Also note that all the steps required during scraping should be done through code \n",
    "only and not manually."
   ]
  },
  {
   "cell_type": "code",
   "execution_count": 223,
   "metadata": {},
   "outputs": [],
   "source": [
    "driver = webdriver.Chrome(r\"C:\\Users\\Rajat Jibhkate\\Downloads\\chromedriver_win32\\chromedriver.exe\")"
   ]
  },
  {
   "cell_type": "code",
   "execution_count": 224,
   "metadata": {},
   "outputs": [],
   "source": [
    "url=\"https://flipkart.com\"\n",
    "driver.get(url)"
   ]
  },
  {
   "cell_type": "code",
   "execution_count": 225,
   "metadata": {},
   "outputs": [
    {
     "data": {
      "text/plain": [
       "<selenium.webdriver.remote.webelement.WebElement (session=\"657b3f0421b44e7d19fc83386b33fc4f\", element=\"103ad6ad-3d98-426f-8a3f-9d3a32dd9f04\")>"
      ]
     },
     "execution_count": 225,
     "metadata": {},
     "output_type": "execute_result"
    }
   ],
   "source": [
    "search_item=driver.find_element_by_xpath(\"//input[@class='_3704LK']\")\n",
    "search_item"
   ]
  },
  {
   "cell_type": "code",
   "execution_count": 226,
   "metadata": {},
   "outputs": [],
   "source": [
    "search_item.send_keys(\"sneakers\")"
   ]
  },
  {
   "cell_type": "code",
   "execution_count": 227,
   "metadata": {},
   "outputs": [],
   "source": [
    "search_btn=driver.find_element_by_xpath(\"//button[@class='L0Z3Pu']\")\n",
    "search_btn.click()"
   ]
  },
  {
   "cell_type": "code",
   "execution_count": 228,
   "metadata": {},
   "outputs": [],
   "source": [
    "brands=[]\n",
    "product_description=[]\n",
    "price=[]\n",
    "discount=[]"
   ]
  },
  {
   "cell_type": "code",
   "execution_count": 229,
   "metadata": {},
   "outputs": [
    {
     "data": {
      "text/plain": [
       "<selenium.webdriver.remote.webelement.WebElement (session=\"657b3f0421b44e7d19fc83386b33fc4f\", element=\"a8a26867-5ea9-4e73-81f4-1e9a5f7d6c84\")>"
      ]
     },
     "execution_count": 229,
     "metadata": {},
     "output_type": "execute_result"
    }
   ],
   "source": [
    "for i in range(1,4):\n",
    "    brand_tags = driver.find_elements_by_xpath(\"//div[@class='_2WkVRV']\")\n",
    "    for i in brand_tags:\n",
    "        brands.append(i.text)\n",
    "    brands  \n",
    "next_button=driver.find_element_by_xpath(\"//a[@class='_1LKTO3']//span\") \n",
    "next_button"
   ]
  },
  {
   "cell_type": "code",
   "execution_count": 230,
   "metadata": {},
   "outputs": [
    {
     "data": {
      "text/plain": [
       "['DUCATI',\n",
       " 'DUCATI',\n",
       " 'Labbin',\n",
       " 'Robbie jones',\n",
       " 'CALCADOS',\n",
       " 'Numenzo',\n",
       " 'KULP',\n",
       " 'French Connection',\n",
       " 'Stefano Rads',\n",
       " 'World Wear Footwear',\n",
       " 'Shoes Bank',\n",
       " 'DUCATI',\n",
       " 'Nilatin',\n",
       " 'PEHANOSA',\n",
       " 'Birde',\n",
       " 'Chevit',\n",
       " 'Chevit',\n",
       " 'Chevit',\n",
       " 'Robbie jones',\n",
       " 'Chevit',\n",
       " 'believe',\n",
       " 'Numenzo',\n",
       " 'Chevit',\n",
       " 'Chevit',\n",
       " 'ESSENCE',\n",
       " 'Chevit',\n",
       " 'bluemaker',\n",
       " 'bluemaker',\n",
       " 'SCATCHITE',\n",
       " 'World Wear Footwear',\n",
       " 'T-ROCK',\n",
       " 'Robbie jones',\n",
       " 'BRUTON',\n",
       " 'WRIZT',\n",
       " 'World Wear Footwear',\n",
       " 'Chevit',\n",
       " 'Robbie jones',\n",
       " 'Robbie jones',\n",
       " 'Kraasa',\n",
       " 'Echor',\n",
       " 'DUCATI',\n",
       " 'DUCATI',\n",
       " 'Labbin',\n",
       " 'Robbie jones',\n",
       " 'CALCADOS',\n",
       " 'Numenzo',\n",
       " 'KULP',\n",
       " 'French Connection',\n",
       " 'Stefano Rads',\n",
       " 'World Wear Footwear',\n",
       " 'Shoes Bank',\n",
       " 'DUCATI',\n",
       " 'Nilatin',\n",
       " 'PEHANOSA',\n",
       " 'Birde',\n",
       " 'Chevit',\n",
       " 'Chevit',\n",
       " 'Chevit',\n",
       " 'Robbie jones',\n",
       " 'Chevit',\n",
       " 'believe',\n",
       " 'Numenzo',\n",
       " 'Chevit',\n",
       " 'Chevit',\n",
       " 'ESSENCE',\n",
       " 'Chevit',\n",
       " 'bluemaker',\n",
       " 'bluemaker',\n",
       " 'SCATCHITE',\n",
       " 'World Wear Footwear',\n",
       " 'T-ROCK',\n",
       " 'Robbie jones',\n",
       " 'BRUTON',\n",
       " 'WRIZT',\n",
       " 'World Wear Footwear',\n",
       " 'Chevit',\n",
       " 'Robbie jones',\n",
       " 'Robbie jones',\n",
       " 'Kraasa',\n",
       " 'Echor',\n",
       " 'DUCATI',\n",
       " 'DUCATI',\n",
       " 'Labbin',\n",
       " 'Robbie jones',\n",
       " 'CALCADOS',\n",
       " 'Numenzo',\n",
       " 'KULP',\n",
       " 'French Connection',\n",
       " 'Stefano Rads',\n",
       " 'World Wear Footwear',\n",
       " 'Shoes Bank',\n",
       " 'DUCATI',\n",
       " 'Nilatin',\n",
       " 'PEHANOSA',\n",
       " 'Birde',\n",
       " 'Chevit',\n",
       " 'Chevit',\n",
       " 'Chevit',\n",
       " 'Robbie jones',\n",
       " 'Chevit',\n",
       " 'believe',\n",
       " 'Numenzo',\n",
       " 'Chevit',\n",
       " 'Chevit',\n",
       " 'ESSENCE',\n",
       " 'Chevit',\n",
       " 'bluemaker',\n",
       " 'bluemaker',\n",
       " 'SCATCHITE',\n",
       " 'World Wear Footwear',\n",
       " 'T-ROCK',\n",
       " 'Robbie jones',\n",
       " 'BRUTON',\n",
       " 'WRIZT',\n",
       " 'World Wear Footwear',\n",
       " 'Chevit',\n",
       " 'Robbie jones',\n",
       " 'Robbie jones',\n",
       " 'Kraasa',\n",
       " 'Echor']"
      ]
     },
     "execution_count": 230,
     "metadata": {},
     "output_type": "execute_result"
    }
   ],
   "source": [
    "brands"
   ]
  },
  {
   "cell_type": "code",
   "execution_count": 231,
   "metadata": {},
   "outputs": [
    {
     "data": {
      "text/plain": [
       "<selenium.webdriver.remote.webelement.WebElement (session=\"657b3f0421b44e7d19fc83386b33fc4f\", element=\"a8a26867-5ea9-4e73-81f4-1e9a5f7d6c84\")>"
      ]
     },
     "execution_count": 231,
     "metadata": {},
     "output_type": "execute_result"
    }
   ],
   "source": [
    "for i in range(1,4):\n",
    "    desc = driver.find_elements_by_xpath(\"//a[@class='IRpwTa']\")\n",
    "    for i in desc:\n",
    "        product_description.append(i.text)\n",
    "    product_description  \n",
    "next_button=driver.find_element_by_xpath(\"//a[@class='_1LKTO3']//span\") \n",
    "next_button"
   ]
  },
  {
   "cell_type": "code",
   "execution_count": 232,
   "metadata": {},
   "outputs": [
    {
     "data": {
      "text/plain": [
       "['Sneakers For Men',\n",
       " 'Sneakers For Men',\n",
       " 'Sneakers For Men',\n",
       " 'Casual Sneakers Shoes For Men Sneakers For Men',\n",
       " 'Sneakers For Men',\n",
       " 'heart beat Sneakers For Men',\n",
       " 'Sneakers For Men',\n",
       " '5011-Latest Collection Stylish Casual Loafer Sneakers S...',\n",
       " \"White Sneaker For Men's/Boy's Sneakers For Men\",\n",
       " 'Sneakers For Men',\n",
       " 'Black Sneaker For Men Sneakers For Men',\n",
       " 'Sneakers For Men',\n",
       " 'Combo Pack of 4 Casual Shoes Sneakers For Men',\n",
       " 'Combo Pack of 4 Casual Sneakers With Sneakers For Men',\n",
       " 'Super 445 Fashion Sneakers For Men',\n",
       " 'Unique & Perfect Collection Combo Pack of 02 Shoes for ...',\n",
       " 'Sneakers For Men',\n",
       " 'Perfect & Affordable Combo Pack of 02 Pairs Sneakers Ou...',\n",
       " 'Sneakers for men(black_6) Sneakers For Men',\n",
       " 'Sneakers For Men',\n",
       " 'Speed Set of 5 Pairs Sneakers Outdoors Casuals for Men ...',\n",
       " \"Super & Trendy Men's Pack of 02 Pair Shoes for Boys Cas...\",\n",
       " 'Casuals Sneakers For Men',\n",
       " 'Super Stylish & Trendy Combo Pack of 02 Pairs Sneakers ...',\n",
       " 'casual for men (blue 06) Sneakers For Men',\n",
       " 'casual for men (blue 08) Sneakers For Men',\n",
       " 'Sneakers Sneakers For Men',\n",
       " 'Latest Collection-1227 Stylish Casual Sports Sneakers F...',\n",
       " 'Synthetic Leather Casual Partywear Wedding Sneakers Sho...',\n",
       " 'Casual Sneakers Shoes For Men Sneakers For Men',\n",
       " 'Combo Pack Of 4 Casual Sneakers For Men',\n",
       " 'Sneakers For Men',\n",
       " 'Speed Set of 5 Pairs Sneakers Outdoors Casuals for Men ...',\n",
       " 'Sneakers For Men',\n",
       " 'Casual Sneakers Green Shoes For Men And Boys Sneakers F...',\n",
       " 'Series 7 Sneakers For Men',\n",
       " 'Trend Sneakers For Men',\n",
       " 'Sneakers For Men',\n",
       " 'Sneakers For Men',\n",
       " 'Sneakers For Men',\n",
       " 'Casual Sneakers Shoes For Men Sneakers For Men',\n",
       " 'Sneakers For Men',\n",
       " 'heart beat Sneakers For Men',\n",
       " 'Sneakers For Men',\n",
       " '5011-Latest Collection Stylish Casual Loafer Sneakers S...',\n",
       " \"White Sneaker For Men's/Boy's Sneakers For Men\",\n",
       " 'Sneakers For Men',\n",
       " 'Black Sneaker For Men Sneakers For Men',\n",
       " 'Sneakers For Men',\n",
       " 'Combo Pack of 4 Casual Shoes Sneakers For Men',\n",
       " 'Combo Pack of 4 Casual Sneakers With Sneakers For Men',\n",
       " 'Super 445 Fashion Sneakers For Men',\n",
       " 'Unique & Perfect Collection Combo Pack of 02 Shoes for ...',\n",
       " 'Sneakers For Men',\n",
       " 'Perfect & Affordable Combo Pack of 02 Pairs Sneakers Ou...',\n",
       " 'Sneakers for men(black_6) Sneakers For Men',\n",
       " 'Sneakers For Men',\n",
       " 'Speed Set of 5 Pairs Sneakers Outdoors Casuals for Men ...',\n",
       " \"Super & Trendy Men's Pack of 02 Pair Shoes for Boys Cas...\",\n",
       " 'Casuals Sneakers For Men',\n",
       " 'Super Stylish & Trendy Combo Pack of 02 Pairs Sneakers ...',\n",
       " 'casual for men (blue 06) Sneakers For Men',\n",
       " 'casual for men (blue 08) Sneakers For Men',\n",
       " 'Sneakers Sneakers For Men',\n",
       " 'Latest Collection-1227 Stylish Casual Sports Sneakers F...',\n",
       " 'Synthetic Leather Casual Partywear Wedding Sneakers Sho...',\n",
       " 'Casual Sneakers Shoes For Men Sneakers For Men',\n",
       " 'Combo Pack Of 4 Casual Sneakers For Men',\n",
       " 'Sneakers For Men',\n",
       " 'Speed Set of 5 Pairs Sneakers Outdoors Casuals for Men ...',\n",
       " 'Sneakers For Men',\n",
       " 'Casual Sneakers Green Shoes For Men And Boys Sneakers F...',\n",
       " 'Series 7 Sneakers For Men',\n",
       " 'Trend Sneakers For Men',\n",
       " 'Sneakers For Men',\n",
       " 'Sneakers For Men',\n",
       " 'Sneakers For Men',\n",
       " 'Casual Sneakers Shoes For Men Sneakers For Men',\n",
       " 'Sneakers For Men',\n",
       " 'heart beat Sneakers For Men',\n",
       " 'Sneakers For Men',\n",
       " '5011-Latest Collection Stylish Casual Loafer Sneakers S...',\n",
       " \"White Sneaker For Men's/Boy's Sneakers For Men\",\n",
       " 'Sneakers For Men',\n",
       " 'Black Sneaker For Men Sneakers For Men',\n",
       " 'Sneakers For Men',\n",
       " 'Combo Pack of 4 Casual Shoes Sneakers For Men',\n",
       " 'Combo Pack of 4 Casual Sneakers With Sneakers For Men',\n",
       " 'Super 445 Fashion Sneakers For Men',\n",
       " 'Unique & Perfect Collection Combo Pack of 02 Shoes for ...',\n",
       " 'Sneakers For Men',\n",
       " 'Perfect & Affordable Combo Pack of 02 Pairs Sneakers Ou...',\n",
       " 'Sneakers for men(black_6) Sneakers For Men',\n",
       " 'Sneakers For Men',\n",
       " 'Speed Set of 5 Pairs Sneakers Outdoors Casuals for Men ...',\n",
       " \"Super & Trendy Men's Pack of 02 Pair Shoes for Boys Cas...\",\n",
       " 'Casuals Sneakers For Men',\n",
       " 'Super Stylish & Trendy Combo Pack of 02 Pairs Sneakers ...',\n",
       " 'casual for men (blue 06) Sneakers For Men',\n",
       " 'casual for men (blue 08) Sneakers For Men',\n",
       " 'Sneakers Sneakers For Men',\n",
       " 'Latest Collection-1227 Stylish Casual Sports Sneakers F...',\n",
       " 'Synthetic Leather Casual Partywear Wedding Sneakers Sho...',\n",
       " 'Casual Sneakers Shoes For Men Sneakers For Men',\n",
       " 'Combo Pack Of 4 Casual Sneakers For Men',\n",
       " 'Sneakers For Men',\n",
       " 'Speed Set of 5 Pairs Sneakers Outdoors Casuals for Men ...',\n",
       " 'Sneakers For Men',\n",
       " 'Casual Sneakers Green Shoes For Men And Boys Sneakers F...',\n",
       " 'Series 7 Sneakers For Men',\n",
       " 'Trend Sneakers For Men']"
      ]
     },
     "execution_count": 232,
     "metadata": {},
     "output_type": "execute_result"
    }
   ],
   "source": [
    "product_description"
   ]
  },
  {
   "cell_type": "code",
   "execution_count": 233,
   "metadata": {},
   "outputs": [
    {
     "data": {
      "text/plain": [
       "<selenium.webdriver.remote.webelement.WebElement (session=\"657b3f0421b44e7d19fc83386b33fc4f\", element=\"a8a26867-5ea9-4e73-81f4-1e9a5f7d6c84\")>"
      ]
     },
     "execution_count": 233,
     "metadata": {},
     "output_type": "execute_result"
    }
   ],
   "source": [
    "for i in range(1,4):\n",
    "    price_tag = driver.find_elements_by_xpath(\"//div[@class='_30jeq3']\")\n",
    "    for i in price_tag:\n",
    "        price.append(i.text)\n",
    "    price  \n",
    "next_button=driver.find_element_by_xpath(\"//a[@class='_1LKTO3']//span\") \n",
    "next_button"
   ]
  },
  {
   "cell_type": "code",
   "execution_count": 234,
   "metadata": {},
   "outputs": [
    {
     "data": {
      "text/plain": [
       "['₹1,403',\n",
       " '₹1,445',\n",
       " '₹499',\n",
       " '₹379',\n",
       " '₹748',\n",
       " '₹378',\n",
       " '₹399',\n",
       " '₹1,371',\n",
       " '₹242',\n",
       " '₹273',\n",
       " '₹349',\n",
       " '₹1,745',\n",
       " '₹449',\n",
       " '₹495',\n",
       " '₹698',\n",
       " '₹474',\n",
       " '₹389',\n",
       " '₹470',\n",
       " '₹474',\n",
       " '₹499',\n",
       " '₹449',\n",
       " '₹449',\n",
       " '₹756',\n",
       " '₹470',\n",
       " '₹399',\n",
       " '₹599',\n",
       " '₹449',\n",
       " '₹449',\n",
       " '₹398',\n",
       " '₹240',\n",
       " '₹378',\n",
       " '₹399',\n",
       " '₹474',\n",
       " '₹279',\n",
       " '₹240',\n",
       " '₹759',\n",
       " '₹449',\n",
       " '₹499',\n",
       " '₹499',\n",
       " '₹599',\n",
       " '₹1,403',\n",
       " '₹1,445',\n",
       " '₹499',\n",
       " '₹379',\n",
       " '₹748',\n",
       " '₹378',\n",
       " '₹399',\n",
       " '₹1,371',\n",
       " '₹242',\n",
       " '₹273',\n",
       " '₹349',\n",
       " '₹1,745',\n",
       " '₹449',\n",
       " '₹495',\n",
       " '₹698',\n",
       " '₹474',\n",
       " '₹389',\n",
       " '₹470',\n",
       " '₹474',\n",
       " '₹499',\n",
       " '₹449',\n",
       " '₹449',\n",
       " '₹756',\n",
       " '₹470',\n",
       " '₹399',\n",
       " '₹599',\n",
       " '₹449',\n",
       " '₹449',\n",
       " '₹398',\n",
       " '₹240',\n",
       " '₹378',\n",
       " '₹399',\n",
       " '₹474',\n",
       " '₹279',\n",
       " '₹240',\n",
       " '₹759',\n",
       " '₹449',\n",
       " '₹499',\n",
       " '₹499',\n",
       " '₹599',\n",
       " '₹1,403',\n",
       " '₹1,445',\n",
       " '₹499',\n",
       " '₹379',\n",
       " '₹748',\n",
       " '₹378',\n",
       " '₹399',\n",
       " '₹1,371',\n",
       " '₹242',\n",
       " '₹273',\n",
       " '₹349',\n",
       " '₹1,745',\n",
       " '₹449',\n",
       " '₹495',\n",
       " '₹698',\n",
       " '₹474',\n",
       " '₹389',\n",
       " '₹470',\n",
       " '₹474',\n",
       " '₹499',\n",
       " '₹449',\n",
       " '₹449',\n",
       " '₹756',\n",
       " '₹470',\n",
       " '₹399',\n",
       " '₹599',\n",
       " '₹449',\n",
       " '₹449',\n",
       " '₹398',\n",
       " '₹240',\n",
       " '₹378',\n",
       " '₹399',\n",
       " '₹474',\n",
       " '₹279',\n",
       " '₹240',\n",
       " '₹759',\n",
       " '₹449',\n",
       " '₹499',\n",
       " '₹499',\n",
       " '₹599']"
      ]
     },
     "execution_count": 234,
     "metadata": {},
     "output_type": "execute_result"
    }
   ],
   "source": [
    "price"
   ]
  },
  {
   "cell_type": "code",
   "execution_count": 235,
   "metadata": {},
   "outputs": [
    {
     "data": {
      "text/plain": [
       "<selenium.webdriver.remote.webelement.WebElement (session=\"657b3f0421b44e7d19fc83386b33fc4f\", element=\"a8a26867-5ea9-4e73-81f4-1e9a5f7d6c84\")>"
      ]
     },
     "execution_count": 235,
     "metadata": {},
     "output_type": "execute_result"
    }
   ],
   "source": [
    "for i in range(1,4):\n",
    "    discount_tag = driver.find_elements_by_xpath(\"//div[@class='_3Ay6Sb']//span\")\n",
    "    for i in discount_tag:\n",
    "        discount.append(i.text)\n",
    "    discount  \n",
    "next_button=driver.find_element_by_xpath(\"//a[@class='_1LKTO3']//span\") \n",
    "next_button"
   ]
  },
  {
   "cell_type": "code",
   "execution_count": 236,
   "metadata": {},
   "outputs": [
    {
     "data": {
      "text/plain": [
       "['62% off',\n",
       " '60% off',\n",
       " '50% off',\n",
       " '62% off',\n",
       " '62% off',\n",
       " '62% off',\n",
       " '60% off',\n",
       " '62% off',\n",
       " '65% off',\n",
       " '45% off',\n",
       " '65% off',\n",
       " '51% off',\n",
       " '65% off',\n",
       " '50% off',\n",
       " '65% off',\n",
       " '76% off',\n",
       " '22% off',\n",
       " '68% off',\n",
       " '52% off',\n",
       " '72% off',\n",
       " '55% off',\n",
       " '77% off',\n",
       " '69% off',\n",
       " '76% off',\n",
       " '60% off',\n",
       " '62% off',\n",
       " '55% off',\n",
       " '55% off',\n",
       " '60% off',\n",
       " '51% off',\n",
       " '62% off',\n",
       " '60% off',\n",
       " '88% off',\n",
       " '72% off',\n",
       " '51% off',\n",
       " '69% off',\n",
       " '55% off',\n",
       " '50% off',\n",
       " '50% off',\n",
       " '40% off',\n",
       " '62% off',\n",
       " '60% off',\n",
       " '50% off',\n",
       " '62% off',\n",
       " '62% off',\n",
       " '62% off',\n",
       " '60% off',\n",
       " '62% off',\n",
       " '65% off',\n",
       " '45% off',\n",
       " '65% off',\n",
       " '51% off',\n",
       " '65% off',\n",
       " '50% off',\n",
       " '65% off',\n",
       " '76% off',\n",
       " '22% off',\n",
       " '68% off',\n",
       " '52% off',\n",
       " '72% off',\n",
       " '55% off',\n",
       " '77% off',\n",
       " '69% off',\n",
       " '76% off',\n",
       " '60% off',\n",
       " '62% off',\n",
       " '55% off',\n",
       " '55% off',\n",
       " '60% off',\n",
       " '51% off',\n",
       " '62% off',\n",
       " '60% off',\n",
       " '88% off',\n",
       " '72% off',\n",
       " '51% off',\n",
       " '69% off',\n",
       " '55% off',\n",
       " '50% off',\n",
       " '50% off',\n",
       " '40% off',\n",
       " '62% off',\n",
       " '60% off',\n",
       " '50% off',\n",
       " '62% off',\n",
       " '62% off',\n",
       " '62% off',\n",
       " '60% off',\n",
       " '62% off',\n",
       " '65% off',\n",
       " '45% off',\n",
       " '65% off',\n",
       " '51% off',\n",
       " '65% off',\n",
       " '50% off',\n",
       " '65% off',\n",
       " '76% off',\n",
       " '22% off',\n",
       " '68% off',\n",
       " '52% off',\n",
       " '72% off',\n",
       " '55% off',\n",
       " '77% off',\n",
       " '69% off',\n",
       " '76% off',\n",
       " '60% off',\n",
       " '62% off',\n",
       " '55% off',\n",
       " '55% off',\n",
       " '60% off',\n",
       " '51% off',\n",
       " '62% off',\n",
       " '60% off',\n",
       " '88% off',\n",
       " '72% off',\n",
       " '51% off',\n",
       " '69% off',\n",
       " '55% off',\n",
       " '50% off',\n",
       " '50% off',\n",
       " '40% off']"
      ]
     },
     "execution_count": 236,
     "metadata": {},
     "output_type": "execute_result"
    }
   ],
   "source": [
    "discount"
   ]
  },
  {
   "cell_type": "code",
   "execution_count": 237,
   "metadata": {},
   "outputs": [
    {
     "name": "stdout",
     "output_type": "stream",
     "text": [
      "120 111 120 120\n"
     ]
    }
   ],
   "source": [
    "print(len(brands),len(product_description),len(price),len(discount))"
   ]
  },
  {
   "cell_type": "code",
   "execution_count": 238,
   "metadata": {},
   "outputs": [],
   "source": [
    "sneakers=pd.DataFrame({})\n",
    "sneakers['Brands']=brands[:100]\n",
    "sneakers['Product Description']=product_description[:100]\n",
    "sneakers['Price']=price[:100]\n",
    "sneakers['Discount']=discount[:100]"
   ]
  },
  {
   "cell_type": "code",
   "execution_count": 239,
   "metadata": {},
   "outputs": [
    {
     "data": {
      "text/html": [
       "<div>\n",
       "<style scoped>\n",
       "    .dataframe tbody tr th:only-of-type {\n",
       "        vertical-align: middle;\n",
       "    }\n",
       "\n",
       "    .dataframe tbody tr th {\n",
       "        vertical-align: top;\n",
       "    }\n",
       "\n",
       "    .dataframe thead th {\n",
       "        text-align: right;\n",
       "    }\n",
       "</style>\n",
       "<table border=\"1\" class=\"dataframe\">\n",
       "  <thead>\n",
       "    <tr style=\"text-align: right;\">\n",
       "      <th></th>\n",
       "      <th>Brands</th>\n",
       "      <th>Product Description</th>\n",
       "      <th>Price</th>\n",
       "      <th>Discount</th>\n",
       "    </tr>\n",
       "  </thead>\n",
       "  <tbody>\n",
       "    <tr>\n",
       "      <th>0</th>\n",
       "      <td>DUCATI</td>\n",
       "      <td>Sneakers For Men</td>\n",
       "      <td>₹1,403</td>\n",
       "      <td>62% off</td>\n",
       "    </tr>\n",
       "    <tr>\n",
       "      <th>1</th>\n",
       "      <td>DUCATI</td>\n",
       "      <td>Sneakers For Men</td>\n",
       "      <td>₹1,445</td>\n",
       "      <td>60% off</td>\n",
       "    </tr>\n",
       "    <tr>\n",
       "      <th>2</th>\n",
       "      <td>Labbin</td>\n",
       "      <td>Sneakers For Men</td>\n",
       "      <td>₹499</td>\n",
       "      <td>50% off</td>\n",
       "    </tr>\n",
       "    <tr>\n",
       "      <th>3</th>\n",
       "      <td>Robbie jones</td>\n",
       "      <td>Casual Sneakers Shoes For Men Sneakers For Men</td>\n",
       "      <td>₹379</td>\n",
       "      <td>62% off</td>\n",
       "    </tr>\n",
       "    <tr>\n",
       "      <th>4</th>\n",
       "      <td>CALCADOS</td>\n",
       "      <td>Sneakers For Men</td>\n",
       "      <td>₹748</td>\n",
       "      <td>62% off</td>\n",
       "    </tr>\n",
       "    <tr>\n",
       "      <th>...</th>\n",
       "      <td>...</td>\n",
       "      <td>...</td>\n",
       "      <td>...</td>\n",
       "      <td>...</td>\n",
       "    </tr>\n",
       "    <tr>\n",
       "      <th>95</th>\n",
       "      <td>Chevit</td>\n",
       "      <td>Super &amp; Trendy Men's Pack of 02 Pair Shoes for...</td>\n",
       "      <td>₹474</td>\n",
       "      <td>76% off</td>\n",
       "    </tr>\n",
       "    <tr>\n",
       "      <th>96</th>\n",
       "      <td>Chevit</td>\n",
       "      <td>Casuals Sneakers For Men</td>\n",
       "      <td>₹389</td>\n",
       "      <td>22% off</td>\n",
       "    </tr>\n",
       "    <tr>\n",
       "      <th>97</th>\n",
       "      <td>Chevit</td>\n",
       "      <td>Super Stylish &amp; Trendy Combo Pack of 02 Pairs ...</td>\n",
       "      <td>₹470</td>\n",
       "      <td>68% off</td>\n",
       "    </tr>\n",
       "    <tr>\n",
       "      <th>98</th>\n",
       "      <td>Robbie jones</td>\n",
       "      <td>casual for men (blue 06) Sneakers For Men</td>\n",
       "      <td>₹474</td>\n",
       "      <td>52% off</td>\n",
       "    </tr>\n",
       "    <tr>\n",
       "      <th>99</th>\n",
       "      <td>Chevit</td>\n",
       "      <td>casual for men (blue 08) Sneakers For Men</td>\n",
       "      <td>₹499</td>\n",
       "      <td>72% off</td>\n",
       "    </tr>\n",
       "  </tbody>\n",
       "</table>\n",
       "<p>100 rows × 4 columns</p>\n",
       "</div>"
      ],
      "text/plain": [
       "          Brands                                Product Description   Price  \\\n",
       "0         DUCATI                                   Sneakers For Men  ₹1,403   \n",
       "1         DUCATI                                   Sneakers For Men  ₹1,445   \n",
       "2         Labbin                                   Sneakers For Men    ₹499   \n",
       "3   Robbie jones     Casual Sneakers Shoes For Men Sneakers For Men    ₹379   \n",
       "4       CALCADOS                                   Sneakers For Men    ₹748   \n",
       "..           ...                                                ...     ...   \n",
       "95        Chevit  Super & Trendy Men's Pack of 02 Pair Shoes for...    ₹474   \n",
       "96        Chevit                           Casuals Sneakers For Men    ₹389   \n",
       "97        Chevit  Super Stylish & Trendy Combo Pack of 02 Pairs ...    ₹470   \n",
       "98  Robbie jones          casual for men (blue 06) Sneakers For Men    ₹474   \n",
       "99        Chevit          casual for men (blue 08) Sneakers For Men    ₹499   \n",
       "\n",
       "   Discount  \n",
       "0   62% off  \n",
       "1   60% off  \n",
       "2   50% off  \n",
       "3   62% off  \n",
       "4   62% off  \n",
       "..      ...  \n",
       "95  76% off  \n",
       "96  22% off  \n",
       "97  68% off  \n",
       "98  52% off  \n",
       "99  72% off  \n",
       "\n",
       "[100 rows x 4 columns]"
      ]
     },
     "execution_count": 239,
     "metadata": {},
     "output_type": "execute_result"
    }
   ],
   "source": [
    "sneakers"
   ]
  },
  {
   "cell_type": "code",
   "execution_count": null,
   "metadata": {},
   "outputs": [],
   "source": []
  },
  {
   "cell_type": "code",
   "execution_count": null,
   "metadata": {},
   "outputs": [],
   "source": []
  },
  {
   "cell_type": "markdown",
   "metadata": {},
   "source": [
    "# Q9: Go to the link - https://www.myntra.com/shoes\n",
    "Set Price filter to “Rs. 6649 to Rs. 13099” , Color filter to “Black”, as shown in \n",
    "the below image\n",
    "And then scrape First 100 shoes data you get. The data should include “Brand” of \n",
    "the shoes , Short Shoe description, price of the shoe as shown in the below image.\n",
    "Please note that applying the filter and scraping the data , everything should be \n",
    "done through code only and there should not be any manual step."
   ]
  },
  {
   "cell_type": "code",
   "execution_count": 240,
   "metadata": {},
   "outputs": [],
   "source": [
    "driver = webdriver.Chrome(r\"C:\\Users\\Rajat Jibhkate\\Downloads\\chromedriver_win32\\chromedriver.exe\")"
   ]
  },
  {
   "cell_type": "code",
   "execution_count": 241,
   "metadata": {},
   "outputs": [],
   "source": [
    "url=\"https://www.myntra.com/shoes\"\n",
    "driver.get(url)"
   ]
  },
  {
   "cell_type": "code",
   "execution_count": 242,
   "metadata": {},
   "outputs": [],
   "source": [
    "filter_button = driver.find_elements_by_xpath(\"//label[@class='common-customCheckbox']\")\n",
    "for i in filter_button:\n",
    "    if i.text=='Black':\n",
    "        i.click()\n",
    "        break"
   ]
  },
  {
   "cell_type": "code",
   "execution_count": null,
   "metadata": {},
   "outputs": [],
   "source": [
    "filter_button = driver.find_elements_by_xpath(\"//label[@class='common-customCheckbox vertical-filters-label']//input\")\n",
    "for i in filter_button:\n",
    "    if i.text=='6687 to Rs. 13125':\n",
    "        i.click()\n",
    "        break"
   ]
  },
  {
   "cell_type": "code",
   "execution_count": 243,
   "metadata": {},
   "outputs": [],
   "source": [
    "shoe_brand=[]\n",
    "short_shoe_description=[]\n",
    "price=[]"
   ]
  },
  {
   "cell_type": "code",
   "execution_count": 244,
   "metadata": {},
   "outputs": [
    {
     "data": {
      "text/plain": [
       "<selenium.webdriver.remote.webelement.WebElement (session=\"1e304411905249fe112d730920efd9ac\", element=\"89374bd4-22bd-4ce9-8c01-11e89caad6bf\")>"
      ]
     },
     "execution_count": 244,
     "metadata": {},
     "output_type": "execute_result"
    }
   ],
   "source": [
    "for i in range(1,3):\n",
    "    brand = driver.find_elements_by_xpath(\"//h3[@class='product-brand']\")\n",
    "    for i in brand:\n",
    "        shoe_brand.append(i.text)\n",
    "    shoe_brand  \n",
    "next_button=driver.find_element_by_xpath(\"//li[@class='pagination-next']//a\") \n",
    "next_button"
   ]
  },
  {
   "cell_type": "code",
   "execution_count": 245,
   "metadata": {},
   "outputs": [
    {
     "data": {
      "text/plain": [
       "['Nike',\n",
       " 'Nike',\n",
       " 'Nike',\n",
       " 'ALDO',\n",
       " 'Nike',\n",
       " 'Nike',\n",
       " 'UNDER ARMOUR',\n",
       " 'Nike',\n",
       " 'Hush Puppies',\n",
       " 'UNDER ARMOUR',\n",
       " 'Puma',\n",
       " 'Skechers',\n",
       " 'UNDER ARMOUR',\n",
       " 'UNDER ARMOUR',\n",
       " 'Skechers',\n",
       " 'Hush Puppies',\n",
       " 'Hush Puppies',\n",
       " 'Nike',\n",
       " 'PUMA Hoops',\n",
       " 'Puma',\n",
       " 'Hush Puppies',\n",
       " 'UNDER ARMOUR',\n",
       " 'ASICS',\n",
       " 'Puma',\n",
       " 'Ruosh',\n",
       " 'Hush Puppies',\n",
       " 'Hush Puppies',\n",
       " 'FORCLAZ By Decathlon',\n",
       " 'Geox',\n",
       " 'Vans',\n",
       " 'Puma',\n",
       " 'Puma',\n",
       " 'Hush Puppies',\n",
       " 'Puma',\n",
       " 'Kalenji By Decathlon',\n",
       " 'UNDER ARMOUR',\n",
       " 'Ruosh',\n",
       " 'Bugatti',\n",
       " 'Hush Puppies',\n",
       " 'Hush Puppies',\n",
       " 'Hush Puppies',\n",
       " 'ASICS',\n",
       " 'J.FONTINI',\n",
       " 'Puma',\n",
       " 'Bugatti',\n",
       " 'Geox',\n",
       " 'KIPRUN By Decathlon',\n",
       " 'Levis',\n",
       " 'J.FONTINI',\n",
       " 'Geox',\n",
       " 'Nike',\n",
       " 'Nike',\n",
       " 'Nike',\n",
       " 'ALDO',\n",
       " 'Nike',\n",
       " 'Nike',\n",
       " 'UNDER ARMOUR',\n",
       " 'Nike',\n",
       " 'Hush Puppies',\n",
       " 'UNDER ARMOUR',\n",
       " 'Puma',\n",
       " 'Skechers',\n",
       " 'UNDER ARMOUR',\n",
       " 'UNDER ARMOUR',\n",
       " 'Skechers',\n",
       " 'Hush Puppies',\n",
       " 'Hush Puppies',\n",
       " 'Nike',\n",
       " 'PUMA Hoops',\n",
       " 'Puma',\n",
       " 'Hush Puppies',\n",
       " 'UNDER ARMOUR',\n",
       " 'ASICS',\n",
       " 'Puma',\n",
       " 'Ruosh',\n",
       " 'Hush Puppies',\n",
       " 'Hush Puppies',\n",
       " 'FORCLAZ By Decathlon',\n",
       " 'Geox',\n",
       " 'Vans',\n",
       " 'Puma',\n",
       " 'Puma',\n",
       " 'Hush Puppies',\n",
       " 'Puma',\n",
       " 'Kalenji By Decathlon',\n",
       " 'UNDER ARMOUR',\n",
       " 'Ruosh',\n",
       " 'Bugatti',\n",
       " 'Hush Puppies',\n",
       " 'Hush Puppies',\n",
       " 'Hush Puppies',\n",
       " 'ASICS',\n",
       " 'J.FONTINI',\n",
       " 'Puma',\n",
       " 'Bugatti',\n",
       " 'Geox',\n",
       " 'KIPRUN By Decathlon',\n",
       " 'Levis',\n",
       " 'J.FONTINI',\n",
       " 'Geox']"
      ]
     },
     "execution_count": 245,
     "metadata": {},
     "output_type": "execute_result"
    }
   ],
   "source": [
    "shoe_brand"
   ]
  },
  {
   "cell_type": "code",
   "execution_count": 246,
   "metadata": {},
   "outputs": [
    {
     "data": {
      "text/plain": [
       "<selenium.webdriver.remote.webelement.WebElement (session=\"1e304411905249fe112d730920efd9ac\", element=\"89374bd4-22bd-4ce9-8c01-11e89caad6bf\")>"
      ]
     },
     "execution_count": 246,
     "metadata": {},
     "output_type": "execute_result"
    }
   ],
   "source": [
    "for i in range(1,3):\n",
    "    desc = driver.find_elements_by_xpath(\"//h4[@class='product-product']\")\n",
    "    for i in desc:\n",
    "        short_shoe_description.append(i.text)\n",
    "    short_shoe_description  \n",
    "next_button=driver.find_element_by_xpath(\"//li[@class='pagination-next']//a\") \n",
    "next_button"
   ]
  },
  {
   "cell_type": "code",
   "execution_count": 247,
   "metadata": {},
   "outputs": [
    {
     "data": {
      "text/plain": [
       "['Men AIR ZOOM Running Shoes',\n",
       " 'LEBRON XVIII Basketball Shoes',\n",
       " 'Men JORDAN WHY NOT Basketball',\n",
       " 'Men Sneakers',\n",
       " 'Unisex LEBRON XVIII Basketball',\n",
       " 'Women FREE RN 5.0 Shoes',\n",
       " 'Women Liquify Rebel Running',\n",
       " 'Men CHALLENGER OG Sneakers',\n",
       " 'Men Leather Slip-On Sneakers',\n",
       " 'HOVR Sonic 3 Running Shoes',\n",
       " 'Men Liberate Nitro Running',\n",
       " 'Women AIR ELEMENT 2 Sneakers',\n",
       " 'Women TriBase Reign 2 Training',\n",
       " 'HOVR Sonic 3 Running Shoes',\n",
       " 'Men Flex Advantage 4.0Upstream',\n",
       " 'Men Colourblocked Driving Shoes',\n",
       " 'Men Leather Slip-On Shoes',\n",
       " 'Women Air Max Siren Sneakers',\n",
       " 'Unisex Clyde Basketball Shoes',\n",
       " 'Men FUTURE Z 3.1Football Shoes',\n",
       " 'Men Solid Leather Formal Slip-Ons',\n",
       " 'Women HOVR Rise 2 Training',\n",
       " 'Women Running Shoes',\n",
       " 'Women Eternity Nitro Running',\n",
       " 'Men Solid Leather Formal Slip-Ons',\n",
       " 'Men Leather Slip-On Sneakers',\n",
       " 'Men Solid Leather Formal Slip-Ons',\n",
       " 'TREKKING 100 Boots',\n",
       " 'Men Leather Formal Derbys',\n",
       " 'Men Striped Sneakers',\n",
       " 'Women Deviate Nitro Running',\n",
       " 'Men FUTURE Z 3.1 TT Football',\n",
       " 'Men Leather Derbys',\n",
       " 'Women Liberate Nitro Running',\n",
       " 'Men KD500 Running Shoe',\n",
       " 'GS SC 3Zero IV Basketball',\n",
       " 'Men Textured Leather Monks',\n",
       " 'Men Slip-On Sneakers',\n",
       " 'Men Solid Leather Formal Derbys',\n",
       " 'Men Solid Leather Formal Slip-Ons',\n",
       " 'Men Formal Derbys',\n",
       " 'Men Running Shoes',\n",
       " 'Men Textured Leather Loafers',\n",
       " 'Men 365 Evoknit Ignite Ct Football',\n",
       " 'Men Perforated Mule Sneakers',\n",
       " 'Men Leather Driving Shoes',\n",
       " 'Women Running Shoes',\n",
       " 'Men Solid Sneakers',\n",
       " 'Men Textured Leather Loafers',\n",
       " 'Men Leather Formal Derbyacs',\n",
       " 'Men AIR ZOOM Running Shoes',\n",
       " 'LEBRON XVIII Basketball Shoes',\n",
       " 'Men JORDAN WHY NOT Basketball',\n",
       " 'Men Sneakers',\n",
       " 'Unisex LEBRON XVIII Basketball',\n",
       " 'Women FREE RN 5.0 Shoes',\n",
       " 'Women Liquify Rebel Running',\n",
       " 'Men CHALLENGER OG Sneakers',\n",
       " 'Men Leather Slip-On Sneakers',\n",
       " 'HOVR Sonic 3 Running Shoes',\n",
       " 'Men Liberate Nitro Running',\n",
       " 'Women AIR ELEMENT 2 Sneakers',\n",
       " 'Women TriBase Reign 2 Training',\n",
       " 'HOVR Sonic 3 Running Shoes',\n",
       " 'Men Flex Advantage 4.0Upstream',\n",
       " 'Men Colourblocked Driving Shoes',\n",
       " 'Men Leather Slip-On Shoes',\n",
       " 'Women Air Max Siren Sneakers',\n",
       " 'Unisex Clyde Basketball Shoes',\n",
       " 'Men FUTURE Z 3.1Football Shoes',\n",
       " 'Men Solid Leather Formal Slip-Ons',\n",
       " 'Women HOVR Rise 2 Training',\n",
       " 'Women Running Shoes',\n",
       " 'Women Eternity Nitro Running',\n",
       " 'Men Solid Leather Formal Slip-Ons',\n",
       " 'Men Leather Slip-On Sneakers',\n",
       " 'Men Solid Leather Formal Slip-Ons',\n",
       " 'TREKKING 100 Boots',\n",
       " 'Men Leather Formal Derbys',\n",
       " 'Men Striped Sneakers',\n",
       " 'Women Deviate Nitro Running',\n",
       " 'Men FUTURE Z 3.1 TT Football',\n",
       " 'Men Leather Derbys',\n",
       " 'Women Liberate Nitro Running',\n",
       " 'Men KD500 Running Shoe',\n",
       " 'GS SC 3Zero IV Basketball',\n",
       " 'Men Textured Leather Monks',\n",
       " 'Men Slip-On Sneakers',\n",
       " 'Men Solid Leather Formal Derbys',\n",
       " 'Men Solid Leather Formal Slip-Ons',\n",
       " 'Men Formal Derbys',\n",
       " 'Men Running Shoes',\n",
       " 'Men Textured Leather Loafers',\n",
       " 'Men 365 Evoknit Ignite Ct Football',\n",
       " 'Men Perforated Mule Sneakers',\n",
       " 'Men Leather Driving Shoes',\n",
       " 'Women Running Shoes',\n",
       " 'Men Solid Sneakers',\n",
       " 'Men Textured Leather Loafers',\n",
       " 'Men Leather Formal Derbyacs']"
      ]
     },
     "execution_count": 247,
     "metadata": {},
     "output_type": "execute_result"
    }
   ],
   "source": [
    "short_shoe_description"
   ]
  },
  {
   "cell_type": "code",
   "execution_count": 248,
   "metadata": {},
   "outputs": [
    {
     "data": {
      "text/plain": [
       "<selenium.webdriver.remote.webelement.WebElement (session=\"1e304411905249fe112d730920efd9ac\", element=\"89374bd4-22bd-4ce9-8c01-11e89caad6bf\")>"
      ]
     },
     "execution_count": 248,
     "metadata": {},
     "output_type": "execute_result"
    }
   ],
   "source": [
    "for i in range(1,6):\n",
    "    price_tags = driver.find_elements_by_xpath(\"//span[@class='product-discountedPrice']\")\n",
    "    for i in price_tags:\n",
    "        price.append(i.text)\n",
    "    price  \n",
    "next_button=driver.find_element_by_xpath(\"//li[@class='pagination-next']//a\") \n",
    "next_button"
   ]
  },
  {
   "cell_type": "code",
   "execution_count": 249,
   "metadata": {},
   "outputs": [
    {
     "data": {
      "text/plain": [
       "['Rs. 8236',\n",
       " 'Rs. 12316',\n",
       " 'Rs. 8046',\n",
       " 'Rs. 12316',\n",
       " 'Rs. 7195',\n",
       " 'Rs. 7375',\n",
       " 'Rs. 7499',\n",
       " 'Rs. 7375',\n",
       " 'Rs. 8249',\n",
       " 'Rs. 7199',\n",
       " 'Rs. 9659',\n",
       " 'Rs. 9749',\n",
       " 'Rs. 7349',\n",
       " 'Rs. 6999',\n",
       " 'Rs. 11999',\n",
       " 'Rs. 6749',\n",
       " 'Rs. 7499',\n",
       " 'Rs. 7857',\n",
       " 'Rs. 6899',\n",
       " 'Rs. 7499',\n",
       " 'Rs. 7006',\n",
       " 'Rs. 7495',\n",
       " 'Rs. 8236',\n",
       " 'Rs. 12316',\n",
       " 'Rs. 8046',\n",
       " 'Rs. 12316',\n",
       " 'Rs. 7195',\n",
       " 'Rs. 7375',\n",
       " 'Rs. 7499',\n",
       " 'Rs. 7375',\n",
       " 'Rs. 8249',\n",
       " 'Rs. 7199',\n",
       " 'Rs. 9659',\n",
       " 'Rs. 9749',\n",
       " 'Rs. 7349',\n",
       " 'Rs. 6999',\n",
       " 'Rs. 11999',\n",
       " 'Rs. 6749',\n",
       " 'Rs. 7499',\n",
       " 'Rs. 7857',\n",
       " 'Rs. 6899',\n",
       " 'Rs. 7499',\n",
       " 'Rs. 7006',\n",
       " 'Rs. 7495',\n",
       " 'Rs. 8236',\n",
       " 'Rs. 12316',\n",
       " 'Rs. 8046',\n",
       " 'Rs. 12316',\n",
       " 'Rs. 7195',\n",
       " 'Rs. 7375',\n",
       " 'Rs. 7499',\n",
       " 'Rs. 7375',\n",
       " 'Rs. 8249',\n",
       " 'Rs. 7199',\n",
       " 'Rs. 9659',\n",
       " 'Rs. 9749',\n",
       " 'Rs. 7349',\n",
       " 'Rs. 6999',\n",
       " 'Rs. 11999',\n",
       " 'Rs. 6749',\n",
       " 'Rs. 7499',\n",
       " 'Rs. 7857',\n",
       " 'Rs. 6899',\n",
       " 'Rs. 7499',\n",
       " 'Rs. 7006',\n",
       " 'Rs. 7495',\n",
       " 'Rs. 8236',\n",
       " 'Rs. 12316',\n",
       " 'Rs. 8046',\n",
       " 'Rs. 12316',\n",
       " 'Rs. 7195',\n",
       " 'Rs. 7375',\n",
       " 'Rs. 7499',\n",
       " 'Rs. 7375',\n",
       " 'Rs. 8249',\n",
       " 'Rs. 7199',\n",
       " 'Rs. 9659',\n",
       " 'Rs. 9749',\n",
       " 'Rs. 7349',\n",
       " 'Rs. 6999',\n",
       " 'Rs. 11999',\n",
       " 'Rs. 6749',\n",
       " 'Rs. 7499',\n",
       " 'Rs. 7857',\n",
       " 'Rs. 6899',\n",
       " 'Rs. 7499',\n",
       " 'Rs. 7006',\n",
       " 'Rs. 7495',\n",
       " 'Rs. 8236',\n",
       " 'Rs. 12316',\n",
       " 'Rs. 8046',\n",
       " 'Rs. 12316',\n",
       " 'Rs. 7195',\n",
       " 'Rs. 7375',\n",
       " 'Rs. 7499',\n",
       " 'Rs. 7375',\n",
       " 'Rs. 8249',\n",
       " 'Rs. 7199',\n",
       " 'Rs. 9659',\n",
       " 'Rs. 9749',\n",
       " 'Rs. 7349',\n",
       " 'Rs. 6999',\n",
       " 'Rs. 11999',\n",
       " 'Rs. 6749',\n",
       " 'Rs. 7499',\n",
       " 'Rs. 7857',\n",
       " 'Rs. 6899',\n",
       " 'Rs. 7499',\n",
       " 'Rs. 7006',\n",
       " 'Rs. 7495']"
      ]
     },
     "execution_count": 249,
     "metadata": {},
     "output_type": "execute_result"
    }
   ],
   "source": [
    "price"
   ]
  },
  {
   "cell_type": "code",
   "execution_count": 250,
   "metadata": {},
   "outputs": [
    {
     "name": "stdout",
     "output_type": "stream",
     "text": [
      "100 100 110\n"
     ]
    }
   ],
   "source": [
    "print(len(shoe_brand),len(short_shoe_description),len(price))"
   ]
  },
  {
   "cell_type": "code",
   "execution_count": 251,
   "metadata": {},
   "outputs": [],
   "source": [
    "shoe=pd.DataFrame({})\n",
    "shoe['Shoe Brand']=shoe_brand\n",
    "shoe['Short Shoe Description']=short_shoe_description\n",
    "shoe['Price']=price[:100]"
   ]
  },
  {
   "cell_type": "code",
   "execution_count": 252,
   "metadata": {},
   "outputs": [
    {
     "data": {
      "text/html": [
       "<div>\n",
       "<style scoped>\n",
       "    .dataframe tbody tr th:only-of-type {\n",
       "        vertical-align: middle;\n",
       "    }\n",
       "\n",
       "    .dataframe tbody tr th {\n",
       "        vertical-align: top;\n",
       "    }\n",
       "\n",
       "    .dataframe thead th {\n",
       "        text-align: right;\n",
       "    }\n",
       "</style>\n",
       "<table border=\"1\" class=\"dataframe\">\n",
       "  <thead>\n",
       "    <tr style=\"text-align: right;\">\n",
       "      <th></th>\n",
       "      <th>Shoe Brand</th>\n",
       "      <th>Short Shoe Description</th>\n",
       "      <th>Price</th>\n",
       "    </tr>\n",
       "  </thead>\n",
       "  <tbody>\n",
       "    <tr>\n",
       "      <th>0</th>\n",
       "      <td>Nike</td>\n",
       "      <td>Men AIR ZOOM Running Shoes</td>\n",
       "      <td>Rs. 8236</td>\n",
       "    </tr>\n",
       "    <tr>\n",
       "      <th>1</th>\n",
       "      <td>Nike</td>\n",
       "      <td>LEBRON XVIII Basketball Shoes</td>\n",
       "      <td>Rs. 12316</td>\n",
       "    </tr>\n",
       "    <tr>\n",
       "      <th>2</th>\n",
       "      <td>Nike</td>\n",
       "      <td>Men JORDAN WHY NOT Basketball</td>\n",
       "      <td>Rs. 8046</td>\n",
       "    </tr>\n",
       "    <tr>\n",
       "      <th>3</th>\n",
       "      <td>ALDO</td>\n",
       "      <td>Men Sneakers</td>\n",
       "      <td>Rs. 12316</td>\n",
       "    </tr>\n",
       "    <tr>\n",
       "      <th>4</th>\n",
       "      <td>Nike</td>\n",
       "      <td>Unisex LEBRON XVIII Basketball</td>\n",
       "      <td>Rs. 7195</td>\n",
       "    </tr>\n",
       "    <tr>\n",
       "      <th>...</th>\n",
       "      <td>...</td>\n",
       "      <td>...</td>\n",
       "      <td>...</td>\n",
       "    </tr>\n",
       "    <tr>\n",
       "      <th>95</th>\n",
       "      <td>Geox</td>\n",
       "      <td>Men Leather Driving Shoes</td>\n",
       "      <td>Rs. 7375</td>\n",
       "    </tr>\n",
       "    <tr>\n",
       "      <th>96</th>\n",
       "      <td>KIPRUN By Decathlon</td>\n",
       "      <td>Women Running Shoes</td>\n",
       "      <td>Rs. 8249</td>\n",
       "    </tr>\n",
       "    <tr>\n",
       "      <th>97</th>\n",
       "      <td>Levis</td>\n",
       "      <td>Men Solid Sneakers</td>\n",
       "      <td>Rs. 7199</td>\n",
       "    </tr>\n",
       "    <tr>\n",
       "      <th>98</th>\n",
       "      <td>J.FONTINI</td>\n",
       "      <td>Men Textured Leather Loafers</td>\n",
       "      <td>Rs. 9659</td>\n",
       "    </tr>\n",
       "    <tr>\n",
       "      <th>99</th>\n",
       "      <td>Geox</td>\n",
       "      <td>Men Leather Formal Derbyacs</td>\n",
       "      <td>Rs. 9749</td>\n",
       "    </tr>\n",
       "  </tbody>\n",
       "</table>\n",
       "<p>100 rows × 3 columns</p>\n",
       "</div>"
      ],
      "text/plain": [
       "             Shoe Brand          Short Shoe Description      Price\n",
       "0                  Nike      Men AIR ZOOM Running Shoes   Rs. 8236\n",
       "1                  Nike   LEBRON XVIII Basketball Shoes  Rs. 12316\n",
       "2                  Nike   Men JORDAN WHY NOT Basketball   Rs. 8046\n",
       "3                  ALDO                    Men Sneakers  Rs. 12316\n",
       "4                  Nike  Unisex LEBRON XVIII Basketball   Rs. 7195\n",
       "..                  ...                             ...        ...\n",
       "95                 Geox       Men Leather Driving Shoes   Rs. 7375\n",
       "96  KIPRUN By Decathlon             Women Running Shoes   Rs. 8249\n",
       "97                Levis              Men Solid Sneakers   Rs. 7199\n",
       "98            J.FONTINI    Men Textured Leather Loafers   Rs. 9659\n",
       "99                 Geox     Men Leather Formal Derbyacs   Rs. 9749\n",
       "\n",
       "[100 rows x 3 columns]"
      ]
     },
     "execution_count": 252,
     "metadata": {},
     "output_type": "execute_result"
    }
   ],
   "source": [
    "shoe"
   ]
  },
  {
   "cell_type": "code",
   "execution_count": null,
   "metadata": {},
   "outputs": [],
   "source": []
  },
  {
   "cell_type": "code",
   "execution_count": null,
   "metadata": {},
   "outputs": [],
   "source": []
  },
  {
   "cell_type": "markdown",
   "metadata": {},
   "source": [
    "# Q10: Go to webpage https://www.amazon.in/\n",
    " Enter “Laptop” in the search field and then click the search icon.\n",
    " Then set CPU Type filter to “Intel Core i7” and “Intel Core i9” as shown in the \n",
    "below image:\n",
    "After setting the filters scrape first 10 laptops data. You have to scrape 3 attributes \n",
    "for each laptop:\n",
    "1. title\n",
    "2. Ratings\n",
    "3. Price\n",
    "As shown in the below image as the tick marked attributes"
   ]
  },
  {
   "cell_type": "code",
   "execution_count": 253,
   "metadata": {},
   "outputs": [],
   "source": [
    "driver = webdriver.Chrome(r\"C:\\Users\\Rajat Jibhkate\\Downloads\\chromedriver_win32\\chromedriver.exe\") "
   ]
  },
  {
   "cell_type": "code",
   "execution_count": 254,
   "metadata": {},
   "outputs": [],
   "source": [
    "url = \"https://www.amazon.in/\"\n",
    "driver.get(url)                         "
   ]
  },
  {
   "cell_type": "code",
   "execution_count": 256,
   "metadata": {},
   "outputs": [
    {
     "data": {
      "text/plain": [
       "<selenium.webdriver.remote.webelement.WebElement (session=\"0ee44704cd765f94e1c8241d444f08b4\", element=\"f769d080-2009-4947-acc5-ff639918d0d4\")>"
      ]
     },
     "execution_count": 256,
     "metadata": {},
     "output_type": "execute_result"
    }
   ],
   "source": [
    "search_bar = driver.find_element_by_id('twotabsearchtextbox')\n",
    "search_bar"
   ]
  },
  {
   "cell_type": "code",
   "execution_count": 257,
   "metadata": {},
   "outputs": [],
   "source": [
    "search_bar.send_keys(\"Laptop\")"
   ]
  },
  {
   "cell_type": "code",
   "execution_count": 258,
   "metadata": {},
   "outputs": [],
   "source": [
    "search_btn = driver.find_element_by_id('nav-search-submit-button')\n",
    "search_btn.click()"
   ]
  },
  {
   "cell_type": "code",
   "execution_count": 259,
   "metadata": {},
   "outputs": [],
   "source": [
    "filter_button = driver.find_elements_by_xpath(\"//span[@class='a-size-base a-color-base']\")\n",
    "for i in filter_button:\n",
    "    if i.text=='Intel Core i7':\n",
    "        i.click()\n",
    "        break"
   ]
  },
  {
   "cell_type": "code",
   "execution_count": 260,
   "metadata": {},
   "outputs": [],
   "source": [
    "filter_button = driver.find_elements_by_xpath(\"//span[@class='a-size-base a-color-base']\")\n",
    "for i in filter_button:\n",
    "    if i.text=='Intel Core i9':\n",
    "        i.click()\n",
    "        break"
   ]
  },
  {
   "cell_type": "code",
   "execution_count": 261,
   "metadata": {},
   "outputs": [
    {
     "data": {
      "text/plain": [
       "[<selenium.webdriver.remote.webelement.WebElement (session=\"0ee44704cd765f94e1c8241d444f08b4\", element=\"8bd9eff9-2c65-4088-9386-e6d42e3e914e\")>,\n",
       " <selenium.webdriver.remote.webelement.WebElement (session=\"0ee44704cd765f94e1c8241d444f08b4\", element=\"a0567f26-b4f5-40a6-9a57-b9b893ca627c\")>,\n",
       " <selenium.webdriver.remote.webelement.WebElement (session=\"0ee44704cd765f94e1c8241d444f08b4\", element=\"ae5b06ce-d85e-46ae-bd4f-88d891ac6d2e\")>,\n",
       " <selenium.webdriver.remote.webelement.WebElement (session=\"0ee44704cd765f94e1c8241d444f08b4\", element=\"0c5809ce-26f8-4307-9949-2f706cd0c457\")>,\n",
       " <selenium.webdriver.remote.webelement.WebElement (session=\"0ee44704cd765f94e1c8241d444f08b4\", element=\"ed7dbdb3-a915-4805-bd9d-91fbd464b77b\")>,\n",
       " <selenium.webdriver.remote.webelement.WebElement (session=\"0ee44704cd765f94e1c8241d444f08b4\", element=\"0e672daa-2afd-4662-8b46-d1f9f6732ff0\")>,\n",
       " <selenium.webdriver.remote.webelement.WebElement (session=\"0ee44704cd765f94e1c8241d444f08b4\", element=\"430b9122-3d55-42a0-abda-6fe0abf59703\")>,\n",
       " <selenium.webdriver.remote.webelement.WebElement (session=\"0ee44704cd765f94e1c8241d444f08b4\", element=\"ed826daa-6d58-48a4-b1cb-30f2a3958bda\")>,\n",
       " <selenium.webdriver.remote.webelement.WebElement (session=\"0ee44704cd765f94e1c8241d444f08b4\", element=\"2329d907-5d5f-49c6-b9fb-57ef8c95c154\")>,\n",
       " <selenium.webdriver.remote.webelement.WebElement (session=\"0ee44704cd765f94e1c8241d444f08b4\", element=\"7e750dc8-0442-4132-aff5-e2fac83ccbf5\")>,\n",
       " <selenium.webdriver.remote.webelement.WebElement (session=\"0ee44704cd765f94e1c8241d444f08b4\", element=\"23162f05-0c6b-47cc-b016-827417be524d\")>,\n",
       " <selenium.webdriver.remote.webelement.WebElement (session=\"0ee44704cd765f94e1c8241d444f08b4\", element=\"157254ea-3cbf-415e-a2f7-c229c5fce617\")>,\n",
       " <selenium.webdriver.remote.webelement.WebElement (session=\"0ee44704cd765f94e1c8241d444f08b4\", element=\"ced9c1ef-6465-48fc-bafc-a083743c9105\")>,\n",
       " <selenium.webdriver.remote.webelement.WebElement (session=\"0ee44704cd765f94e1c8241d444f08b4\", element=\"db674093-7e58-4d6d-9d17-4027438c597c\")>,\n",
       " <selenium.webdriver.remote.webelement.WebElement (session=\"0ee44704cd765f94e1c8241d444f08b4\", element=\"3d1b54e7-96f4-488b-a48a-56fea50b89f2\")>,\n",
       " <selenium.webdriver.remote.webelement.WebElement (session=\"0ee44704cd765f94e1c8241d444f08b4\", element=\"01efaabc-6ab9-4781-ade5-f25976d0060c\")>,\n",
       " <selenium.webdriver.remote.webelement.WebElement (session=\"0ee44704cd765f94e1c8241d444f08b4\", element=\"a4ab9dcb-fb9d-45ce-8071-b68869e0559a\")>,\n",
       " <selenium.webdriver.remote.webelement.WebElement (session=\"0ee44704cd765f94e1c8241d444f08b4\", element=\"46c59a45-e315-410f-a893-c86091dddf97\")>,\n",
       " <selenium.webdriver.remote.webelement.WebElement (session=\"0ee44704cd765f94e1c8241d444f08b4\", element=\"49587674-8c0d-4417-bc78-f569570e0feb\")>,\n",
       " <selenium.webdriver.remote.webelement.WebElement (session=\"0ee44704cd765f94e1c8241d444f08b4\", element=\"95620995-a853-44aa-b9d9-19c5bf21c54c\")>,\n",
       " <selenium.webdriver.remote.webelement.WebElement (session=\"0ee44704cd765f94e1c8241d444f08b4\", element=\"3c12555d-ed6c-4fcf-b5b7-ce12f6b5187d\")>,\n",
       " <selenium.webdriver.remote.webelement.WebElement (session=\"0ee44704cd765f94e1c8241d444f08b4\", element=\"53406f95-8aa8-4afc-bdd2-6a14375769dc\")>,\n",
       " <selenium.webdriver.remote.webelement.WebElement (session=\"0ee44704cd765f94e1c8241d444f08b4\", element=\"2dbb6ca0-12c3-4fe1-94c4-e5be5b3a4677\")>,\n",
       " <selenium.webdriver.remote.webelement.WebElement (session=\"0ee44704cd765f94e1c8241d444f08b4\", element=\"2cd886ae-e4e9-4a29-ac5f-39cae7e4bbc9\")>]"
      ]
     },
     "execution_count": 261,
     "metadata": {},
     "output_type": "execute_result"
    }
   ],
   "source": [
    "price = driver.find_elements_by_xpath(\"//span[@class='a-price-whole']\")\n",
    "price"
   ]
  },
  {
   "cell_type": "code",
   "execution_count": 262,
   "metadata": {},
   "outputs": [
    {
     "data": {
      "text/plain": [
       "['84,990',\n",
       " '71,999',\n",
       " '59,999',\n",
       " '81,990',\n",
       " '96,555',\n",
       " '76,990',\n",
       " '90,999',\n",
       " '78,990',\n",
       " '69,990',\n",
       " '88,990',\n",
       " '5,39,322',\n",
       " '49,999',\n",
       " '54,999',\n",
       " '76,990',\n",
       " '84,990',\n",
       " '83,990',\n",
       " '59,999',\n",
       " '54,999',\n",
       " '61,799',\n",
       " '42,999',\n",
       " '55,990',\n",
       " '39,999',\n",
       " '82,990',\n",
       " '96,733']"
      ]
     },
     "execution_count": 262,
     "metadata": {},
     "output_type": "execute_result"
    }
   ],
   "source": [
    "laptop_price=[]\n",
    "for i in price:\n",
    "    laptop_price.append(i.text)\n",
    "laptop_price   "
   ]
  },
  {
   "cell_type": "code",
   "execution_count": 263,
   "metadata": {},
   "outputs": [],
   "source": [
    "urls = []\n",
    "for i in driver.find_elements_by_xpath(\"//a[@class='a-link-normal a-text-normal']\"):\n",
    "    urls.append(i.get_attribute(\"href\"))"
   ]
  },
  {
   "cell_type": "code",
   "execution_count": 264,
   "metadata": {},
   "outputs": [
    {
     "data": {
      "text/plain": [
       "25"
      ]
     },
     "execution_count": 264,
     "metadata": {},
     "output_type": "execute_result"
    }
   ],
   "source": [
    "len(urls)"
   ]
  },
  {
   "cell_type": "code",
   "execution_count": 265,
   "metadata": {},
   "outputs": [],
   "source": [
    "laptop_titles=[]\n",
    "laptop_ratings=[]"
   ]
  },
  {
   "cell_type": "code",
   "execution_count": 266,
   "metadata": {},
   "outputs": [],
   "source": [
    "for i in urls[:10]:\n",
    "    driver.get(i)\n",
    "    time.sleep(3)\n",
    "    \n",
    "    \n",
    "    try:\n",
    "        titles = driver.find_element_by_xpath(\"//span[@class='a-size-large product-title-word-break']\")\n",
    "        laptop_titles.append(titles.text)\n",
    "    except:\n",
    "        laptop_titles.append(\"-\")\n",
    "        \n",
    "        \n",
    "        \n",
    "    try:\n",
    "        ratings=driver.find_element_by_xpath(\"//span[@class='a-size-medium a-color-base']\")\n",
    "        laptop_ratings.append(ratings.text)\n",
    "    except:\n",
    "        laptop_ratings.append(\"-\")\n",
    "              "
   ]
  },
  {
   "cell_type": "code",
   "execution_count": 268,
   "metadata": {},
   "outputs": [
    {
     "name": "stdout",
     "output_type": "stream",
     "text": [
      "10 10 24\n"
     ]
    }
   ],
   "source": [
    "print(len(laptop_titles),len(laptop_ratings),len(laptop_price))"
   ]
  },
  {
   "cell_type": "code",
   "execution_count": 269,
   "metadata": {},
   "outputs": [],
   "source": [
    "amazon=pd.DataFrame({})\n",
    "amazon['Laptop Title']=laptop_titles[:10]\n",
    "amazon['Latop Rating']=laptop_ratings[:10]\n",
    "amazon['Laptop Price']=laptop_price[:10]"
   ]
  },
  {
   "cell_type": "code",
   "execution_count": 270,
   "metadata": {},
   "outputs": [
    {
     "data": {
      "text/html": [
       "<div>\n",
       "<style scoped>\n",
       "    .dataframe tbody tr th:only-of-type {\n",
       "        vertical-align: middle;\n",
       "    }\n",
       "\n",
       "    .dataframe tbody tr th {\n",
       "        vertical-align: top;\n",
       "    }\n",
       "\n",
       "    .dataframe thead th {\n",
       "        text-align: right;\n",
       "    }\n",
       "</style>\n",
       "<table border=\"1\" class=\"dataframe\">\n",
       "  <thead>\n",
       "    <tr style=\"text-align: right;\">\n",
       "      <th></th>\n",
       "      <th>Laptop Title</th>\n",
       "      <th>Latop Rating</th>\n",
       "      <th>Laptop Price</th>\n",
       "    </tr>\n",
       "  </thead>\n",
       "  <tbody>\n",
       "    <tr>\n",
       "      <th>0</th>\n",
       "      <td>HP Pavilion (2021) Thin &amp; Light 11th Gen Core ...</td>\n",
       "      <td>4.4 out of 5</td>\n",
       "      <td>84,990</td>\n",
       "    </tr>\n",
       "    <tr>\n",
       "      <th>1</th>\n",
       "      <td>(Renewed) Dell Intel Core i7 7th Gen12.5 Inch(...</td>\n",
       "      <td>-</td>\n",
       "      <td>71,999</td>\n",
       "    </tr>\n",
       "    <tr>\n",
       "      <th>2</th>\n",
       "      <td>Mi Notebook Horizon Edition 14 Intel Core i7-1...</td>\n",
       "      <td>4.4 out of 5</td>\n",
       "      <td>59,999</td>\n",
       "    </tr>\n",
       "    <tr>\n",
       "      <th>3</th>\n",
       "      <td>ASUS TUF Gaming F15, 15.6\" FHD 144Hz, Intel Co...</td>\n",
       "      <td>4.5 out of 5</td>\n",
       "      <td>81,990</td>\n",
       "    </tr>\n",
       "    <tr>\n",
       "      <th>4</th>\n",
       "      <td>HP Pavilion Gaming 10th Gen Intel Core i7 Proc...</td>\n",
       "      <td>4.2 out of 5</td>\n",
       "      <td>96,555</td>\n",
       "    </tr>\n",
       "    <tr>\n",
       "      <th>5</th>\n",
       "      <td>HP Pavilion x360 (2021) 14\" (35.56cms) FHD Tou...</td>\n",
       "      <td>4 out of 5</td>\n",
       "      <td>76,990</td>\n",
       "    </tr>\n",
       "    <tr>\n",
       "      <th>6</th>\n",
       "      <td>Dell 14 (2021) i7-1165G7 2in1 Touch Screen Lap...</td>\n",
       "      <td>4.6 out of 5</td>\n",
       "      <td>90,999</td>\n",
       "    </tr>\n",
       "    <tr>\n",
       "      <th>7</th>\n",
       "      <td>Dell Inspiron 15 Gaming 7567 15.6-inch Laptop ...</td>\n",
       "      <td>2.7 out of 5</td>\n",
       "      <td>78,990</td>\n",
       "    </tr>\n",
       "    <tr>\n",
       "      <th>8</th>\n",
       "      <td>Lenovo Legion Y540 Intel Core i7 9th Gen 15.6”...</td>\n",
       "      <td>4.3 out of 5</td>\n",
       "      <td>69,990</td>\n",
       "    </tr>\n",
       "    <tr>\n",
       "      <th>9</th>\n",
       "      <td>HP 14 Thin &amp; Light 14\" (35.56cms) FHD Laptop (...</td>\n",
       "      <td>4.6 out of 5</td>\n",
       "      <td>88,990</td>\n",
       "    </tr>\n",
       "  </tbody>\n",
       "</table>\n",
       "</div>"
      ],
      "text/plain": [
       "                                        Laptop Title  Latop Rating  \\\n",
       "0  HP Pavilion (2021) Thin & Light 11th Gen Core ...  4.4 out of 5   \n",
       "1  (Renewed) Dell Intel Core i7 7th Gen12.5 Inch(...             -   \n",
       "2  Mi Notebook Horizon Edition 14 Intel Core i7-1...  4.4 out of 5   \n",
       "3  ASUS TUF Gaming F15, 15.6\" FHD 144Hz, Intel Co...  4.5 out of 5   \n",
       "4  HP Pavilion Gaming 10th Gen Intel Core i7 Proc...  4.2 out of 5   \n",
       "5  HP Pavilion x360 (2021) 14\" (35.56cms) FHD Tou...    4 out of 5   \n",
       "6  Dell 14 (2021) i7-1165G7 2in1 Touch Screen Lap...  4.6 out of 5   \n",
       "7  Dell Inspiron 15 Gaming 7567 15.6-inch Laptop ...  2.7 out of 5   \n",
       "8  Lenovo Legion Y540 Intel Core i7 9th Gen 15.6”...  4.3 out of 5   \n",
       "9  HP 14 Thin & Light 14\" (35.56cms) FHD Laptop (...  4.6 out of 5   \n",
       "\n",
       "  Laptop Price  \n",
       "0       84,990  \n",
       "1       71,999  \n",
       "2       59,999  \n",
       "3       81,990  \n",
       "4       96,555  \n",
       "5       76,990  \n",
       "6       90,999  \n",
       "7       78,990  \n",
       "8       69,990  \n",
       "9       88,990  "
      ]
     },
     "execution_count": 270,
     "metadata": {},
     "output_type": "execute_result"
    }
   ],
   "source": [
    "amazon"
   ]
  }
 ],
 "metadata": {
  "kernelspec": {
   "display_name": "Python 3",
   "language": "python",
   "name": "python3"
  },
  "language_info": {
   "codemirror_mode": {
    "name": "ipython",
    "version": 3
   },
   "file_extension": ".py",
   "mimetype": "text/x-python",
   "name": "python",
   "nbconvert_exporter": "python",
   "pygments_lexer": "ipython3",
   "version": "3.8.5"
  }
 },
 "nbformat": 4,
 "nbformat_minor": 4
}
